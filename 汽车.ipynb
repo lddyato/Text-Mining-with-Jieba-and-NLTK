{
 "cells": [
  {
   "cell_type": "code",
   "execution_count": 1,
   "metadata": {
    "collapsed": false
   },
   "outputs": [],
   "source": [
    "import jieba\n",
    "import xlrd\n",
    "import sys"
   ]
  },
  {
   "cell_type": "code",
   "execution_count": 2,
   "metadata": {
    "collapsed": true
   },
   "outputs": [],
   "source": [
    "if sys.version[0] == '2':\n",
    "    reload(sys)\n",
    "    sys.setdefaultencoding(\"utf-8\")"
   ]
  },
  {
   "cell_type": "code",
   "execution_count": 3,
   "metadata": {
    "collapsed": false
   },
   "outputs": [
    {
     "data": {
      "text/plain": [
       "<xlrd.book.Book at 0x23fbdd809b0>"
      ]
     },
     "execution_count": 3,
     "metadata": {},
     "output_type": "execute_result"
    }
   ],
   "source": [
    "workbook=xlrd.open_workbook('mysheet.xlsx')\n",
    "workbook"
   ]
  },
  {
   "cell_type": "code",
   "execution_count": 4,
   "metadata": {
    "collapsed": false
   },
   "outputs": [
    {
     "data": {
      "text/plain": [
       "<xlrd.sheet.Sheet at 0x23fbdda9048>"
      ]
     },
     "execution_count": 4,
     "metadata": {},
     "output_type": "execute_result"
    }
   ],
   "source": [
    "worksheet = workbook.sheet_by_name('nnsheet')\n",
    "worksheet"
   ]
  },
  {
   "cell_type": "code",
   "execution_count": 5,
   "metadata": {
    "collapsed": false
   },
   "outputs": [
    {
     "data": {
      "text/plain": [
       "561"
      ]
     },
     "execution_count": 5,
     "metadata": {},
     "output_type": "execute_result"
    }
   ],
   "source": [
    "nrows = worksheet.nrows\n",
    "nrows"
   ]
  },
  {
   "cell_type": "code",
   "execution_count": 6,
   "metadata": {
    "collapsed": false
   },
   "outputs": [
    {
     "data": {
      "text/plain": [
       "9"
      ]
     },
     "execution_count": 6,
     "metadata": {},
     "output_type": "execute_result"
    }
   ],
   "source": [
    "ncols = worksheet.ncols\n",
    "ncols"
   ]
  },
  {
   "cell_type": "code",
   "execution_count": 7,
   "metadata": {
    "collapsed": false
   },
   "outputs": [
    {
     "data": {
      "text/plain": [
       "'︎ 5月23号，在济南奥体中心体育馆，现场有宝马，奔驰，mini等大奖，悠家独家演唱会，即将开启——︎ 我们与你不见不散'"
      ]
     },
     "execution_count": 7,
     "metadata": {},
     "output_type": "execute_result"
    }
   ],
   "source": [
    "worksheet.col(0)[1].value"
   ]
  },
  {
   "cell_type": "code",
   "execution_count": 8,
   "metadata": {
    "collapsed": false,
    "scrolled": true
   },
   "outputs": [
    {
     "name": "stderr",
     "output_type": "stream",
     "text": [
      "Building prefix dict from the default dictionary ...\n",
      "Loading model from cache C:\\Users\\ADMINI~1\\AppData\\Local\\Temp\\jieba.cache\n",
      "Loading model cost 1.546 seconds.\n",
      "Prefix dict has been built succesfully.\n"
     ]
    }
   ],
   "source": [
    "count =1\n",
    "for i in range(1,nrows):\n",
    "    jieba1 = jieba.cut(worksheet.col(0)[i].value, cut_all=False) #精确模式\n",
    "    for x in jieba1:\n",
    "        if x != '':\n",
    "            f = open('car.txt','a+', encoding='utf-8')\n",
    "            f.write(x)\n",
    "            f.write('\\n')\n",
    "            f.close()\n",
    "        else:\n",
    "            print(u'关键词为空')"
   ]
  },
  {
   "cell_type": "code",
   "execution_count": null,
   "metadata": {
    "collapsed": true
   },
   "outputs": [],
   "source": []
  },
  {
   "cell_type": "code",
   "execution_count": 42,
   "metadata": {
    "collapsed": false
   },
   "outputs": [
    {
     "data": {
      "text/plain": [
       "[(' ', 479),\n",
       " ('，', 450),\n",
       " ('的', 296),\n",
       " ('宝马', 192),\n",
       " ('/', 141),\n",
       " ('。', 125),\n",
       " ('！', 114),\n",
       " ('了', 111),\n",
       " ('@', 87),\n",
       " ('#', 80),\n",
       " ('全新', 66),\n",
       " (':', 63),\n",
       " ('雷克萨斯', 57),\n",
       " ('？', 55),\n",
       " ('在', 53),\n",
       " ('是', 53),\n",
       " ('将', 53),\n",
       " ('汽车', 52),\n",
       " ('系', 50),\n",
       " ('我', 49)]"
      ]
     },
     "execution_count": 42,
     "metadata": {},
     "output_type": "execute_result"
    }
   ],
   "source": [
    "import nltk\n",
    "list = []\n",
    "with open('car.txt','r',encoding='utf-8') as f:    #打开结巴分好的词文本A\n",
    "    lines = f.readlines()\n",
    "    for x in lines:\n",
    "        list.append(x.strip('\\n'))    #添加到列表\n",
    "        f.close()    #关闭文本A\n",
    "\n",
    "fdist1 = nltk.FreqDist(list)    #去重 + 词频统计\n",
    "fdist1.most_common(20)"
   ]
  },
  {
   "cell_type": "code",
   "execution_count": null,
   "metadata": {
    "collapsed": true
   },
   "outputs": [],
   "source": []
  },
  {
   "cell_type": "code",
   "execution_count": 43,
   "metadata": {
    "collapsed": false
   },
   "outputs": [
    {
     "data": {
      "text/plain": [
       "[('宝马', 192),\n",
       " ('全新', 66),\n",
       " ('雷克萨斯', 57),\n",
       " ('汽车', 52),\n",
       " ('奔驰', 48),\n",
       " ('车展', 45),\n",
       " ('车型', 36),\n",
       " ('上海', 34),\n",
       " ('Acura', 30),\n",
       " ('奥迪', 30),\n",
       " ('宝沃', 30),\n",
       " ('我们', 29),\n",
       " ('BMW', 29),\n",
       " ('直播', 26),\n",
       " ('上市', 26),\n",
       " ('优惠', 24),\n",
       " ('SUV', 23),\n",
       " ('LS', 22),\n",
       " ('一个', 22),\n",
       " ('新车', 22),\n",
       " ('讴歌', 22),\n",
       " ('这个', 22),\n",
       " ('喜欢', 19),\n",
       " ('现场', 18),\n",
       " ('全球', 18),\n",
       " ('Lexus', 18),\n",
       " ('市场', 18),\n",
       " ('Amazing', 17),\n",
       " ('Driving', 17),\n",
       " ('推出', 16),\n",
       " ('今天', 16),\n",
       " ('strong', 16),\n",
       " ('taggedby', 16),\n",
       " ('hylanda', 16),\n",
       " ('品牌', 15),\n",
       " ('设计', 15),\n",
       " ('国产', 15),\n",
       " ('中国', 15),\n",
       " ('性能', 14),\n",
       " ('发动机', 14),\n",
       " ('可以', 14),\n",
       " ('专家', 13),\n",
       " ('跑车', 13),\n",
       " ('哈哈哈', 13),\n",
       " ('开启', 12),\n",
       " ('超跑', 12),\n",
       " ('什么', 12),\n",
       " ('车身', 12),\n",
       " ('万元', 12),\n",
       " ('进口', 12),\n",
       " ('丰田', 12),\n",
       " ('展台', 11),\n",
       " ('驾驶', 11),\n",
       " ('LC', 11),\n",
       " ('传奇', 11),\n",
       " ('德系', 11),\n",
       " ('庞巴迪', 11),\n",
       " ('知道', 11),\n",
       " ('体验', 10),\n",
       " ('进行', 10),\n",
       " ('视频', 10),\n",
       " ('运动', 10),\n",
       " ('豪华', 10),\n",
       " ('热点话题', 10),\n",
       " ('年前', 10),\n",
       " ('第一代', 10),\n",
       " ('震撼', 10),\n",
       " ('豪华车', 10),\n",
       " ('美系', 10),\n",
       " ('发布', 10),\n",
       " ('采用', 10),\n",
       " ('多少', 10),\n",
       " ('引擎', 10),\n",
       " ('平台', 10),\n",
       " ('正式', 10),\n",
       " ('自己', 10),\n",
       " ('售价', 10),\n",
       " ('对比', 10),\n",
       " ('还有', 10),\n",
       " ('PERFORMANCE', 9),\n",
       " ('SHOP', 9),\n",
       " ('记住', 9),\n",
       " ('四强', 9),\n",
       " ('戴姆勒', 9),\n",
       " ('曼利', 9),\n",
       " ('海尔', 9),\n",
       " ('伊特', 9),\n",
       " ('西门子', 9),\n",
       " ('现在', 9),\n",
       " ('就是', 9),\n",
       " ('未来', 9),\n",
       " ('动力', 9),\n",
       " ('改装', 9),\n",
       " ('自动', 9),\n",
       " ('亮相', 9),\n",
       " ('高达', 9),\n",
       " ('华晨', 9),\n",
       " ('感受', 9),\n",
       " ('欢迎', 9),\n",
       " ('还是', 9),\n",
       " ('解读', 9),\n",
       " ('厉害', 8),\n",
       " ('这款', 8),\n",
       " ('一款', 8),\n",
       " ('内饰', 8),\n",
       " ('最新', 8),\n",
       " ('增压', 8),\n",
       " ('套件', 8),\n",
       " ('一定', 8),\n",
       " ('价格', 8),\n",
       " ('这么', 8),\n",
       " ('搭载', 8),\n",
       " ('不用', 8),\n",
       " ('在线', 8),\n",
       " ('姿势', 8),\n",
       " ('快递', 7),\n",
       " ('好看', 7),\n",
       " ('AMG', 7),\n",
       " ('外观', 7),\n",
       " ('一代', 7),\n",
       " ('打造', 7),\n",
       " ('国际', 7),\n",
       " ('杨洋', 7),\n",
       " ('促销', 7),\n",
       " ('空间', 7),\n",
       " ('没有', 7),\n",
       " ('不是', 7),\n",
       " ('期待', 7),\n",
       " ('经典', 7),\n",
       " ('隔空', 7),\n",
       " ('解锁', 7),\n",
       " ('足不出户', 7),\n",
       " ('赏车', 7),\n",
       " ('正在', 7),\n",
       " ('盛况', 7),\n",
       " ('坐镇', 7),\n",
       " ('各款', 7),\n",
       " ('答疑', 7),\n",
       " ('解惑', 7),\n",
       " ('错过', 6),\n",
       " ('小哥', 6),\n",
       " ('电视', 6),\n",
       " ('预计', 6),\n",
       " ('明年', 6),\n",
       " ('娱乐', 6),\n",
       " ('一辆', 6),\n",
       " ('配置', 6),\n",
       " ('最大', 6),\n",
       " ('技术', 6),\n",
       " ('旗下', 6),\n",
       " ('基于', 6),\n",
       " ('时尚', 6),\n",
       " ('LED', 6),\n",
       " ('曝光', 6),\n",
       " ('二手车', 6),\n",
       " ('提升', 6),\n",
       " ('沃尔沃', 6),\n",
       " ('排行榜', 6),\n",
       " ('功能', 6),\n",
       " ('碳纤维', 6),\n",
       " ('一次', 6),\n",
       " ('这样', 6),\n",
       " ('车子', 6),\n",
       " ('实拍', 6),\n",
       " ('对手', 6),\n",
       " ('了解', 6),\n",
       " ('韩路', 6),\n",
       " ('对战', 6),\n",
       " ('黑色', 5),\n",
       " ('日前', 5),\n",
       " ('版本', 5),\n",
       " ('竞争对手', 5),\n",
       " ('头条新闻', 5),\n",
       " ('非凡', 5),\n",
       " ('令人激动', 5),\n",
       " ('北京', 5),\n",
       " ('真是', 5),\n",
       " ('ES', 5),\n",
       " ('怎么', 5),\n",
       " ('试驾', 5),\n",
       " ('一台', 5),\n",
       " ('系统', 5),\n",
       " ('轴距', 5),\n",
       " ('销售', 5),\n",
       " ('全景', 5),\n",
       " ('天窗', 5),\n",
       " ('大灯', 5),\n",
       " ('目前', 5),\n",
       " ('有望', 5),\n",
       " ('首款', 5),\n",
       " ('MPV', 5),\n",
       " ('公里', 5),\n",
       " ('购车', 5),\n",
       " ('NX', 5),\n",
       " ('加长', 5),\n",
       " ('最新消息', 5),\n",
       " ('其实', 5),\n",
       " ('展开', 5),\n",
       " ('销量', 5),\n",
       " ('新款', 5),\n",
       " ('增加', 5),\n",
       " ('方面', 5),\n",
       " ('机会', 5),\n",
       " ('本田', 5),\n",
       " ('自主', 5),\n",
       " ('很多', 5),\n",
       " ('首发', 5),\n",
       " ('分享', 5),\n",
       " ('看上去', 5),\n",
       " ('这次', 5),\n",
       " ('长安', 5),\n",
       " ('百度', 5),\n",
       " ('全面', 5),\n",
       " ('这是', 5),\n",
       " ('真的', 5),\n",
       " ('即将', 4),\n",
       " ('首次', 4),\n",
       " ('感觉', 4),\n",
       " ('一起', 4),\n",
       " ('高性能', 4),\n",
       " ('其他', 4),\n",
       " ('可惜', 4),\n",
       " ('三缸', 4),\n",
       " ('TCL', 4),\n",
       " ('这里', 4),\n",
       " ('已经', 4),\n",
       " ('如何', 4),\n",
       " ('春季', 4),\n",
       " ('电动', 4),\n",
       " ('科技', 4),\n",
       " ('马力', 4),\n",
       " ('限量版', 4),\n",
       " ('十分', 4),\n",
       " ('无人驾驶', 4),\n",
       " ('定制', 4),\n",
       " ('敞篷', 4),\n",
       " ('同时', 4),\n",
       " ('机械', 4),\n",
       " ('近日', 4),\n",
       " ('四驱', 4),\n",
       " ('造型', 4),\n",
       " ('GS', 4),\n",
       " ('值得', 4),\n",
       " ('座椅', 4),\n",
       " ('变速箱', 4),\n",
       " ('召回', 4),\n",
       " ('竞争', 4),\n",
       " ('概念车', 4),\n",
       " ('限时', 4),\n",
       " ('试乘试驾', 4),\n",
       " ('以及', 4),\n",
       " ('双涡轮', 4),\n",
       " ('年内', 4),\n",
       " ('宣布', 4),\n",
       " ('阿尔法', 4),\n",
       " ('罗密欧', 4),\n",
       " ('新能源', 4),\n",
       " ('特斯拉', 4),\n",
       " ('实现', 4),\n",
       " ('惊艳', 4),\n",
       " ('全文', 4),\n",
       " ('级车', 4),\n",
       " ('照曝光', 4),\n",
       " ('大众', 4),\n",
       " ('图片', 4),\n",
       " ('其中', 4),\n",
       " ('包含', 4),\n",
       " ('万辆', 4),\n",
       " ('车主', 4),\n",
       " ('如果', 4),\n",
       " ('现车', 4),\n",
       " ('获得', 4),\n",
       " ('垂询', 4),\n",
       " ('官方', 4),\n",
       " ('国内', 4),\n",
       " ('梦想', 4),\n",
       " ('天使', 4),\n",
       " ('不能', 4),\n",
       " ('服务', 4),\n",
       " ('苹果', 4),\n",
       " ('topic', 4),\n",
       " ('普及', 4),\n",
       " ('体育馆', 3),\n",
       " ('线上', 3),\n",
       " ('一种', 3),\n",
       " ('哈哈', 3),\n",
       " ('那个', 3),\n",
       " ('保安', 3),\n",
       " ('环保', 3),\n",
       " ('测评', 3),\n",
       " ('RS', 3),\n",
       " ('速度', 3),\n",
       " ('激情', 3),\n",
       " ('客户', 3),\n",
       " ('这台', 3),\n",
       " ('Turbo', 3),\n",
       " ('超级', 3),\n",
       " ('小时', 3),\n",
       " ('瑞虎', 3),\n",
       " ('相约', 3),\n",
       " ('打开', 3),\n",
       " ('CLA', 3),\n",
       " ('作为', 3),\n",
       " ('到底', 3),\n",
       " ('项目', 3),\n",
       " ('提供', 3),\n",
       " ('选择', 3),\n",
       " ('涂装', 3),\n",
       " ('搭配', 3),\n",
       " ('质感', 3),\n",
       " ('轮毂', 3),\n",
       " ('东风', 3),\n",
       " ('语言', 3),\n",
       " ('新增', 3),\n",
       " ('海外', 3),\n",
       " ('获悉', 3),\n",
       " ('标配', 3),\n",
       " ('便宜', 3),\n",
       " ('三生', 3),\n",
       " ('icon', 3),\n",
       " ('微博', 3),\n",
       " ('燃料电池', 3),\n",
       " ('尺寸', 3),\n",
       " ('今年', 3),\n",
       " ('怎么样', 3),\n",
       " ('分期', 3),\n",
       " ('全国', 3),\n",
       " ('试谍', 3),\n",
       " ('媒体', 3),\n",
       " ('高端', 3),\n",
       " ('保时捷', 3),\n",
       " ('最高', 3),\n",
       " ('GX', 3),\n",
       " ('GLC', 3),\n",
       " ('此外', 3),\n",
       " ('英菲尼迪', 3),\n",
       " ('并且', 3),\n",
       " ('这些', 3),\n",
       " ('来袭', 3),\n",
       " ('一体', 3),\n",
       " ('变革', 3),\n",
       " ('看点', 3),\n",
       " ('地方', 3),\n",
       " ('月份', 3),\n",
       " ('宾利', 3),\n",
       " ('长轴', 3),\n",
       " ('很大', 3),\n",
       " ('万起', 3),\n",
       " ('使用', 3),\n",
       " ('轻量化', 3),\n",
       " ('直列', 3),\n",
       " ('问题', 3),\n",
       " ('涉及', 3),\n",
       " ('试车手', 3),\n",
       " ('漂移', 3),\n",
       " ('成为', 3),\n",
       " ('社长', 3),\n",
       " ('量产', 3),\n",
       " ('首度', 3),\n",
       " ('保养', 3),\n",
       " ('车辆', 3),\n",
       " ('油耗', 3),\n",
       " ('确实', 3),\n",
       " ('好车', 3),\n",
       " ('比较', 3),\n",
       " ('新一代', 3),\n",
       " ('热销', 3),\n",
       " ('买车', 3),\n",
       " ('模块化', 3),\n",
       " ('整车', 3),\n",
       " ('入门', 3),\n",
       " ('有限公司', 3),\n",
       " ('开始', 3),\n",
       " ('东西', 3),\n",
       " ('抵押', 3),\n",
       " ('需要', 3),\n",
       " ('现金', 3),\n",
       " ('别克', 3),\n",
       " ('插电', 3),\n",
       " ('奇瑞', 3),\n",
       " ('风格', 3),\n",
       " ('得益于', 3),\n",
       " ('只不过', 3),\n",
       " ('前脸', 3),\n",
       " ('Model', 3),\n",
       " ('赏鉴', 3),\n",
       " ('关注', 3),\n",
       " ('日产', 3),\n",
       " ('Li', 3),\n",
       " ('直接', 3),\n",
       " ('有意思', 3),\n",
       " ('混合', 3),\n",
       " ('必须', 3),\n",
       " ('重要', 3),\n",
       " ('GTR', 3),\n",
       " ('宝马车', 3),\n",
       " ('哈弗', 3),\n",
       " ('越来越', 3),\n",
       " ('想要', 3),\n",
       " ('混动', 3),\n",
       " ('甚至', 3),\n",
       " ('朋友', 3),\n",
       " ('非常', 3),\n",
       " ('有钱', 3),\n",
       " ('银行', 3),\n",
       " ('觉得', 3),\n",
       " ('有点', 3),\n",
       " ('转发', 3),\n",
       " ('显示', 3),\n",
       " ('车款', 3),\n",
       " ('不要', 3),\n",
       " ('豪华版', 3),\n",
       " ('改款', 3),\n",
       " ('太棒了', 3),\n",
       " ('不错', 3),\n",
       " ('公司', 3),\n",
       " ('笑傲江湖', 3),\n",
       " ('两个', 3),\n",
       " ('他们', 3),\n",
       " ('济南', 2),\n",
       " ('不见不散', 2),\n",
       " ('虚拟', 2),\n",
       " ('老车', 2),\n",
       " ('近距离', 2),\n",
       " ('观赏', 2),\n",
       " ('网红', 2),\n",
       " ('更加', 2),\n",
       " ('享受', 2),\n",
       " ('嘻嘻', 2),\n",
       " ('那些', 2),\n",
       " ('二手', 2),\n",
       " ('外媒', 2),\n",
       " ('一组', 2),\n",
       " ('该车', 2),\n",
       " ('Coupe', 2),\n",
       " ('改色', 2),\n",
       " ('换车', 2),\n",
       " ('公家', 2),\n",
       " ('不会', 2),\n",
       " ('之美', 2),\n",
       " ('师兄', 2),\n",
       " ('Panamera', 2),\n",
       " ('离合', 2),\n",
       " ('个人', 2),\n",
       " ('欧玛', 2),\n",
       " ('omar', 2),\n",
       " ('很漂亮', 2),\n",
       " ('政策', 2),\n",
       " ('逼到', 2),\n",
       " ('一直', 2),\n",
       " ('喜爱', 2),\n",
       " ('程度', 2),\n",
       " ('低于', 2),\n",
       " ('百合', 2),\n",
       " ('男人', 2),\n",
       " ('竟是', 2),\n",
       " ('感谢', 2),\n",
       " ('努力', 2),\n",
       " ('管家', 2),\n",
       " ('日内瓦', 2),\n",
       " ('探馆', 2),\n",
       " ('柯迪', 2),\n",
       " ('亚克', 2),\n",
       " ('看好', 2),\n",
       " ('行业', 2),\n",
       " ('开幕', 2),\n",
       " ('共享', 2),\n",
       " ('尾段', 2),\n",
       " ('倒计时', 2),\n",
       " ('十足', 2),\n",
       " ('电子', 2),\n",
       " ('Edition', 2),\n",
       " ('配色', 2),\n",
       " ('揭秘', 2),\n",
       " ('明星', 2),\n",
       " ('大腕', 2),\n",
       " ('用车', 2),\n",
       " ('Rampant', 2),\n",
       " ('Carlex', 2),\n",
       " ('Design', 2),\n",
       " ('配备', 2),\n",
       " ('前后', 2),\n",
       " ('保险杠', 2),\n",
       " ('评测', 2),\n",
       " ('追求', 2),\n",
       " ('镀铬', 2),\n",
       " ('据悉', 2),\n",
       " ('高于', 2),\n",
       " ('奔腾', 2),\n",
       " ('红色', 2),\n",
       " ('NSX', 2),\n",
       " ('清单', 2),\n",
       " ('Lysholm', 2),\n",
       " ('AEM', 2),\n",
       " ('电脑', 2),\n",
       " ('四缸', 2),\n",
       " ('家族', 2),\n",
       " ('最快', 2),\n",
       " ('夜华', 2),\n",
       " ('三世', 2),\n",
       " ('十里', 2),\n",
       " ('携手', 2),\n",
       " ('无匙', 2),\n",
       " ('启动', 2),\n",
       " ('后排', 2),\n",
       " ('雷达', 2),\n",
       " ('多万', 2),\n",
       " ('分别', 2),\n",
       " ('进气口', 2),\n",
       " ('辨识', 2),\n",
       " ('看出', 2),\n",
       " ('王子', 2),\n",
       " ('辣模', 2),\n",
       " ('演绎', 2),\n",
       " ('绝美', 2),\n",
       " ('湿身', 2),\n",
       " ('诱惑', 2),\n",
       " ('时间', 2),\n",
       " ('有些', 2),\n",
       " ('假想', 2),\n",
       " ('奔跑', 2),\n",
       " ('大礼包', 2),\n",
       " ('全车', 2),\n",
       " ('详解', 2),\n",
       " ('产品', 2),\n",
       " ('手自', 2),\n",
       " ('凯迪拉克', 2),\n",
       " ('下半年', 2),\n",
       " ('先发', 2),\n",
       " ('取决于', 2),\n",
       " ('发展', 2),\n",
       " ('取得', 2),\n",
       " ('不到', 2),\n",
       " ('至今', 2),\n",
       " ('烧钱', 2),\n",
       " ('盈利', 2),\n",
       " ('最具', 2),\n",
       " ('中心', 2),\n",
       " ('小型', 2),\n",
       " ('二战', 2),\n",
       " ('飞机', 2),\n",
       " ('虽然', 2),\n",
       " ('全部', 2),\n",
       " ('哪个', 2),\n",
       " ('一面', 2),\n",
       " ('妹子', 2),\n",
       " ('如此', 2),\n",
       " ('白色', 2),\n",
       " ('轮胎', 2),\n",
       " ('长轴距', 2),\n",
       " ('版官', 2),\n",
       " ('正道', 2),\n",
       " ('多处', 2),\n",
       " ('AC', 2),\n",
       " ('Schitzer', 2),\n",
       " ('材质', 2),\n",
       " ('后视镜', 2),\n",
       " ('外壳', 2),\n",
       " ('车顶', 2),\n",
       " ('不仅', 2),\n",
       " ('降低', 2),\n",
       " ('重量', 2),\n",
       " ('尾翼', 2),\n",
       " ('英寸', 2),\n",
       " ('轮圈', 2),\n",
       " ('做出', 2),\n",
       " ('依然', 2),\n",
       " ('六缸', 2),\n",
       " ('功率', 2),\n",
       " ('意大利', 2),\n",
       " ('发力', 2),\n",
       " ('逼格', 2),\n",
       " ('摩托车', 2),\n",
       " ('开车', 2),\n",
       " ('Master', 2),\n",
       " ('Driver', 2),\n",
       " ('首席', 2),\n",
       " ('带来', 2),\n",
       " ('支持', 2),\n",
       " ('世纪', 2),\n",
       " ('商业', 2),\n",
       " ('评论', 2),\n",
       " ('个赞', 2),\n",
       " ('今日', 2),\n",
       " ('加拿大', 2),\n",
       " ('难道', 2),\n",
       " ('英国', 2),\n",
       " ('遥控', 2),\n",
       " ('停车', 2),\n",
       " ('换代', 2),\n",
       " ('细节', 2),\n",
       " ('哪些', 2),\n",
       " ('德国', 2),\n",
       " ('失望', 2),\n",
       " ('不想', 2),\n",
       " ('汽车销量', 2),\n",
       " ('轿车', 2),\n",
       " ('迎来', 2),\n",
       " ('填鸭式', 2),\n",
       " ('教育', 2),\n",
       " ('受害者', 2),\n",
       " ('衍生', 2),\n",
       " ('奥德赛', 2),\n",
       " ('火爆', 2),\n",
       " ('轮廓', 2),\n",
       " ('热门', 2),\n",
       " ('郴州', 2),\n",
       " ('分析', 2),\n",
       " ('两大', 2),\n",
       " ('华颂', 2),\n",
       " ('金杯', 2),\n",
       " ('三大', 2),\n",
       " ('本届', 2),\n",
       " ('买不起', 2),\n",
       " ('车标', 2),\n",
       " ('同行', 2),\n",
       " ('应该', 2),\n",
       " ('加油', 2),\n",
       " ('据说', 2),\n",
       " ('gps', 2),\n",
       " ('让利', 2),\n",
       " ('店内', 2),\n",
       " ('看到', 2),\n",
       " ('理由', 2),\n",
       " ('款车', 2),\n",
       " ('有没有', 2),\n",
       " ('漂亮', 2),\n",
       " ('秒杀', 2),\n",
       " ('极光', 2),\n",
       " ('广汽', 2),\n",
       " ('合资', 2),\n",
       " ('路虎', 2),\n",
       " ('传统', 2),\n",
       " ('车企', 2),\n",
       " ('纷纷', 2),\n",
       " ('流行', 2),\n",
       " ('系列', 2),\n",
       " ('怀旧', 2),\n",
       " ('首先', 2),\n",
       " ('Airlift', 2),\n",
       " ('空气', 2),\n",
       " ('避震器', 2),\n",
       " ('视觉效果', 2),\n",
       " ('订制', 2),\n",
       " ('Rotiform', 2),\n",
       " ('宽边', 2),\n",
       " ('BBS', 2),\n",
       " ('锻造', 2),\n",
       " ('更具', 2),\n",
       " ('姿态', 2),\n",
       " ('车漆', 2),\n",
       " ('保留', 2),\n",
       " ('原厂', 2),\n",
       " ('经过', 2),\n",
       " ('一些', 2),\n",
       " ('翻新', 2),\n",
       " ('处理', 2),\n",
       " ('四圆', 2),\n",
       " ('加入', 2),\n",
       " ('使得', 2),\n",
       " ('有神', 2),\n",
       " ('续航', 2),\n",
       " ('马斯克', 2),\n",
       " ('里程', 2),\n",
       " ('莅临', 2),\n",
       " ('直降', 2),\n",
       " ('MDX', 2),\n",
       " ('高架', 2),\n",
       " ('摩托', 2),\n",
       " ('CSR', 2),\n",
       " ('体系', 2),\n",
       " ('明确', 2),\n",
       " ('方向', 2),\n",
       " ('普利司通', 2),\n",
       " ('颜值', 2),\n",
       " ('quot', 2),\n",
       " ('CDX', 2),\n",
       " ('许可', 2),\n",
       " ('旅行车', 2),\n",
       " ('音响', 2),\n",
       " ('纺锤', 2),\n",
       " ('面子', 2),\n",
       " ('表现', 2),\n",
       " ('不愧', 2),\n",
       " ('双门', 2),\n",
       " ('计划', 2),\n",
       " ('不输', 2),\n",
       " ('RX', 2),\n",
       " ('CT', 2),\n",
       " ('资讯', 2),\n",
       " ('合作', 2),\n",
       " ('GMIC', 2),\n",
       " ('创新', 2),\n",
       " ('最后', 2),\n",
       " ('人生', 2),\n",
       " ('底盘', 2),\n",
       " ('解析', 2),\n",
       " ('南方', 2),\n",
       " ('汽车展', 2),\n",
       " ('广州', 2),\n",
       " ('SHOW', 2),\n",
       " ('三高', 2),\n",
       " ('因为', 2),\n",
       " ('优秀', 2),\n",
       " ('赛道', 2),\n",
       " ('预言家', 2),\n",
       " ('可靠', 2),\n",
       " ('套房', 2),\n",
       " ('上班', 2),\n",
       " ('姨妈', 2),\n",
       " ('ESP', 2),\n",
       " ('专门', 2),\n",
       " ('纳智捷', 2),\n",
       " ('老板', 2),\n",
       " ('商务', 2),\n",
       " ('商务车', 2),\n",
       " ('万起售', 2),\n",
       " ('不如', 2),\n",
       " ('领域', 2),\n",
       " ('相比', 2),\n",
       " ('重点', 2),\n",
       " ('为什么', 2),\n",
       " ('加上', 2),\n",
       " ('屏幕', 2),\n",
       " ('哪里', 2),\n",
       " ('头衔', 2),\n",
       " ('拥有', 2),\n",
       " ('能开', 2),\n",
       " ('click', 2),\n",
       " ('http', 2),\n",
       " ('遇到', 2),\n",
       " ('专业', 2),\n",
       " ('小区', 2),\n",
       " ('僵尸', 2),\n",
       " ('大战', 2),\n",
       " ('东营', 2),\n",
       " ('宜宝轩', 2),\n",
       " ('陆续', 2),\n",
       " ('IS', 2),\n",
       " ('精彩', 2),\n",
       " ('消费', 2),\n",
       " ('安全', 2),\n",
       " ('宝马新', 2),\n",
       " ('xDrive', 2),\n",
       " ('根据', 2),\n",
       " ('不同', 2),\n",
       " ('样子', 2),\n",
       " ('路上', 2),\n",
       " ('之一', 2),\n",
       " ('平切', 2),\n",
       " ('开心', 2),\n",
       " ('一饱眼福', 2),\n",
       " ('低调', 2),\n",
       " ('以后', 2),\n",
       " ('二狗', 2),\n",
       " ('GiuliaQV', 2),\n",
       " ('集团', 2),\n",
       " ('三款', 2),\n",
       " ('CS', 2),\n",
       " ('福特', 2),\n",
       " ('CG', 2),\n",
       " ('教主', 2),\n",
       " ('归来', 2),\n",
       " ('Manhart', 2),\n",
       " ('Performance', 2),\n",
       " ('兰博基尼', 2),\n",
       " ('警车', 2),\n",
       " ('无现金', 2),\n",
       " ('标致', 2),\n",
       " ('日系', 2),\n",
       " ('奥体中心', 1),\n",
       " ('mini', 1),\n",
       " ('大奖', 1),\n",
       " ('悠家', 1),\n",
       " ('独家', 1),\n",
       " ('演唱会', 1),\n",
       " ('降临', 1),\n",
       " ('身临其境', 1),\n",
       " ('跟着', 1),\n",
       " ('两位', 1),\n",
       " ('玩转', 1),\n",
       " ('深入', 1),\n",
       " ('赶紧', 1),\n",
       " ('点击', 1),\n",
       " ('链接', 1),\n",
       " ('观看', 1),\n",
       " ('回放', 1),\n",
       " ('autodang', 1),\n",
       " ('情怀', 1),\n",
       " ('LexusKorea', 1),\n",
       " ('宣传', 1),\n",
       " ('大使', 1),\n",
       " ('太阳', 1),\n",
       " ('lexus', 1),\n",
       " ('采访', 1),\n",
       " ('蜘蛛', 1),\n",
       " ('飙车', 1),\n",
       " ('耀眼', 1),\n",
       " ('幕后', 1),\n",
       " ('墨镜', 1),\n",
       " ('相当', 1),\n",
       " ('九年', 1),\n",
       " ('爸爸', 1),\n",
       " ('别人', 1),\n",
       " ('前排', 1),\n",
       " ('收购', 1),\n",
       " ('优质', 1),\n",
       " ('优先', 1),\n",
       " ('楊卷', 1),\n",
       " ('word', 1),\n",
       " ('挂个', 1),\n",
       " ('停车场', 1),\n",
       " ('神吐槽', 1),\n",
       " ('低碳', 1),\n",
       " ('出行', 1),\n",
       " ('航海', 1),\n",
       " ('时代', 1),\n",
       " ('要来', 1),\n",
       " ('纸飞机', 1),\n",
       " ('枫哥', 1),\n",
       " ('枫车访', 1),\n",
       " ('聊一聊', 1),\n",
       " ('故事', 1),\n",
       " ('拍客', 1),\n",
       " ('新谍', 1),\n",
       " ('并会', 1),\n",
       " ('包括', 1),\n",
       " ('GLE', 1),\n",
       " ('玛莎拉蒂', 1),\n",
       " ('Levante', 1),\n",
       " ('海淀', 1),\n",
       " ('电光', 1),\n",
       " ('贴膜', 1),\n",
       " ('早点', 1),\n",
       " ('女飞', 1),\n",
       " ('车眼', 1),\n",
       " ('世界', 1),\n",
       " ('再造', 1),\n",
       " ('精细', 1),\n",
       " ('AT', 1),\n",
       " ('或者', 1),\n",
       " ('玛莎', 1),\n",
       " ('难用', 1),\n",
       " ('LX', 1),\n",
       " ('樊錚', 1),\n",
       " ('奇趣', 1),\n",
       " ('心跳', 1),\n",
       " ('尖叫', 1),\n",
       " ('想不到', 1),\n",
       " ('最靠近', 1),\n",
       " ('偶要', 1),\n",
       " ('拜拜', 1),\n",
       " ('选购', 1),\n",
       " ('每位', 1),\n",
       " ('工作者', 1),\n",
       " ('一位', 1),\n",
       " ('竭诚服务', 1),\n",
       " ('各大', 1),\n",
       " ('卖场', 1),\n",
       " ('棋子', 1),\n",
       " ('灯花', 1),\n",
       " ('花哥', 1),\n",
       " ('赵朴煜', 1),\n",
       " ('妇科', 1),\n",
       " ('阿能', 1),\n",
       " ('中控', 1),\n",
       " ('设计师', 1),\n",
       " ('捡回来', 1),\n",
       " ('关爱', 1),\n",
       " ('邀请', 1),\n",
       " ('呵护', 1),\n",
       " ('爱车', 1),\n",
       " ('头条', 1),\n",
       " ('剧集', 1),\n",
       " ('Scoutq', 1),\n",
       " ('评级', 1),\n",
       " ('零部件', 1),\n",
       " ('周报', 1),\n",
       " ('智能化', 1),\n",
       " ('加速', 1),\n",
       " ('来临', 1),\n",
       " ('一块钱', 1),\n",
       " ('开走', 1),\n",
       " ('求婚', 1),\n",
       " ('SRT', 1),\n",
       " ('sport', 1),\n",
       " ('声浪', 1),\n",
       " ('试听', 1),\n",
       " ('狂欢', 1),\n",
       " ('驶入', 1),\n",
       " ('周末', 1),\n",
       " ('开播', 1),\n",
       " ('董涛', 1),\n",
       " ('说车', 1),\n",
       " ('识别', 1),\n",
       " ('水车', 1),\n",
       " ('事故', 1),\n",
       " ('淘店', 1),\n",
       " ('超限', 1),\n",
       " ('普特', 1),\n",
       " ('双边', 1),\n",
       " ('阀门', 1),\n",
       " ('声音', 1),\n",
       " ('AUPTO', 1),\n",
       " ('猎装', 1),\n",
       " ('劲敌', 1),\n",
       " ('同样', 1),\n",
       " ('不甘示弱', 1),\n",
       " ('Shooting', 1),\n",
       " ('Brake', 1),\n",
       " ('OrangeArt', 1),\n",
       " ('官图', 1),\n",
       " ('特殊', 1),\n",
       " ('独到', 1),\n",
       " ('限量', 1),\n",
       " ('试车', 1),\n",
       " ('苦练内功', 1),\n",
       " ('实力派', 1),\n",
       " ('比亚迪', 1),\n",
       " ('欢乐颂', 1),\n",
       " ('驾大', 1),\n",
       " ('讲究', 1),\n",
       " ('票房', 1),\n",
       " ('壕车', 1),\n",
       " ('背后', 1),\n",
       " ('首代', 1),\n",
       " ('双座', 1),\n",
       " ('源自', 1),\n",
       " ('双色', 1),\n",
       " ('金属', 1),\n",
       " ('合金', 1),\n",
       " ('专属', 1),\n",
       " ('四出', 1),\n",
       " ('排气', 1),\n",
       " ('小康', 1),\n",
       " ('文章', 1),\n",
       " ('导购', 1),\n",
       " ('水母网', 1),\n",
       " ('威猛', 1),\n",
       " ('除了', 1),\n",
       " ('应用', 1),\n",
       " ('之外', 1),\n",
       " ('六边', 1),\n",
       " ('中网', 1),\n",
       " ('带头', 1),\n",
       " ('一体式', 1),\n",
       " ('增色', 1),\n",
       " ('不少', 1),\n",
       " ('曲线', 1),\n",
       " ('相媲美', 1),\n",
       " ('命名', 1),\n",
       " ('意味', 1),\n",
       " ('探求', 1),\n",
       " ('永恒', 1),\n",
       " ('网站', 1),\n",
       " ('worldcarfans', 1),\n",
       " ('基础', 1),\n",
       " ('全系', 1),\n",
       " ('ULK', 1),\n",
       " ('前驱', 1),\n",
       " ('今年底', 1),\n",
       " ('雷凌', 1),\n",
       " ('双擎', 1),\n",
       " ('送礼', 1),\n",
       " ('湖州', 1),\n",
       " ('东昌', 1),\n",
       " ('suv', 1),\n",
       " ('永爱', 1),\n",
       " ('我洋', 1),\n",
       " ('太子', 1),\n",
       " ('电影', 1),\n",
       " ('桃花', 1),\n",
       " ('暑期', 1),\n",
       " ('女王', 1),\n",
       " ('夜华君', 1),\n",
       " ('共赴', 1),\n",
       " ('之约', 1),\n",
       " ('桃林', 1),\n",
       " ('可好', 1),\n",
       " ('号称', 1),\n",
       " ('百年', 1),\n",
       " ('追尾', 1),\n",
       " ('爆头', 1),\n",
       " ('毫发', 1),\n",
       " ('黑笼', 1),\n",
       " ('一键', 1),\n",
       " ('抬显', 1),\n",
       " ('镜头', 1),\n",
       " ('窗帘', 1),\n",
       " ('按键', 1),\n",
       " ('电椅', 1),\n",
       " ('DVD', 1),\n",
       " ('独立', 1),\n",
       " ('空调', 1),\n",
       " ('电吸门', 1),\n",
       " ('尾门', 1),\n",
       " ('光圈', 1),\n",
       " ('通风', 1),\n",
       " ('冷热', 1),\n",
       " ('超车', 1),\n",
       " ...]"
      ]
     },
     "execution_count": 43,
     "metadata": {},
     "output_type": "execute_result"
    }
   ],
   "source": [
    "car_word = {key:value for key, value in fdist1.items() if key.isalpha() and len(key)>1}\n",
    "car_sort = sorted(car_word.items(), key=lambda d:d[1], reverse=True)\n",
    "car_sort"
   ]
  },
  {
   "cell_type": "code",
   "execution_count": 44,
   "metadata": {
    "collapsed": false
   },
   "outputs": [
    {
     "data": {
      "text/plain": [
       "list"
      ]
     },
     "execution_count": 44,
     "metadata": {},
     "output_type": "execute_result"
    }
   ],
   "source": [
    "type(car_sort)"
   ]
  },
  {
   "cell_type": "code",
   "execution_count": 45,
   "metadata": {
    "collapsed": false,
    "scrolled": false
   },
   "outputs": [
    {
     "data": {
      "text/plain": [
       "'宝马'"
      ]
     },
     "execution_count": 45,
     "metadata": {},
     "output_type": "execute_result"
    }
   ],
   "source": [
    "car_sort[0][0]"
   ]
  },
  {
   "cell_type": "code",
   "execution_count": 46,
   "metadata": {
    "collapsed": false
   },
   "outputs": [
    {
     "data": {
      "text/plain": [
       "192"
      ]
     },
     "execution_count": 46,
     "metadata": {},
     "output_type": "execute_result"
    }
   ],
   "source": [
    "car_sort[0][1]"
   ]
  },
  {
   "cell_type": "code",
   "execution_count": 47,
   "metadata": {
    "collapsed": false
   },
   "outputs": [
    {
     "data": {
      "text/plain": [
       "array([0, 1])"
      ]
     },
     "execution_count": 47,
     "metadata": {},
     "output_type": "execute_result"
    }
   ],
   "source": [
    "import numpy as np\n",
    "np.arange(0,2)"
   ]
  },
  {
   "cell_type": "code",
   "execution_count": 48,
   "metadata": {
    "collapsed": false
   },
   "outputs": [
    {
     "data": {
      "text/plain": [
       "2382"
      ]
     },
     "execution_count": 48,
     "metadata": {},
     "output_type": "execute_result"
    }
   ],
   "source": [
    "len(car_sort)"
   ]
  },
  {
   "cell_type": "code",
   "execution_count": 49,
   "metadata": {
    "collapsed": false
   },
   "outputs": [
    {
     "data": {
      "text/plain": [
       "'雷克萨斯'"
      ]
     },
     "execution_count": 49,
     "metadata": {},
     "output_type": "execute_result"
    }
   ],
   "source": [
    "car_sort[2][0]"
   ]
  },
  {
   "cell_type": "code",
   "execution_count": 50,
   "metadata": {
    "collapsed": false
   },
   "outputs": [
    {
     "name": "stdout",
     "output_type": "stream",
     "text": [
      "['宝马', '全新', '雷克萨斯', '汽车', '奔驰', '车展', '车型', '上海', 'Acura', '奥迪']\n"
     ]
    }
   ],
   "source": [
    "wname = []\n",
    "for i in range(0, len(car_sort)):\n",
    "    wname.append(car_sort[i][0])\n",
    "    \n",
    "print(wname[:10])"
   ]
  },
  {
   "cell_type": "code",
   "execution_count": 51,
   "metadata": {
    "collapsed": false
   },
   "outputs": [
    {
     "name": "stdout",
     "output_type": "stream",
     "text": [
      "[192, 66, 57, 52, 48, 45, 36, 34, 30, 30]\n"
     ]
    }
   ],
   "source": [
    "value = []\n",
    "for i in range(0, len(car_sort)):\n",
    "    value.append(car_sort[i][1])\n",
    "\n",
    "print(value[:10])"
   ]
  },
  {
   "cell_type": "code",
   "execution_count": 52,
   "metadata": {
    "collapsed": false,
    "scrolled": true
   },
   "outputs": [
    {
     "data": {
      "text/plain": [
       "list"
      ]
     },
     "execution_count": 52,
     "metadata": {},
     "output_type": "execute_result"
    }
   ],
   "source": [
    "type(wname)"
   ]
  },
  {
   "cell_type": "code",
   "execution_count": 53,
   "metadata": {
    "collapsed": false
   },
   "outputs": [
    {
     "data": {
      "text/plain": [
       "192"
      ]
     },
     "execution_count": 53,
     "metadata": {},
     "output_type": "execute_result"
    }
   ],
   "source": [
    "value[0]"
   ]
  },
  {
   "cell_type": "code",
   "execution_count": 54,
   "metadata": {
    "collapsed": false
   },
   "outputs": [
    {
     "data": {
      "text/plain": [
       "2382"
      ]
     },
     "execution_count": 54,
     "metadata": {},
     "output_type": "execute_result"
    }
   ],
   "source": [
    "len(value)"
   ]
  },
  {
   "cell_type": "code",
   "execution_count": 55,
   "metadata": {
    "collapsed": false
   },
   "outputs": [
    {
     "data": {
      "text/plain": [
       "2382"
      ]
     },
     "execution_count": 55,
     "metadata": {},
     "output_type": "execute_result"
    }
   ],
   "source": [
    "len(value)"
   ]
  },
  {
   "cell_type": "code",
   "execution_count": 56,
   "metadata": {
    "collapsed": false
   },
   "outputs": [
    {
     "data": {
      "text/plain": [
       "[192,\n",
       " 66,\n",
       " 57,\n",
       " 52,\n",
       " 48,\n",
       " 45,\n",
       " 36,\n",
       " 34,\n",
       " 30,\n",
       " 30,\n",
       " 30,\n",
       " 29,\n",
       " 29,\n",
       " 26,\n",
       " 26,\n",
       " 24,\n",
       " 23,\n",
       " 22,\n",
       " 22,\n",
       " 22]"
      ]
     },
     "execution_count": 56,
     "metadata": {},
     "output_type": "execute_result"
    }
   ],
   "source": [
    "value[:20]"
   ]
  },
  {
   "cell_type": "code",
   "execution_count": 57,
   "metadata": {
    "collapsed": false
   },
   "outputs": [],
   "source": [
    "file = open('extractname.txt','w', encoding='utf-8')\n",
    "for word in wname:\n",
    "    file.write(word + '\\n')"
   ]
  },
  {
   "cell_type": "code",
   "execution_count": 58,
   "metadata": {
    "collapsed": false
   },
   "outputs": [],
   "source": [
    "file1 = open('extractvalue.txt','w', encoding='utf-8')\n",
    "for val in value:\n",
    "    file1.write(str(val) + '\\n')"
   ]
  },
  {
   "cell_type": "code",
   "execution_count": 59,
   "metadata": {
    "collapsed": false
   },
   "outputs": [
    {
     "data": {
      "image/png": "[encoded data removed]",
      "text/plain": [
       "<matplotlib.figure.Figure at 0x1e2b91277b8>"
      ]
     },
     "metadata": {},
     "output_type": "display_data"
    }
   ],
   "source": [
    "import matplotlib as mpl\n",
    "import matplotlib.pyplot as plt\n",
    "mpl.rcParams['font.sans-serif'] = ['SimHei']\n",
    "x = range(0,10)\n",
    "plt.bar(x, value[:10],color='g')\n",
    "plt.xticks(x, (wname[:10]))\n",
    "plt.show()"
   ]
  },
  {
   "cell_type": "code",
   "execution_count": null,
   "metadata": {
    "collapsed": true
   },
   "outputs": [],
   "source": []
  },
  {
   "cell_type": "code",
   "execution_count": null,
   "metadata": {
    "collapsed": true
   },
   "outputs": [],
   "source": []
  }
 ],
 "metadata": {
  "kernelspec": {
   "display_name": "Python 3",
   "language": "python",
   "name": "python3"
  },
  "language_info": {
   "codemirror_mode": {
    "name": "ipython",
    "version": 3
   },
   "file_extension": ".py",
   "mimetype": "text/x-python",
   "name": "python",
   "nbconvert_exporter": "python",
   "pygments_lexer": "ipython3",
   "version": "3.6.0"
  }
 },
 "nbformat": 4,
 "nbformat_minor": 2
}
