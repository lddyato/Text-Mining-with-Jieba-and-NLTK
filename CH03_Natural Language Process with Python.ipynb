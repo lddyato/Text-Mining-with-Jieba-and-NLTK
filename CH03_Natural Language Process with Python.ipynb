{
 "cells": [
  {
   "cell_type": "code",
   "execution_count": 4,
   "metadata": {
    "collapsed": true
   },
   "outputs": [],
   "source": [
    "from IPython.core.interactiveshell import InteractiveShell\n",
    "InteractiveShell.ast_node_interactivity = \"all\""
   ]
  },
  {
   "cell_type": "code",
   "execution_count": 5,
   "metadata": {
    "collapsed": true
   },
   "outputs": [],
   "source": [
    "import nltk"
   ]
  },
  {
   "cell_type": "markdown",
   "metadata": {},
   "source": [
    "#### NLP的流程\n",
    "1. Download web page, strip HTML if necessary, trim to desired content.\n",
    "```\n",
    "html = urllib.request.urlopen(url).read().decode('utf8')\n",
    "from bs4 import BeautifulSoup\n",
    "raw = BeautifulSoup(html, 'html.parser').get_text()\n",
    "```\n",
    "2. Tokenize the text, select tokens of interest, create an NLTK text\n",
    "```\n",
    "tokens = nltk.word_tokenize(raw)\n",
    "text = nltk.Text(tokens)\n",
    "```\n",
    "3. Normalize the words, build the vocabulary\n",
    "```\n",
    "words = [w.lower() for w in text]\n",
    "vocab = sorted(set(words))\n",
    "```"
   ]
  },
  {
   "cell_type": "markdown",
   "metadata": {},
   "source": [
    "## 3.1 从网络和硬盘访问文本"
   ]
  },
  {
   "cell_type": "markdown",
   "metadata": {},
   "source": [
    "### 电子书"
   ]
  },
  {
   "cell_type": "code",
   "execution_count": 6,
   "metadata": {
    "collapsed": false
   },
   "outputs": [
    {
     "data": {
      "text/plain": [
       "str"
      ]
     },
     "execution_count": 6,
     "metadata": {},
     "output_type": "execute_result"
    },
    {
     "data": {
      "text/plain": [
       "1176896"
      ]
     },
     "execution_count": 6,
     "metadata": {},
     "output_type": "execute_result"
    },
    {
     "data": {
      "text/plain": [
       "'The Project Gutenberg EBook of Crime and Punishment, by Fyodor Dostoevsky\\r\\n'"
      ]
     },
     "execution_count": 6,
     "metadata": {},
     "output_type": "execute_result"
    }
   ],
   "source": [
    "# 电子书\n",
    "from urllib import request\n",
    "url = 'http://www.gutenberg.org/files/2554/2554.txt'\n",
    "raw = request.urlopen(url).read().decode('utf8')\n",
    "type(raw) # 这是一个字符串\n",
    "len(raw) # 变量raw包含一个有1176896个字符的字符串\n",
    "raw[:75]  # 前75个字符"
   ]
  },
  {
   "cell_type": "code",
   "execution_count": 7,
   "metadata": {
    "collapsed": false
   },
   "outputs": [
    {
     "data": {
      "text/plain": [
       "list"
      ]
     },
     "execution_count": 7,
     "metadata": {},
     "output_type": "execute_result"
    },
    {
     "data": {
      "text/plain": [
       "254352"
      ]
     },
     "execution_count": 7,
     "metadata": {},
     "output_type": "execute_result"
    },
    {
     "data": {
      "text/plain": [
       "['The',\n",
       " 'Project',\n",
       " 'Gutenberg',\n",
       " 'EBook',\n",
       " 'of',\n",
       " 'Crime',\n",
       " 'and',\n",
       " 'Punishment',\n",
       " ',',\n",
       " 'by']"
      ]
     },
     "execution_count": 7,
     "metadata": {},
     "output_type": "execute_result"
    }
   ],
   "source": [
    "# 将字符串分解为词和标点符号，这一步称为分词\n",
    "tokens = nltk.word_tokenize(raw)\n",
    "type(tokens) # list格式\n",
    "len(tokens)  # 一共有254352个tokens\n",
    "tokens[:10] # 前10个tokens"
   ]
  },
  {
   "cell_type": "code",
   "execution_count": 8,
   "metadata": {
    "collapsed": false
   },
   "outputs": [
    {
     "data": {
      "text/plain": [
       "nltk.text.Text"
      ]
     },
     "execution_count": 8,
     "metadata": {},
     "output_type": "execute_result"
    }
   ],
   "source": [
    "text = nltk.Text(tokens)\n",
    "type(text)"
   ]
  },
  {
   "cell_type": "code",
   "execution_count": 9,
   "metadata": {
    "collapsed": false
   },
   "outputs": [
    {
     "data": {
      "text/plain": [
       "['The',\n",
       " 'Project',\n",
       " 'Gutenberg',\n",
       " 'EBook',\n",
       " 'of',\n",
       " 'Crime',\n",
       " 'and',\n",
       " 'Punishment',\n",
       " ',',\n",
       " 'by']"
      ]
     },
     "execution_count": 9,
     "metadata": {},
     "output_type": "execute_result"
    }
   ],
   "source": [
    "text[:10]"
   ]
  },
  {
   "cell_type": "code",
   "execution_count": 10,
   "metadata": {
    "collapsed": false
   },
   "outputs": [
    {
     "name": "stdout",
     "output_type": "stream",
     "text": [
      "Katerina Ivanovna; Pyotr Petrovitch; Pulcheria Alexandrovna; Avdotya\n",
      "Romanovna; Rodion Romanovitch; Marfa Petrovna; Sofya Semyonovna; old\n",
      "woman; Project Gutenberg-tm; Porfiry Petrovitch; Amalia Ivanovna;\n",
      "great deal; Nikodim Fomitch; young man; Ilya Petrovitch; n't know;\n",
      "Project Gutenberg; Dmitri Prokofitch; Andrey Semyonovitch; Hay Market\n"
     ]
    }
   ],
   "source": [
    "text.collocations() "
   ]
  },
  {
   "cell_type": "code",
   "execution_count": 11,
   "metadata": {
    "collapsed": false
   },
   "outputs": [
    {
     "data": {
      "text/plain": [
       "5338"
      ]
     },
     "execution_count": 11,
     "metadata": {},
     "output_type": "execute_result"
    },
    {
     "data": {
      "text/plain": [
       "533"
      ]
     },
     "execution_count": 11,
     "metadata": {},
     "output_type": "execute_result"
    },
    {
     "data": {
      "text/plain": [
       "1157746"
      ]
     },
     "execution_count": 11,
     "metadata": {},
     "output_type": "execute_result"
    }
   ],
   "source": [
    "# find()和rfind()（反向的 find）得到字符串切片需要用到的正确的索引\n",
    "\n",
    "raw.find('PART I')\n",
    "raw.find('START')\n",
    "raw.find('End')"
   ]
  },
  {
   "cell_type": "markdown",
   "metadata": {},
   "source": [
    "### 处理HTML"
   ]
  },
  {
   "cell_type": "markdown",
   "metadata": {},
   "source": [
    "#### 网络上的文本大部分是HTML文件的形式。你可以使用网络浏览器将网页作为文本保存为本地文件， 然后按照后面关于文件的小节描述的那样来访问它。 不过， 如果你要经常这样做，最简单的办法是直接让Python来做这份工作"
   ]
  },
  {
   "cell_type": "code",
   "execution_count": 12,
   "metadata": {
    "collapsed": false
   },
   "outputs": [
    {
     "data": {
      "text/plain": [
       "'<!doctype html public \"-//W3C//DTD HTML 4.0 Transitional//EN'"
      ]
     },
     "execution_count": 12,
     "metadata": {},
     "output_type": "execute_result"
    }
   ],
   "source": [
    "url = 'http://news.bbc.co.uk/2/hi/health/2284783.stm'\n",
    "html = request.urlopen(url).read().decode('utf8')\n",
    "html[:60]"
   ]
  },
  {
   "cell_type": "code",
   "execution_count": 13,
   "metadata": {
    "collapsed": false
   },
   "outputs": [
    {
     "data": {
      "text/plain": [
       "60"
      ]
     },
     "execution_count": 13,
     "metadata": {},
     "output_type": "execute_result"
    }
   ],
   "source": [
    "len('<!doctype html public \"-//W3C//DTD HTML 4.0 Transitional//EN')"
   ]
  },
  {
   "cell_type": "code",
   "execution_count": 14,
   "metadata": {
    "collapsed": false
   },
   "outputs": [
    {
     "data": {
      "text/plain": [
       "str"
      ]
     },
     "execution_count": 14,
     "metadata": {},
     "output_type": "execute_result"
    }
   ],
   "source": [
    "type(html)"
   ]
  },
  {
   "cell_type": "code",
   "execution_count": 15,
   "metadata": {
    "collapsed": false
   },
   "outputs": [
    {
     "data": {
      "text/plain": [
       "str"
      ]
     },
     "execution_count": 15,
     "metadata": {},
     "output_type": "execute_result"
    }
   ],
   "source": [
    "from bs4 import BeautifulSoup\n",
    "bshtml = BeautifulSoup(html, 'html.parser').get_text()\n",
    "type(bshtml)"
   ]
  },
  {
   "cell_type": "code",
   "execution_count": 16,
   "metadata": {
    "collapsed": false
   },
   "outputs": [
    {
     "name": "stdout",
     "output_type": "stream",
     "text": [
      "<!DOCTYPE doctype html public \"-//W3C//DTD HTML 4.0 Transitional//EN\" \"http://www.w3.org/TR/REC-html40/loose.dtd\">\n",
      "<html>\n",
      " <head>\n",
      "  <title>\n",
      "   BBC NEWS | Health | Blondes 'to die out in 200 years'\n",
      "  </title>\n",
      "  <meta content=\"BBC, News, BBC News, news online, world, uk, international, foreign, british, online, service\" name=\"keywords\">\n",
      "   <meta content=\"2002/09/27 11:51:55\" name=\"OriginalPublicationDate\">\n",
      "    <meta content=\"/1/hi/health/2284783.stm\" name=\"UKFS_URL\">\n",
      "     <meta content=\"/2/hi/health/2284783.stm\" name=\"IFS_URL\">\n",
      "      <meta content=\"text/html;charset=iso-8859-1\" name=\"HTTP-EQUIV\">\n",
      "       <meta content=\"Blondes 'to die out in 200 years'\" name=\"Headline\">\n",
      "        <meta content=\"Health\" name=\"Section\">\n",
      "         <meta content=\"Natural blondes are an endangered species and will die out by 2202, a study suggests.\" name=\"Description\">\n",
      "          <!-- GENMaps-->\n",
      "          <map name=\"banner\">\n",
      "           <area alt=\"BBC NEWS\" coords=\"7,9,167,32\" href=\"http://news.bbc.co.uk/1/hi.html\" shape=\"RECT\">\n",
      "           </area>\n",
      "          </map>\n",
      "          <script language=\"JavaScript\" src=\"/nol/shared/js/livestats_v1_1.js\" type=\"text/javascript\">\n",
      "          </script>\n",
      "          <map name=\"world_map\">\n",
      "           <area alt=\"Americas\" coords=\"40,55,40,4,6,4,7,55\" href=\"/2/hi/americas/default.stm\" shape=\"POLY\">\n",
      "            <area alt=\"Africa\" coords=\"41,54,41,27,46,27,46,32,46,33,55,33,55,36,58,36,58,54\" href=\"/2/hi/africa/default.stm\" shape=\"POLY\">\n",
      "             <area alt=\"Europe\" coords=\"41,5,41,25,63,25,63,17,73,17,73,4\" href=\"/2/hi/europe/default.stm\" shape=\"POLY\">\n",
      "              <area alt=\"Middle East\" coords=\"60,54,60,54,60,34,57,34,57,31,48,31,48,27,63,27,63,54\" href=\"/2/hi/middle_east/default.stm\" shape=\"POLY\">\n",
      "               <area alt=\"South Asia\" coords=\"67,55,65,54,65,27,71,27,71,54\" href=\"/2/hi/south_asia/default.stm\" shape=\"POLY\">\n",
      "                <area alt=\"Asia Pacific\" coords=\"75,54,73,54,73,25,65,25,65,19,75,19,75,5,94,5,94,56\" href=\"/2/hi/asia-pacific/default.stm\" shape=\"POLY\">\n",
      "                </area>\n",
      "               </area>\n",
      "              </area>\n",
      "             </area>\n",
      "            </area>\n",
      "           </area>\n",
      "          </map>\n",
      "          <link href=\"/nol/shared/stylesheets/uki_globalstylesheet.css\" rel=\"stylesheet\" type=\"text/css\">\n",
      "           <script language=\"JavaScript\" src=\"/nol/shared/js_ifs/nol.js\">\n",
      "           </script>\n",
      "          </link>\n",
      "         </meta>\n",
      "        </meta>\n",
      "       </meta>\n",
      "      </meta>\n",
      "     </meta>\n",
      "    </meta>\n",
      "   </meta>\n",
      "  </meta>\n",
      " </head>\n",
      " <body alink=\"#000066\" bgcolor=\"#FFFFFF\" leftmargin=\"0\" link=\"#000066\" marginheight=\"0\" marginwidth=\"0\" text=\"#000000\" topmargin=\"0\" vlink=\"#993333\">\n",
      "  <!--[START]--(( BBCi TOOLBAR )) IFS News -->\n",
      "  <table border=\"0\" cellpadding=\"0\" cellspacing=\"0\" width=\"610\">\n",
      "   <tr>\n",
      "    <td class=\"bbcpageShadow\">\n",
      "     <a name=\"top\">\n",
      "      <img alt=\"\" height=\"2\" src=\"/nol/shared/img/global_toolbar/t.gif\" width=\"600\"/>\n",
      "     </a>\n",
      "    </td>\n",
      "   </tr>\n",
      "   <form action=\"http://newssearch.bbc.co.uk/cgi-bin/search/results.pl\">\n",
      "    <input name=\"scope\" type=\"hidden\" value=\"newsifs\">\n",
      "     <input name=\"tab\" type=\"hidden\" value=\"news\">\n",
      "      <tr>\n",
      "       <td class=\"bbcpageGrey\">\n",
      "        <table border=\"0\" cellpadding=\"0\" cellspacing=\"0\">\n",
      "         <tr>\n",
      "          <td class=\"bbcpageShadowLeft\" width=\"100%\">\n",
      "           <a href=\"http://www.bbc.co.uk/\">\n",
      "            <img alt=\"BBCi\" border=\"0\" height=\"20\" hspace=\"7\" src=\"/nol/shared/img/global_toolbar/logo.gif\" vspace=\"2\" width=\"62\"/>\n",
      "           </a>\n",
      "          </td>\n",
      "          <td align=\"right\" class=\"bbcpageGreyT\">\n",
      "           <font color=\"#000000\">\n",
      "            <font class=\"bbcpageWhite\" face=\"tahoma,arial,helvetica,sans-serif\" size=\"1\">\n",
      "             <b>\n",
      "              <a class=\"bbcpageWhite\" href=\"http://news.bbc.co.uk\">\n",
      "               NEWS\n",
      "              </a>\n",
      "             </b>\n",
      "            </font>\n",
      "           </font>\n",
      "          </td>\n",
      "          <td class=\"bbcpageBar\">\n",
      "           <font class=\"bbcpageWhite\" face=\"tahoma,arial,helvetica,sans-serif\" size=\"1\">\n",
      "            <b>\n",
      "             <a class=\"bbcpageWhite\" href=\"http://news.bbc.co.uk/sport/\">\n",
      "              SPORT\n",
      "             </a>\n",
      "            </b>\n",
      "           </font>\n",
      "          </td>\n",
      "          <td class=\"bbcpageBar2\">\n",
      "           <font class=\"bbcpageWhite\" face=\"tahoma,arial,helvetica,sans-serif\" size=\"1\">\n",
      "            <b>\n",
      "             <a class=\"bbcpageWhite\" href=\"http://www.bbc.co.uk/weather/\">\n",
      "              WEATHER\n",
      "             </a>\n",
      "            </b>\n",
      "           </font>\n",
      "          </td>\n",
      "          <td class=\"bbcpageBar\">\n",
      "           <font class=\"bbcpageWhite\" face=\"tahoma,arial,helvetica,sans-serif\" size=\"1\">\n",
      "            <b>\n",
      "             <a class=\"bbcpageWhite\" href=\"http://www.bbc.co.uk/worldservice/index.shtml\">\n",
      "              WORLD SERVICE\n",
      "             </a>\n",
      "            </b>\n",
      "           </font>\n",
      "          </td>\n",
      "          <!-- <td class=\"bbcpageBar2\"><font face=\"tahoma,arial,helvetica,sans-serif\" size=\"1\" class=\"bbcpageWhite\">&nbsp;&nbsp;<b><a href=\"http://www.bbc.co.uk/whereilive/\" class=\"bbcpageWhite\">WHERE&nbsp;I&nbsp;LIVE</a></b></font></td> -->\n",
      "          <td class=\"bbcpageBar\">\n",
      "           <font class=\"bbcpageWhite\" face=\"tahoma,arial,helvetica,sans-serif\" size=\"1\">\n",
      "            <b>\n",
      "             <a class=\"bbcpageWhite\" href=\"http://www.bbc.co.uk/a-z/\">\n",
      "              A-Z INDEX\n",
      "             </a>\n",
      "            </b>\n",
      "           </font>\n",
      "          </td>\n",
      "          <td class=\"bbcpageSearchL\">\n",
      "           <img alt=\"\" height=\"30\" src=\"/furniture/nothing.gif\" width=\"2\"/>\n",
      "          </td>\n",
      "          <td class=\"bbcpageSearch\">\n",
      "           <font class=\"bbcpageCream\" face=\"tahoma,arial,helvetica,sans-serif\" size=\"1\">\n",
      "            <label for=\"bbcpagesearchbox\">\n",
      "             <b>\n",
      "              SEARCH\n",
      "             </b>\n",
      "            </label>\n",
      "           </font>\n",
      "          </td>\n",
      "          <td class=\"bbcpageSearch2\" style=\"font-family:tahoma,arial,helvetica,sans-serif;\">\n",
      "           <img alt=\"\" height=\"3\" src=\"/shared/img/o.gif\" width=\"1\"/>\n",
      "           <br/>\n",
      "           <input id=\"bbcpagesearchbox\" name=\"q\" size=\"5\" style=\"width:95px;\" type=\"text\"/>\n",
      "          </td>\n",
      "          <td class=\"bbcpageSearch\">\n",
      "           <img alt=\"\" height=\"1\" src=\"/shared/img/o.gif\" width=\"3\"/>\n",
      "          </td>\n",
      "          <td class=\"bbcpageSearch2\">\n",
      "           <img alt=\"\" height=\"5\" src=\"/shared/img/o.gif\" width=\"1\"/>\n",
      "           <br/>\n",
      "           <input align=\"top\" alt=\"Go\" border=\"0\" height=\"16\" src=\"/nol/shared/img/global_toolbar/go.gif\" type=\"image\" value=\"go\" width=\"20\"/>\n",
      "          </td>\n",
      "          <td class=\"bbcpageSearch\">\n",
      "           <img alt=\"\" height=\"1\" src=\"/shared/img/o.gif\" width=\"3\"/>\n",
      "          </td>\n",
      "          <td class=\"bbcpageSearchR\">\n",
      "           <img alt=\"\" height=\"30\" src=\"/shared/img/o.gif\" width=\"1\"/>\n",
      "          </td>\n",
      "         </tr>\n",
      "         <tr bgcolor=\"#000000\">\n",
      "          <td>\n",
      "           <img alt=\"\" height=\"1\" src=\"/shared/img/o.gif\" width=\"76\"/>\n",
      "          </td>\n",
      "          <td>\n",
      "           <img alt=\"\" height=\"1\" src=\"/shared/img/o.gif\" width=\"76\"/>\n",
      "          </td>\n",
      "          <td>\n",
      "           <img alt=\"\" height=\"1\" src=\"/shared/img/o.gif\" width=\"20\"/>\n",
      "          </td>\n",
      "          <td>\n",
      "           <img alt=\"\" height=\"1\" src=\"/shared/img/o.gif\" width=\"42\"/>\n",
      "          </td>\n",
      "          <td>\n",
      "           <img alt=\"\" height=\"1\" src=\"/shared/img/o.gif\" width=\"94\"/>\n",
      "          </td>\n",
      "          <td>\n",
      "           <img alt=\"\" height=\"1\" src=\"/shared/img/o.gif\" width=\"80\"/>\n",
      "          </td>\n",
      "          <!-- <td><img src=\"/shared/img/o.gif\" width=\"42\" height=\"1\" alt=\"\"/></td> -->\n",
      "          <td>\n",
      "           <img alt=\"\" height=\"1\" src=\"/shared/img/o.gif\" width=\"2\"/>\n",
      "          </td>\n",
      "          <td>\n",
      "           <img alt=\"\" height=\"1\" src=\"/shared/img/o.gif\" width=\"51\"/>\n",
      "          </td>\n",
      "          <td>\n",
      "           <img alt=\"\" height=\"1\" src=\"/shared/img/o.gif\" width=\"100\"/>\n",
      "          </td>\n",
      "          <td>\n",
      "           <img alt=\"\" height=\"1\" src=\"/shared/img/o.gif\" width=\"3\"/>\n",
      "          </td>\n",
      "          <td>\n",
      "           <img alt=\"\" height=\"1\" src=\"/shared/img/o.gif\" width=\"20\"/>\n",
      "          </td>\n",
      "          <td>\n",
      "           <img alt=\"\" height=\"1\" src=\"/shared/img/o.gif\" width=\"3\"/>\n",
      "          </td>\n",
      "          <td>\n",
      "           <img alt=\"\" height=\"1\" src=\"/shared/img/o.gif\" width=\"1\"/>\n",
      "          </td>\n",
      "         </tr>\n",
      "        </table>\n",
      "       </td>\n",
      "      </tr>\n",
      "     </input>\n",
      "    </input>\n",
      "   </form>\n",
      "  </table>\n",
      "  <!-- end news toolbar 1.0 -->\n",
      "  <table border=\"0\" cellpadding=\"0\" cellspacing=\"0\" width=\"610\">\n",
      "   <tr>\n",
      "    <td bgcolor=\"#9C0000\">\n",
      "     <img alt=\"BBC News World Edition\" border=\"0\" height=\"40\" src=\"/nol/shared/img/banners/ifs_banner.gif\" usemap=\"#banner\" width=\"610\"/>\n",
      "    </td>\n",
      "   </tr>\n",
      "  </table>\n",
      "  <!--END OF BANNER-->\n",
      "  <table border=\"0\" cellpadding=\"0\" cellspacing=\"0\" width=\"610\">\n",
      "   <tr>\n",
      "    <td width=\"10\">\n",
      "     <img alt=\"\" height=\"1\" src=\"/shared/img/o.gif\" width=\"10\"/>\n",
      "    </td>\n",
      "    <td width=\"100\">\n",
      "     <img alt=\"\" height=\"1\" src=\"/shared/img/o.gif\" width=\"100\"/>\n",
      "    </td>\n",
      "    <td width=\"5\">\n",
      "     <img alt=\"\" height=\"1\" src=\"/shared/img/o.gif\" width=\"5\"/>\n",
      "    </td>\n",
      "    <td bgcolor=\"#999966\" width=\"315\">\n",
      "     <img alt=\"\" height=\"1\" src=\"/shared/img/o.gif\" width=\"315\"/>\n",
      "    </td>\n",
      "    <td bgcolor=\"#999966\" width=\"10\">\n",
      "     <img alt=\"\" height=\"1\" src=\"/shared/img/o.gif\" width=\"10\"/>\n",
      "    </td>\n",
      "    <td bgcolor=\"#999966\" width=\"170\">\n",
      "     <img alt=\"\" height=\"1\" src=\"/shared/img/o.gif\" width=\"170\"/>\n",
      "    </td>\n",
      "   </tr>\n",
      "   <tr>\n",
      "    <td width=\"10\">\n",
      "     <img alt=\"\" height=\"1\" src=\"/shared/img/o.gif\" width=\"10\"/>\n",
      "    </td>\n",
      "    <td width=\"100\">\n",
      "     <img alt=\"\" height=\"1\" src=\"/shared/img/o.gif\" width=\"100\"/>\n",
      "    </td>\n",
      "    <td width=\"5\">\n",
      "     <img alt=\"\" height=\"3\" src=\"/shared/img/o.gif\" width=\"5\"/>\n",
      "    </td>\n",
      "    <td bgcolor=\"#CCCC99\" class=\"crumbtraila\" colspan=\"3\" width=\"495\">\n",
      "     You are in:\n",
      "     <a href=\"/2/hi/health/default.stm\">\n",
      "      <b>\n",
      "       Health\n",
      "      </b>\n",
      "     </a>\n",
      "    </td>\n",
      "   </tr>\n",
      "   <tr>\n",
      "    <td width=\"10\">\n",
      "     <img alt=\"\" height=\"1\" src=\"/shared/img/o.gif\" width=\"10\"/>\n",
      "    </td>\n",
      "    <td align=\"LEFT\" valign=\"TOP\">\n",
      "     <table border=\"0\" cellpadding=\"0\" cellspacing=\"0\" width=\"100\">\n",
      "      <tr>\n",
      "       <td>\n",
      "        <img alt=\"\" border=\"0\" height=\"1\" src=\"http://newsimg.bbc.co.uk/shared/img/o.gif\" width=\"96\"/>\n",
      "       </td>\n",
      "       <td>\n",
      "        <img alt=\"\" border=\"0\" height=\"1\" src=\"http://newsimg.bbc.co.uk/shared/img/o.gif\" width=\"4\"/>\n",
      "       </td>\n",
      "      </tr>\n",
      "      <tr>\n",
      "       <td align=\"right\" bgcolor=\"#FFFFFF\" class=\"sectionStyleTight\">\n",
      "        <a class=\"index\" href=\"/2/hi/default.stm\">\n",
      "         <b>\n",
      "          News Front Page\n",
      "         </b>\n",
      "        </a>\n",
      "       </td>\n",
      "       <td bgcolor=\"#FFFFFF\">\n",
      "        <img alt=\"\" height=\"1\" src=\"http://newsimg.bbc.co.uk/shared/img/o.gif\" width=\"1\"/>\n",
      "       </td>\n",
      "      </tr>\n",
      "      <tr>\n",
      "       <td colspan=\"2\">\n",
      "        <img alt=\"\" border=\"0\" height=\"60\" src=\"http://newsimg.bbc.co.uk/nol/shared/img/nav/blue_map_world.gif\" usemap=\"#world_map\" width=\"100\"/>\n",
      "       </td>\n",
      "      </tr>\n",
      "      <tr>\n",
      "       <td align=\"right\" bgcolor=\"#FFFFFF\" class=\"sectionStyle\">\n",
      "        <a class=\"index\" href=\"/2/hi/africa/default.stm\">\n",
      "         <b>\n",
      "          Africa\n",
      "         </b>\n",
      "        </a>\n",
      "       </td>\n",
      "       <td bgcolor=\"#FFFFFF\">\n",
      "        <img alt=\"\" height=\"1\" src=\"http://newsimg.bbc.co.uk/shared/img/o.gif\" width=\"1\"/>\n",
      "       </td>\n",
      "      </tr>\n",
      "      <tr>\n",
      "       <td align=\"right\" bgcolor=\"#FFFFFF\" class=\"sectionStyle\">\n",
      "        <a class=\"index\" href=\"/2/hi/americas/default.stm\">\n",
      "         <b>\n",
      "          Americas\n",
      "         </b>\n",
      "        </a>\n",
      "       </td>\n",
      "       <td bgcolor=\"#FFFFFF\">\n",
      "        <img alt=\"\" height=\"1\" src=\"http://newsimg.bbc.co.uk/shared/img/o.gif\" width=\"1\"/>\n",
      "       </td>\n",
      "      </tr>\n",
      "      <tr>\n",
      "       <td align=\"right\" bgcolor=\"#FFFFFF\" class=\"sectionStyle\">\n",
      "        <a class=\"index\" href=\"/2/hi/asia-pacific/default.stm\">\n",
      "         <b>\n",
      "          Asia-Pacific\n",
      "         </b>\n",
      "        </a>\n",
      "       </td>\n",
      "       <td bgcolor=\"#FFFFFF\">\n",
      "        <img alt=\"\" height=\"1\" src=\"http://newsimg.bbc.co.uk/shared/img/o.gif\" width=\"1\"/>\n",
      "       </td>\n",
      "      </tr>\n",
      "      <tr>\n",
      "       <td align=\"right\" bgcolor=\"#FFFFFF\" class=\"sectionStyle\">\n",
      "        <a class=\"index\" href=\"/2/hi/europe/default.stm\">\n",
      "         <b>\n",
      "          Europe\n",
      "         </b>\n",
      "        </a>\n",
      "       </td>\n",
      "       <td bgcolor=\"#FFFFFF\">\n",
      "        <img alt=\"\" height=\"1\" src=\"http://newsimg.bbc.co.uk/shared/img/o.gif\" width=\"1\"/>\n",
      "       </td>\n",
      "      </tr>\n",
      "      <tr>\n",
      "       <td align=\"right\" bgcolor=\"#FFFFFF\" class=\"sectionStyle\">\n",
      "        <a class=\"index\" href=\"/2/hi/middle_east/default.stm\">\n",
      "         <b>\n",
      "          Middle East\n",
      "         </b>\n",
      "        </a>\n",
      "       </td>\n",
      "       <td bgcolor=\"#FFFFFF\">\n",
      "        <img alt=\"\" height=\"1\" src=\"http://newsimg.bbc.co.uk/shared/img/o.gif\" width=\"1\"/>\n",
      "       </td>\n",
      "      </tr>\n",
      "      <tr>\n",
      "       <td align=\"right\" bgcolor=\"#FFFFFF\" class=\"sectionStyle\">\n",
      "        <a class=\"index\" href=\"/2/hi/south_asia/default.stm\">\n",
      "         <b>\n",
      "          South Asia\n",
      "         </b>\n",
      "        </a>\n",
      "       </td>\n",
      "       <td bgcolor=\"#FFFFFF\">\n",
      "        <img alt=\"\" height=\"1\" src=\"http://newsimg.bbc.co.uk/shared/img/o.gif\" width=\"1\"/>\n",
      "       </td>\n",
      "      </tr>\n",
      "      <tr>\n",
      "       <td align=\"right\" bgcolor=\"#FFFFFF\" class=\"sectionStyle\">\n",
      "        <a class=\"index\" href=\"/2/hi/uk_news/default.stm\">\n",
      "         <b>\n",
      "          UK\n",
      "         </b>\n",
      "        </a>\n",
      "       </td>\n",
      "       <td bgcolor=\"#FFFFFF\">\n",
      "        <img alt=\"\" height=\"1\" src=\"http://newsimg.bbc.co.uk/shared/img/o.gif\" width=\"1\"/>\n",
      "       </td>\n",
      "      </tr>\n",
      "      <tr>\n",
      "       <td align=\"right\" bgcolor=\"#FFFFFF\" class=\"sectionStyle\">\n",
      "        <a class=\"index\" href=\"/2/hi/business/default.stm\">\n",
      "         <b>\n",
      "          Business\n",
      "         </b>\n",
      "        </a>\n",
      "       </td>\n",
      "       <td bgcolor=\"#FFFFFF\">\n",
      "        <img alt=\"\" height=\"1\" src=\"http://newsimg.bbc.co.uk/shared/img/o.gif\" width=\"1\"/>\n",
      "       </td>\n",
      "      </tr>\n",
      "      <tr>\n",
      "       <td align=\"right\" bgcolor=\"#FFFFFF\" class=\"sectionStyle\">\n",
      "        <a class=\"index\" href=\"/2/hi/entertainment/default.stm\">\n",
      "         <b>\n",
      "          Entertainment\n",
      "         </b>\n",
      "        </a>\n",
      "       </td>\n",
      "       <td bgcolor=\"#FFFFFF\">\n",
      "        <img alt=\"\" height=\"1\" src=\"http://newsimg.bbc.co.uk/shared/img/o.gif\" width=\"1\"/>\n",
      "       </td>\n",
      "      </tr>\n",
      "      <tr>\n",
      "       <td align=\"right\" bgcolor=\"#FFFFFF\" class=\"sectionStyleTight\">\n",
      "        <a class=\"index\" href=\"/2/hi/science/nature/default.stm\">\n",
      "         <b>\n",
      "          Science/Nature\n",
      "         </b>\n",
      "        </a>\n",
      "       </td>\n",
      "       <td bgcolor=\"#FFFFFF\">\n",
      "        <img alt=\"\" height=\"1\" src=\"http://newsimg.bbc.co.uk/shared/img/o.gif\" width=\"1\"/>\n",
      "       </td>\n",
      "      </tr>\n",
      "      <tr>\n",
      "       <td align=\"right\" bgcolor=\"#FFFFFF\" class=\"sectionStyle\">\n",
      "        <a class=\"index\" href=\"/2/hi/technology/default.stm\">\n",
      "         <b>\n",
      "          Technology\n",
      "         </b>\n",
      "        </a>\n",
      "       </td>\n",
      "       <td bgcolor=\"#FFFFFF\">\n",
      "        <img alt=\"\" height=\"1\" src=\"http://newsimg.bbc.co.uk/shared/img/o.gif\" width=\"1\"/>\n",
      "       </td>\n",
      "      </tr>\n",
      "      <tr>\n",
      "       <td align=\"right\" bgcolor=\"#999999\" class=\"sectionStyle\">\n",
      "        <a class=\"index\" href=\"/2/hi/health/default.stm\">\n",
      "         <b>\n",
      "          Health\n",
      "         </b>\n",
      "        </a>\n",
      "       </td>\n",
      "       <td bgcolor=\"#CC3300\">\n",
      "        <img alt=\"\" height=\"1\" src=\"http://newsimg.bbc.co.uk/shared/img/o.gif\" width=\"1\"/>\n",
      "       </td>\n",
      "      </tr>\n",
      "      <tr>\n",
      "       <td align=\"right\" bgcolor=\"#CCCCCC\" class=\"sectionStyle\">\n",
      "        <a class=\"index\" href=\"/2/hi/health/medical_notes/default.stm\">\n",
      "         <b>\n",
      "          Medical notes\n",
      "         </b>\n",
      "        </a>\n",
      "       </td>\n",
      "       <td bgcolor=\"#CCCCCC\">\n",
      "        <img alt=\"\" height=\"1\" src=\"http://newsimg.bbc.co.uk/shared/img/o.gif\" width=\"1\"/>\n",
      "       </td>\n",
      "      </tr>\n",
      "      <tr>\n",
      "       <td align=\"CENTER\" colspan=\"2\">\n",
      "        <span class=\"lhsNavSeparator\">\n",
      "         -------------\n",
      "        </span>\n",
      "       </td>\n",
      "      </tr>\n",
      "      <tr>\n",
      "       <td align=\"right\" bgcolor=\"#FFFFFF\" class=\"sectionStyle\">\n",
      "        <a class=\"index\" href=\"/2/hi/talking_point/default.stm\">\n",
      "         <b>\n",
      "          Talking Point\n",
      "         </b>\n",
      "        </a>\n",
      "       </td>\n",
      "       <td bgcolor=\"#FFFFFF\">\n",
      "        <img alt=\"\" height=\"1\" src=\"http://newsimg.bbc.co.uk/shared/img/o.gif\" width=\"1\"/>\n",
      "       </td>\n",
      "      </tr>\n",
      "      <tr>\n",
      "       <td align=\"CENTER\" colspan=\"2\">\n",
      "        <span class=\"lhsNavSeparator\">\n",
      "         -------------\n",
      "        </span>\n",
      "       </td>\n",
      "      </tr>\n",
      "      <tr>\n",
      "       <td align=\"right\" bgcolor=\"#FFFFFF\" class=\"sectionStyleTight\">\n",
      "        <a class=\"index\" href=\"/2/shared/bsp/hi/country_profiles/html/default.stm\">\n",
      "         <b>\n",
      "          Country Profiles\n",
      "         </b>\n",
      "        </a>\n",
      "       </td>\n",
      "       <td bgcolor=\"#FFFFFF\">\n",
      "        <img alt=\"\" height=\"1\" src=\"http://newsimg.bbc.co.uk/shared/img/o.gif\" width=\"1\"/>\n",
      "       </td>\n",
      "      </tr>\n",
      "      <tr>\n",
      "       <td align=\"right\" bgcolor=\"#FFFFFF\" class=\"sectionStyle\">\n",
      "        <a class=\"index\" href=\"/2/shared/bsp/hi/in_depth/html/default.stm\">\n",
      "         <b>\n",
      "          In Depth\n",
      "         </b>\n",
      "        </a>\n",
      "       </td>\n",
      "       <td bgcolor=\"#FFFFFF\">\n",
      "        <img alt=\"\" height=\"1\" src=\"http://newsimg.bbc.co.uk/shared/img/o.gif\" width=\"1\"/>\n",
      "       </td>\n",
      "      </tr>\n",
      "      <tr>\n",
      "       <td align=\"CENTER\" colspan=\"2\">\n",
      "        <span class=\"lhsNavSeparator\">\n",
      "         -------------\n",
      "        </span>\n",
      "       </td>\n",
      "      </tr>\n",
      "      <tr>\n",
      "       <td align=\"right\" bgcolor=\"#FFFFFF\" class=\"sectionStyle\">\n",
      "        <a class=\"index\" href=\"/2/hi/programmes/default.stm\">\n",
      "         <b>\n",
      "          Programmes\n",
      "         </b>\n",
      "        </a>\n",
      "       </td>\n",
      "       <td bgcolor=\"#FFFFFF\">\n",
      "        <img alt=\"\" height=\"1\" src=\"http://newsimg.bbc.co.uk/shared/img/o.gif\" width=\"1\"/>\n",
      "       </td>\n",
      "      </tr>\n",
      "      <tr>\n",
      "       <td align=\"CENTER\" colspan=\"2\">\n",
      "        <span class=\"lhsNavSeparator\">\n",
      "         -------------\n",
      "        </span>\n",
      "       </td>\n",
      "      </tr>\n",
      "      <tr>\n",
      "       <td colspan=\"2\">\n",
      "        <img alt=\"\" border=\"0\" height=\"5\" src=\"http://newsimg.bbc.co.uk/shared/img/o.gif\" width=\"1\"/>\n",
      "       </td>\n",
      "      </tr>\n",
      "     </table>\n",
      "     <table border=\"0\" cellpadding=\"0\" cellspacing=\"0\" width=\"100\">\n",
      "      <tr>\n",
      "       <td>\n",
      "        <a href=\"/sport2/hi/default.stm\">\n",
      "         <img alt=\"BBC Sport\" border=\"0\" height=\"13\" src=\"/nol/shared/img/nav/sport.gif\" width=\"100\"/>\n",
      "        </a>\n",
      "       </td>\n",
      "      </tr>\n",
      "      <tr>\n",
      "       <td>\n",
      "        <img border=\"0\" height=\"3\" src=\"/shared/img/o.gif\" width=\"1\"/>\n",
      "       </td>\n",
      "      </tr>\n",
      "      <tr>\n",
      "       <td>\n",
      "        <a href=\"http://www.bbc.co.uk/weather/worldweather/index.shtml\">\n",
      "         <img alt=\"BBC Weather\" border=\"0\" height=\"13\" src=\"/nol/shared/img/nav/weather.gif\" width=\"100\"/>\n",
      "        </a>\n",
      "       </td>\n",
      "      </tr>\n",
      "      <tr>\n",
      "       <td>\n",
      "        <img border=\"0\" height=\"10\" src=\"/shared/img/o.gif\" width=\"1\"/>\n",
      "       </td>\n",
      "      </tr>\n",
      "     </table>\n",
      "     <table border=\"0\" cellpadding=\"0\" cellspacing=\"0\" width=\"100\">\n",
      "      <tr bgcolor=\"#990000\">\n",
      "       <td>\n",
      "        <img alt=\"\" height=\"1\" src=\"/shared/img/o.gif\" width=\"1\"/>\n",
      "       </td>\n",
      "       <td>\n",
      "        <img alt=\"\" height=\"1\" src=\"/shared/img/o.gif\" width=\"3\"/>\n",
      "       </td>\n",
      "       <td>\n",
      "        <img alt=\"\" height=\"1\" src=\"/shared/img/o.gif\" width=\"90\"/>\n",
      "       </td>\n",
      "       <td>\n",
      "        <img alt=\"\" height=\"1\" src=\"/shared/img/o.gif\" width=\"5\"/>\n",
      "       </td>\n",
      "       <td>\n",
      "        <img alt=\"\" height=\"1\" src=\"/shared/img/o.gif\" width=\"1\"/>\n",
      "       </td>\n",
      "      </tr>\n",
      "      <tr bgcolor=\"#990000\">\n",
      "       <td align=\"right\" colspan=\"3\">\n",
      "        <div class=\"servicehead\">\n",
      "         SERVICES\n",
      "        </div>\n",
      "       </td>\n",
      "       <td>\n",
      "        <img alt=\"\" height=\"1\" src=\"/shared/img/o.gif\" width=\"5\"/>\n",
      "       </td>\n",
      "       <td>\n",
      "        <img alt=\"\" height=\"1\" src=\"/shared/img/o.gif\" width=\"1\"/>\n",
      "       </td>\n",
      "      </tr>\n",
      "      <tr>\n",
      "       <td bgcolor=\"#CCCCCC\">\n",
      "        <img alt=\"\" height=\"1\" src=\"/shared/img/o.gif\" width=\"1\"/>\n",
      "       </td>\n",
      "       <td class=\"servicebg1\">\n",
      "        <img alt=\"\" height=\"1\" src=\"/shared/img/o.gif\" width=\"3\"/>\n",
      "       </td>\n",
      "       <td align=\"right\" class=\"servicebg1\">\n",
      "        <div class=\"servicesnav\">\n",
      "         <a href=\"http://www.bbc.co.uk/email/news\">\n",
      "          Daily E-mail\n",
      "         </a>\n",
      "        </div>\n",
      "       </td>\n",
      "       <td class=\"serviceoption1\">\n",
      "        <img alt=\"\" height=\"1\" src=\"/shared/img/o.gif\" width=\"5\"/>\n",
      "       </td>\n",
      "       <td bgcolor=\"#CCCCCC\">\n",
      "        <img alt=\"\" height=\"1\" src=\"/shared/img/o.gif\" width=\"1\"/>\n",
      "       </td>\n",
      "      </tr>\n",
      "      <tr>\n",
      "       <td bgcolor=\"#CCCCCC\">\n",
      "        <img alt=\"\" height=\"1\" src=\"/shared/img/o.gif\" width=\"1\"/>\n",
      "       </td>\n",
      "       <td class=\"servicebg2\">\n",
      "        <img alt=\"\" height=\"1\" src=\"/shared/img/o.gif\" width=\"3\"/>\n",
      "       </td>\n",
      "       <td align=\"right\" class=\"servicebg2\">\n",
      "        <div class=\"servicesnav\">\n",
      "         <a href=\"/2/shared/bsp/hi/services/ticker/html/default.stm\">\n",
      "          News Ticker\n",
      "         </a>\n",
      "        </div>\n",
      "       </td>\n",
      "       <td class=\"serviceoption2\">\n",
      "        <img alt=\"\" height=\"1\" src=\"/shared/img/o.gif\" width=\"5\"/>\n",
      "       </td>\n",
      "       <td bgcolor=\"#CCCCCC\">\n",
      "        <img alt=\"\" height=\"1\" src=\"/shared/img/o.gif\" width=\"1\"/>\n",
      "       </td>\n",
      "      </tr>\n",
      "      <tr>\n",
      "       <td bgcolor=\"#CCCCCC\">\n",
      "        <img alt=\"\" height=\"1\" src=\"/shared/img/o.gif\" width=\"1\"/>\n",
      "       </td>\n",
      "       <td class=\"servicebg3\">\n",
      "        <img alt=\"\" height=\"1\" src=\"/shared/img/o.gif\" width=\"3\"/>\n",
      "       </td>\n",
      "       <td align=\"right\" class=\"servicebg3\">\n",
      "        <div class=\"servicesnav\">\n",
      "         <a href=\"/2/shared/bsp/hi/services/mobiles/html/default.stm\">\n",
      "          Mobile/PDAs\n",
      "         </a>\n",
      "        </div>\n",
      "       </td>\n",
      "       <td class=\"serviceoption3\">\n",
      "        <img alt=\"\" height=\"1\" src=\"/shared/img/o.gif\" width=\"5\"/>\n",
      "       </td>\n",
      "       <td bgcolor=\"#CCCCCC\">\n",
      "        <img alt=\"\" height=\"1\" src=\"/shared/img/o.gif\" width=\"1\"/>\n",
      "       </td>\n",
      "      </tr>\n",
      "      <tr>\n",
      "       <td bgcolor=\"#CCCCCC\">\n",
      "        <img alt=\"\" height=\"1\" src=\"/shared/img/o.gif\" width=\"1\"/>\n",
      "       </td>\n",
      "       <td align=\"center\" colspan=\"3\">\n",
      "        <span class=\"lhsNavSeparator\">\n",
      "         -------------\n",
      "        </span>\n",
      "       </td>\n",
      "       <td bgcolor=\"#CCCCCC\">\n",
      "        <img alt=\"\" height=\"1\" src=\"/shared/img/o.gif\" width=\"1\"/>\n",
      "       </td>\n",
      "      </tr>\n",
      "     </table>\n",
      "     <table border=\"0\" cellpadding=\"0\" cellspacing=\"0\" width=\"100\">\n",
      "      <tr>\n",
      "       <td bgcolor=\"#CCCCCC\">\n",
      "        <img alt=\"\" height=\"1\" src=\"/shared/img/o.gif\" width=\"1\"/>\n",
      "       </td>\n",
      "       <td>\n",
      "        <img alt=\"\" height=\"1\" src=\"/shared/img/o.gif\" width=\"3\"/>\n",
      "       </td>\n",
      "       <td>\n",
      "        <img alt=\"\" height=\"1\" src=\"/shared/img/o.gif\" width=\"90\"/>\n",
      "       </td>\n",
      "       <td>\n",
      "        <img alt=\"\" height=\"1\" src=\"/shared/img/o.gif\" width=\"5\"/>\n",
      "       </td>\n",
      "       <td bgcolor=\"#CCCCCC\">\n",
      "        <img alt=\"\" height=\"1\" src=\"/shared/img/o.gif\" width=\"1\"/>\n",
      "       </td>\n",
      "      </tr>\n",
      "      <tr>\n",
      "       <td bgcolor=\"#CCCCCC\">\n",
      "        <img alt=\"\" height=\"1\" src=\"/shared/img/o.gif\" width=\"1\"/>\n",
      "       </td>\n",
      "       <td class=\"servicebg4\">\n",
      "        <img alt=\"\" height=\"1\" src=\"/shared/img/o.gif\" width=\"3\"/>\n",
      "       </td>\n",
      "       <td align=\"right\" class=\"servicebg4\">\n",
      "        <div class=\"servicesnav\">\n",
      "         <a href=\"/2/low/health/2284783.stm\">\n",
      "          Text Only\n",
      "         </a>\n",
      "        </div>\n",
      "       </td>\n",
      "       <td class=\"serviceoption4\">\n",
      "        <img alt=\"\" height=\"1\" src=\"/shared/img/o.gif\" width=\"5\"/>\n",
      "       </td>\n",
      "       <td bgcolor=\"#CCCCCC\">\n",
      "        <img alt=\"\" height=\"1\" src=\"/shared/img/o.gif\" width=\"1\"/>\n",
      "       </td>\n",
      "      </tr>\n",
      "     </table>\n",
      "     <table border=\"0\" cellpadding=\"0\" cellspacing=\"0\" width=\"100\">\n",
      "      <tr>\n",
      "       <td bgcolor=\"#CCCCCC\">\n",
      "        <img alt=\"\" height=\"1\" src=\"/shared/img/o.gif\" width=\"1\"/>\n",
      "       </td>\n",
      "       <td class=\"servicebg5\">\n",
      "        <img alt=\"\" height=\"1\" src=\"/shared/img/o.gif\" width=\"3\"/>\n",
      "       </td>\n",
      "       <td align=\"right\" class=\"servicebg5\">\n",
      "        <div class=\"servicesnav\">\n",
      "         <a href=\"/2/shared/bsp/hi/services/feedback/html/default.stm\">\n",
      "          Feedback\n",
      "         </a>\n",
      "        </div>\n",
      "       </td>\n",
      "       <td class=\"serviceoption5\">\n",
      "        <img alt=\"\" height=\"1\" src=\"/shared/img/o.gif\" width=\"5\"/>\n",
      "       </td>\n",
      "       <td bgcolor=\"#CCCCCC\">\n",
      "        <img alt=\"\" height=\"1\" src=\"/shared/img/o.gif\" width=\"1\"/>\n",
      "       </td>\n",
      "      </tr>\n",
      "      <tr>\n",
      "       <td bgcolor=\"#CCCCCC\">\n",
      "        <img alt=\"\" height=\"1\" src=\"/shared/img/o.gif\" width=\"1\"/>\n",
      "       </td>\n",
      "       <td class=\"servicebg6\">\n",
      "        <img alt=\"\" height=\"1\" src=\"/shared/img/o.gif\" width=\"3\"/>\n",
      "       </td>\n",
      "       <td align=\"right\" class=\"servicebg6\">\n",
      "        <div class=\"servicesnav\">\n",
      "         <a href=\"/2/shared/bsp/hi/services/help/html/default.stm\">\n",
      "          Help\n",
      "         </a>\n",
      "        </div>\n",
      "       </td>\n",
      "       <td class=\"serviceoption6\">\n",
      "        <img alt=\"\" height=\"1\" src=\"/shared/img/o.gif\" width=\"5\"/>\n",
      "       </td>\n",
      "       <td bgcolor=\"#CCCCCC\">\n",
      "        <img alt=\"\" height=\"1\" src=\"/shared/img/o.gif\" width=\"1\"/>\n",
      "       </td>\n",
      "      </tr>\n",
      "      <tr bgcolor=\"#CCCCCC\">\n",
      "       <td>\n",
      "        <img alt=\"\" height=\"1\" src=\"/shared/img/o.gif\" width=\"1\"/>\n",
      "       </td>\n",
      "       <td>\n",
      "        <img alt=\"\" height=\"1\" src=\"/shared/img/o.gif\" width=\"3\"/>\n",
      "       </td>\n",
      "       <td>\n",
      "        <img alt=\"\" height=\"1\" src=\"/shared/img/o.gif\" width=\"90\"/>\n",
      "       </td>\n",
      "       <td>\n",
      "        <img alt=\"\" height=\"1\" src=\"/shared/img/o.gif\" width=\"5\"/>\n",
      "       </td>\n",
      "       <td>\n",
      "        <img alt=\"\" height=\"1\" src=\"/shared/img/o.gif\" width=\"1\"/>\n",
      "       </td>\n",
      "      </tr>\n",
      "      <tr>\n",
      "       <td colspan=\"5\">\n",
      "        <img alt=\"\" height=\"4\" src=\"/shared/img/o.gif\" width=\"1\"/>\n",
      "       </td>\n",
      "      </tr>\n",
      "     </table>\n",
      "     <table border=\"0\" cellpadding=\"0\" cellspacing=\"0\" width=\"100\">\n",
      "      <tr bgcolor=\"#6699CC\">\n",
      "       <td>\n",
      "        <img alt=\"\" height=\"1\" src=\"/shared/img/o.gif\" width=\"1\"/>\n",
      "       </td>\n",
      "       <td>\n",
      "        <img alt=\"\" height=\"1\" src=\"/shared/img/o.gif\" width=\"3\"/>\n",
      "       </td>\n",
      "       <td>\n",
      "        <img alt=\"\" height=\"1\" src=\"/shared/img/o.gif\" width=\"90\"/>\n",
      "       </td>\n",
      "       <td>\n",
      "        <img alt=\"\" height=\"1\" src=\"/shared/img/o.gif\" width=\"5\"/>\n",
      "       </td>\n",
      "       <td>\n",
      "        <img alt=\"\" height=\"1\" src=\"/shared/img/o.gif\" width=\"1\"/>\n",
      "       </td>\n",
      "      </tr>\n",
      "      <tr bgcolor=\"#336699\">\n",
      "       <td align=\"right\" colspan=\"3\">\n",
      "        <div class=\"servicehead\">\n",
      "         EDITIONS\n",
      "        </div>\n",
      "       </td>\n",
      "       <td>\n",
      "        <img alt=\"\" height=\"1\" src=\"/shared/img/o.gif\" width=\"5\"/>\n",
      "       </td>\n",
      "       <td>\n",
      "        <img alt=\"\" height=\"1\" src=\"/shared/img/o.gif\" width=\"1\"/>\n",
      "       </td>\n",
      "      </tr>\n",
      "      <tr>\n",
      "       <td bgcolor=\"#CCCCCC\">\n",
      "        <img alt=\"\" height=\"1\" src=\"/shared/img/o.gif\" width=\"1\"/>\n",
      "       </td>\n",
      "       <td>\n",
      "        <img alt=\"\" height=\"1\" src=\"/shared/img/o.gif\" width=\"3\"/>\n",
      "       </td>\n",
      "       <td align=\"right\">\n",
      "        <div class=\"servicesnavtight\">\n",
      "         <a href=\"/shared/hi/change_edition-news.stm\">\n",
      "          Change to UK\n",
      "         </a>\n",
      "        </div>\n",
      "       </td>\n",
      "       <td>\n",
      "        <img alt=\"\" height=\"1\" src=\"/shared/img/o.gif\" width=\"5\"/>\n",
      "       </td>\n",
      "       <td bgcolor=\"#CCCCCC\">\n",
      "        <img alt=\"\" height=\"1\" src=\"/shared/img/o.gif\" width=\"1\"/>\n",
      "       </td>\n",
      "      </tr>\n",
      "      <tr bgcolor=\"#CCCCCC\">\n",
      "       <td>\n",
      "        <img alt=\"\" height=\"1\" src=\"/shared/img/o.gif\" width=\"1\"/>\n",
      "       </td>\n",
      "       <td>\n",
      "        <img alt=\"\" height=\"1\" src=\"/shared/img/o.gif\" width=\"3\"/>\n",
      "       </td>\n",
      "       <td>\n",
      "        <img alt=\"\" height=\"1\" src=\"/shared/img/o.gif\" width=\"90\"/>\n",
      "       </td>\n",
      "       <td>\n",
      "        <img alt=\"\" height=\"1\" src=\"/shared/img/o.gif\" width=\"5\"/>\n",
      "       </td>\n",
      "       <td>\n",
      "        <img alt=\"\" height=\"1\" src=\"/shared/img/o.gif\" width=\"1\"/>\n",
      "       </td>\n",
      "      </tr>\n",
      "     </table>\n",
      "    </td>\n",
      "    <td>\n",
      "     <img alt=\"\" height=\"200\" src=\"/shared/img/o.gif\" width=\"5\"/>\n",
      "    </td>\n",
      "    <td valign=\"TOP\">\n",
      "     <font face=\"sans-serif\" size=\"1\">\n",
      "      <span class=\"date\">\n",
      "       Friday, 27 September, 2002, 11:51 GMT 12:51 UK\n",
      "      </span>\n",
      "     </font>\n",
      "     <div class=\"headlinestory\">\n",
      "      <b>\n",
      "       Blondes 'to die out in 200 years'\n",
      "      </b>\n",
      "      <br/>\n",
      "     </div>\n",
      "     <div class=\"inlineimage\">\n",
      "      <img alt=\" \" border=\"0\" height=\"180\" src=\"/media/images/38280000/jpg/_38280456_blonde300.jpg\" vspace=\"0\" width=\"300\">\n",
      "       <div class=\"caption\">\n",
      "        <font size=\"1\">\n",
      "         Scientists believe the last blondes will be in Finland\n",
      "        </font>\n",
      "        <br/>\n",
      "       </div>\n",
      "      </img>\n",
      "     </div>\n",
      "     <font class=\"body\" face=\"sans-serif\" size=\"2\">\n",
      "      <div class=\"bodytext\">\n",
      "       The last natural blondes will die out within 200 years, scientists believe.\n",
      "       <p>\n",
      "        A study by experts in Germany suggests people with blonde hair are an endangered species and will become extinct by 2202.\n",
      "        <p>\n",
      "         Researchers predict the last truly natural blonde will be born in Finland - the country with the highest proportion of blondes.\n",
      "         <p>\n",
      "          <!-- GENInlineBOX -->\n",
      "          <table align=\"right\" bgcolor=\"#FFFFCC\" border=\"0\" cellpadding=\"3\" cellspacing=\"0\" class=\"boxbody\" width=\"150\">\n",
      "           <!-- GENInlineQUOTE -->\n",
      "           <tr>\n",
      "            <td>\n",
      "             <img alt=\"\" border=\"0\" height=\"18\" src=\"/nol/shared/img/startquote.gif\" valign=\"TOP\" width=\"23\">\n",
      "              <br>\n",
      "               <div class=\"boxbody\">\n",
      "                The frequency of blondes may drop but they won't disappear\n",
      "               </div>\n",
      "               <img align=\"RIGHT\" alt=\"\" border=\"0\" height=\"18\" src=\"/nol/shared/img/endquote.gif\" valign=\"ABSBOTTOM\" width=\"23\">\n",
      "                <br clear=\"ALL\"/>\n",
      "               </img>\n",
      "              </br>\n",
      "             </img>\n",
      "            </td>\n",
      "           </tr>\n",
      "           <!-- GENInlineNAME -->\n",
      "           <tr>\n",
      "            <td bgcolor=\"cccc99\">\n",
      "             <div class=\"boxhead\">\n",
      "              Prof Jonathan Rees, University of Edinburgh\n",
      "             </div>\n",
      "            </td>\n",
      "           </tr>\n",
      "          </table>\n",
      "          But they say too few people now carry the gene for blondes to last beyond the next two centuries.\n",
      "          <p>\n",
      "           The problem is that blonde hair is caused by a recessive gene.\n",
      "           <p>\n",
      "            In order for a child to have blonde hair, it must have the gene on both sides of the family in the grandparents' generation.\n",
      "            <p>\n",
      "             <b>\n",
      "              Dyed rivals\n",
      "             </b>\n",
      "             <p>\n",
      "              The researchers also believe that so-called bottle blondes may be to blame for the demise of their natural rivals.\n",
      "              <p>\n",
      "               They suggest that dyed-blondes are more attractive to men who choose them as partners over true blondes.\n",
      "               <p>\n",
      "                <!-- GENInlineIMAGE -->\n",
      "                <table align=\"RIGHT\" border=\"0\" cellpadding=\"3\" cellspacing=\"3\" width=\"154\">\n",
      "                 <tr>\n",
      "                  <td>\n",
      "                   <font size=\"2\">\n",
      "                    <div class=\"inlineimage\">\n",
      "                     <img alt=\"Tory MP Ann Widdecombe\" border=\"0\" height=\"180\" src=\"/media/images/38280000/jpg/_38280457_widders150.jpg\" vspace=\"0\" width=\"150\">\n",
      "                      <div class=\"caption\">\n",
      "                       <small>\n",
      "                        Bottle-blondes like Ann Widdecombe may be to blame\n",
      "                       </small>\n",
      "                       <br/>\n",
      "                      </div>\n",
      "                     </img>\n",
      "                    </div>\n",
      "                   </font>\n",
      "                  </td>\n",
      "                 </tr>\n",
      "                </table>\n",
      "                But Jonathan Rees, professor of dermatology at the University of Edinburgh said it was unlikely blondes would die out completely.\n",
      "                <p>\n",
      "                 \"Genes don't die out unless there is a disadvantage of having that gene or by chance. They don't disappear,\" he told BBC News Online.\n",
      "                 <p>\n",
      "                  \"The only reason blondes would disappear is if having the gene was a disadvantage and I do not think that is the case.\n",
      "                  <p>\n",
      "                   \"The frequency of blondes may drop but they won't disappear.\"\n",
      "                   <p>\n",
      "                   </p>\n",
      "                  </p>\n",
      "                 </p>\n",
      "                </p>\n",
      "               </p>\n",
      "              </p>\n",
      "             </p>\n",
      "            </p>\n",
      "           </p>\n",
      "          </p>\n",
      "         </p>\n",
      "        </p>\n",
      "       </p>\n",
      "      </div>\n",
      "     </font>\n",
      "    </td>\n",
      "    <td>\n",
      "     <img alt=\"\" height=\"1\" src=\"/shared/img/o.gif\" width=\"10\"/>\n",
      "    </td>\n",
      "    <td valign=\"TOP\">\n",
      "     <font face=\"sans-serif\" size=\"2\">\n",
      "      <div class=\"rhslist\">\n",
      "       <div class=\"rhshead\">\n",
      "        <b>\n",
      "         See also:\n",
      "        </b>\n",
      "        <br>\n",
      "         <img alt=\"\" height=\"1\" src=\"/shared/img/999999.gif\" vspace=\"2\" width=\"170\">\n",
      "          <br/>\n",
      "         </img>\n",
      "        </br>\n",
      "       </div>\n",
      "       <div class=\"aitem\">\n",
      "        <span class=\"seealsodate\">\n",
      "         28 Mar 01 | Education\n",
      "        </span>\n",
      "        <div>\n",
      "         <a href=\"/2/hi/uk_news/education/1248103.stm\">\n",
      "          <span>\n",
      "           What is it about blondes?\n",
      "          </span>\n",
      "         </a>\n",
      "         <br/>\n",
      "        </div>\n",
      "       </div>\n",
      "       <div class=\"aitem\">\n",
      "        <span class=\"seealsodate\">\n",
      "         09 Apr 99 | Health\n",
      "        </span>\n",
      "        <div>\n",
      "         <a href=\"/2/hi/health/315527.stm\">\n",
      "          <span>\n",
      "           Platinum blondes are labelled as dumb\n",
      "          </span>\n",
      "         </a>\n",
      "         <br/>\n",
      "        </div>\n",
      "       </div>\n",
      "       <div class=\"aitem\">\n",
      "        <span class=\"seealsodate\">\n",
      "         17 Apr 02 | Health\n",
      "        </span>\n",
      "        <div>\n",
      "         <a href=\"/2/hi/health/1934496.stm\">\n",
      "          <span>\n",
      "           Hair dye cancer alert\n",
      "          </span>\n",
      "         </a>\n",
      "         <br/>\n",
      "        </div>\n",
      "       </div>\n",
      "      </div>\n",
      "      <div class=\"rhslist\">\n",
      "       <div class=\"rhshead\">\n",
      "        <b>\n",
      "         Internet links:\n",
      "        </b>\n",
      "        <br>\n",
      "         <img alt=\"\" height=\"1\" src=\"/shared/img/999999.gif\" vspace=\"2\" width=\"170\">\n",
      "          <br/>\n",
      "         </img>\n",
      "        </br>\n",
      "       </div>\n",
      "       <div class=\"aitem\">\n",
      "        <a href=\"http://www.ed.ac.uk/\">\n",
      "         University of Edinburgh\n",
      "        </a>\n",
      "       </div>\n",
      "       <span class=\"disclaimer\">\n",
      "        <br>\n",
      "         The BBC is not responsible for the content of external internet sites\n",
      "        </br>\n",
      "       </span>\n",
      "       <br>\n",
      "       </br>\n",
      "      </div>\n",
      "      <div class=\"rhslist\">\n",
      "       <div class=\"rhshead\">\n",
      "        <b>\n",
      "         Top Health stories now:\n",
      "        </b>\n",
      "        <br>\n",
      "         <img alt=\"\" height=\"1\" src=\"/shared/img/999999.gif\" vspace=\"2\" width=\"170\">\n",
      "          <br/>\n",
      "         </img>\n",
      "        </br>\n",
      "       </div>\n",
      "       <div class=\"bulletheadline\">\n",
      "        <a href=\"/2/hi/health/2770999.stm\">\n",
      "         <span>\n",
      "          Heart risk link to big families\n",
      "         </span>\n",
      "        </a>\n",
      "        <br/>\n",
      "       </div>\n",
      "       <div class=\"bulletheadline\">\n",
      "        <a href=\"/2/hi/health/2761469.stm\">\n",
      "         <span>\n",
      "          Back pain drug 'may aid diabetics'\n",
      "         </span>\n",
      "        </a>\n",
      "        <br/>\n",
      "       </div>\n",
      "       <div class=\"bulletheadline\">\n",
      "        <a href=\"/2/hi/africa/2776719.stm\">\n",
      "         <span>\n",
      "          Congo Ebola outbreak confirmed\n",
      "         </span>\n",
      "        </a>\n",
      "        <br/>\n",
      "       </div>\n",
      "       <div class=\"bulletheadline\">\n",
      "        <a href=\"/2/hi/health/2772499.stm\">\n",
      "         <span>\n",
      "          Vegetables ward off Alzheimer's\n",
      "         </span>\n",
      "        </a>\n",
      "        <br/>\n",
      "       </div>\n",
      "       <div class=\"bulletheadline\">\n",
      "        <a href=\"/2/hi/middle_east/2774951.stm\">\n",
      "         <span>\n",
      "          Polio campaign launched in Iraq\n",
      "         </span>\n",
      "        </a>\n",
      "        <br/>\n",
      "       </div>\n",
      "       <div class=\"bulletheadline\">\n",
      "        <a href=\"/2/hi/health/2760843.stm\">\n",
      "         <span>\n",
      "          Gene defect explains high blood pressure\n",
      "         </span>\n",
      "        </a>\n",
      "        <br/>\n",
      "       </div>\n",
      "       <div class=\"bulletheadline\">\n",
      "        <a href=\"/2/hi/health/2772263.stm\">\n",
      "         <span>\n",
      "          Botox 'may cause new wrinkles'\n",
      "         </span>\n",
      "        </a>\n",
      "        <br/>\n",
      "       </div>\n",
      "       <div class=\"bulletheadline\">\n",
      "        <a href=\"/2/hi/in_depth/sci_tech/2003/denver_2003/2769875.stm\">\n",
      "         <span>\n",
      "          Alien 'abductees' show real symptoms\n",
      "         </span>\n",
      "        </a>\n",
      "        <br/>\n",
      "       </div>\n",
      "      </div>\n",
      "      <img alt=\"\" border=\"0\" height=\"1\" src=\"/shared/img/999999.gif\" width=\"170\">\n",
      "       <div class=\"promotextbold\">\n",
      "        Links to more Health stories are at the foot of the page.\n",
      "        <br>\n",
      "         <img alt=\"\" border=\"0\" height=\"1\" src=\"/shared/img/999999.gif\" vspace=\"4\" width=\"170\">\n",
      "          <br>\n",
      "          </br>\n",
      "         </img>\n",
      "        </br>\n",
      "       </div>\n",
      "      </img>\n",
      "     </font>\n",
      "    </td>\n",
      "   </tr>\n",
      "  </table>\n",
      "  <br>\n",
      "   <table border=\"0\" cellpadding=\"0\" cellspacing=\"0\">\n",
      "    <tr>\n",
      "     <td width=\"115\">\n",
      "      <img alt=\"\" border=\"0\" height=\"1\" src=\"/shared/img/o.gif\" width=\"105\"/>\n",
      "     </td>\n",
      "     <td width=\"315\">\n",
      "      <img alt=\"\" border=\"0\" height=\"1\" src=\"/shared/img/999999.gif\" width=\"315\"/>\n",
      "     </td>\n",
      "    </tr>\n",
      "    <tr>\n",
      "     <td height=\"18\" width=\"115\">\n",
      "      <img alt=\"\" border=\"0\" height=\"1\" src=\"/shared/img/o.gif\" width=\"115\"/>\n",
      "     </td>\n",
      "     <td align=\"left\" width=\"315\">\n",
      "      <a class=\"index\" href=\"http://newsvote.bbc.co.uk/cgi-bin/emailthisstory/emailthisstory.pl\" onclick=\"window.open('http://newsvote.bbc.co.uk/cgi-bin/emailthisstory/emailthisstory.pl','Mailer','status=no,scrollbars=yes,resizable=yes,width=370,height=445');\" target=\"Mailer\">\n",
      "       <img alt=\"\" border=\"0\" height=\"9\" src=\"/sol/shared/img/mail_icon.gif\" width=\"13\">\n",
      "        <span class=\"blueText\">\n",
      "         <b>\n",
      "          E-mail this story to a friend\n",
      "         </b>\n",
      "        </span>\n",
      "       </img>\n",
      "      </a>\n",
      "     </td>\n",
      "    </tr>\n",
      "   </table>\n",
      "   <table border=\"0\" cellpadding=\"0\" cellspacing=\"0\">\n",
      "    <tr>\n",
      "     <td width=\"115\">\n",
      "      <img alt=\"\" height=\"1\" src=\"/shared/img/o.gif\" width=\"115\"/>\n",
      "     </td>\n",
      "     <td width=\"315\">\n",
      "      <img alt=\"\" border=\"0\" height=\"1\" src=\"/shared/img/999999.gif\" width=\"315\"/>\n",
      "     </td>\n",
      "    </tr>\n",
      "    <tr>\n",
      "     <td>\n",
      "      <img alt=\"\" height=\"1\" src=\"/shared/img/o.gif\" width=\"115\"/>\n",
      "     </td>\n",
      "     <td align=\"left\">\n",
      "      <br clear=\"all\">\n",
      "       <font size=\"2\">\n",
      "        <span class=\"blackText\">\n",
      "         <b>\n",
      "          Links to more Health stories\n",
      "         </b>\n",
      "        </span>\n",
      "        <br>\n",
      "         <form name=\"storyMenu\">\n",
      "          <select name=\"storyLink\">\n",
      "           <option value=\"#\">\n",
      "            In This Section\n",
      "           </option>\n",
      "           <option value=\"/2/hi/health/2770999.stm\">\n",
      "            Heart risk link to big families\n",
      "           </option>\n",
      "           <option value=\"/2/hi/health/2761469.stm\">\n",
      "            Back pain drug 'may aid diabetics'\n",
      "           </option>\n",
      "           <option value=\"/2/hi/africa/2776719.stm\">\n",
      "            Congo Ebola outbreak confirmed\n",
      "           </option>\n",
      "           <option value=\"/2/hi/health/2772499.stm\">\n",
      "            Vegetables ward off Alzheimer's\n",
      "           </option>\n",
      "           <option value=\"/2/hi/middle_east/2774951.stm\">\n",
      "            Polio campaign launched in Iraq\n",
      "           </option>\n",
      "           <option value=\"/2/hi/health/2760843.stm\">\n",
      "            Gene defect explains high blood pressure\n",
      "           </option>\n",
      "           <option value=\"/2/hi/health/2772263.stm\">\n",
      "            Botox 'may cause new wrinkles'\n",
      "           </option>\n",
      "           <option value=\"/2/hi/in_depth/sci_tech/2003/denver_2003/2769875.stm\">\n",
      "            Alien 'abductees' show real symptoms\n",
      "           </option>\n",
      "           <option value=\"/2/hi/health/2760623.stm\">\n",
      "            How sperm wriggle\n",
      "           </option>\n",
      "           <option value=\"/2/hi/south_asia/2770437.stm\">\n",
      "            Bollywood told to stub it out\n",
      "           </option>\n",
      "           <option value=\"/2/hi/health/2772005.stm\">\n",
      "            Fears over tuna health risk to babies\n",
      "           </option>\n",
      "           <option value=\"/2/hi/health/2758249.stm\">\n",
      "            Public can be taught to spot strokes\n",
      "           </option>\n",
      "          </select>\n",
      "          <input onclick=\"window.location = document.storyMenu.storyLink.options[document.storyMenu.storyLink.options.selectedIndex].value\" type=\"BUTTON\" value=\"Go\">\n",
      "          </input>\n",
      "         </form>\n",
      "        </br>\n",
      "       </font>\n",
      "      </br>\n",
      "     </td>\n",
      "    </tr>\n",
      "   </table>\n",
      "   <br clear=\"ALL\">\n",
      "    <table border=\"0\" cellpadding=\"0\" cellspacing=\"0\" width=\"610\">\n",
      "     <tr>\n",
      "      <td>\n",
      "       <img alt=\"\" border=\"0\" height=\"1\" src=\"/shared/img/o.gif\" width=\"100\"/>\n",
      "      </td>\n",
      "      <td>\n",
      "       <img alt=\"\" border=\"0\" height=\"1\" src=\"/shared/img/o.gif\" width=\"10\"/>\n",
      "      </td>\n",
      "      <td>\n",
      "       <img alt=\"\" border=\"0\" height=\"1\" src=\"/shared/img/o.gif\" width=\"500\"/>\n",
      "      </td>\n",
      "     </tr>\n",
      "     <tr>\n",
      "      <td colspan=\"3\">\n",
      "       <img alt=\"\" height=\"1\" src=\"/shared/img/000000.gif\" vspace=\"4\" width=\"610\"/>\n",
      "      </td>\n",
      "     </tr>\n",
      "     <tr>\n",
      "      <td align=\"right\" valign=\"top\">\n",
      "       <a href=\"/2/shared/bsp/hi/services/copyright/html/default.stm\">\n",
      "        <img alt=\"© BBC\" border=\"0\" src=\"/nol/shared/img/specials_nav/copyright_bbc.gif\"/>\n",
      "       </a>\n",
      "      </td>\n",
      "      <td>\n",
      "       <img alt=\"\" border=\"0\" height=\"1\" src=\"/shared/img/o.gif\" width=\"10\"/>\n",
      "      </td>\n",
      "      <td>\n",
      "       <font size=\"2\">\n",
      "        <span class=\"footerarrow\">\n",
      "         ^^\n",
      "        </span>\n",
      "        <span class=\"footer\">\n",
      "         <a href=\"#top\">\n",
      "          Back to top\n",
      "         </a>\n",
      "         <p>\n",
      "          <table border=\"0\" cellpadding=\"0\" cellspacing=\"0\" width=\"500\">\n",
      "           <tr>\n",
      "            <td>\n",
      "             <img alt=\"\" border=\"0\" height=\"1\" src=\"/shared/img/o.gif\" width=\"500\"/>\n",
      "            </td>\n",
      "           </tr>\n",
      "           <tr>\n",
      "            <td>\n",
      "             <b class=\"footer\">\n",
      "              <span class=\"footerpiping\">\n",
      "               <a class=\"index\" href=\"/2/hi/default.stm\">\n",
      "                News Front Page\n",
      "               </a>\n",
      "               |\n",
      "               <a class=\"index\" href=\"/2/hi/africa/default.stm\">\n",
      "                Africa\n",
      "               </a>\n",
      "               |\n",
      "               <a class=\"index\" href=\"/2/hi/americas/default.stm\">\n",
      "                Americas\n",
      "               </a>\n",
      "               |\n",
      "               <a class=\"index\" href=\"/2/hi/asia-pacific/default.stm\">\n",
      "                Asia-Pacific\n",
      "               </a>\n",
      "               |\n",
      "               <a class=\"index\" href=\"/2/hi/europe/default.stm\">\n",
      "                Europe\n",
      "               </a>\n",
      "               |\n",
      "               <a class=\"index\" href=\"/2/hi/middle_east/default.stm\">\n",
      "                Middle East\n",
      "               </a>\n",
      "               |\n",
      "               <br>\n",
      "                <a class=\"index\" href=\"/2/hi/south_asia/default.stm\">\n",
      "                 South Asia\n",
      "                </a>\n",
      "                |\n",
      "                <a class=\"index\" href=\"/2/hi/uk_news/default.stm\">\n",
      "                 UK\n",
      "                </a>\n",
      "                |\n",
      "                <a class=\"index\" href=\"/2/hi/business/default.stm\">\n",
      "                 Business\n",
      "                </a>\n",
      "                |\n",
      "                <a class=\"index\" href=\"/2/hi/entertainment/default.stm\">\n",
      "                 Entertainment\n",
      "                </a>\n",
      "                |\n",
      "                <a class=\"index\" href=\"/2/hi/science/nature/default.stm\">\n",
      "                 Science/Nature\n",
      "                </a>\n",
      "                |\n",
      "                <br>\n",
      "                 <a class=\"index\" href=\"/2/hi/technology/default.stm\">\n",
      "                  Technology\n",
      "                 </a>\n",
      "                 |\n",
      "                 <a class=\"index\" href=\"/2/hi/health/default.stm\">\n",
      "                  Health\n",
      "                 </a>\n",
      "                 |\n",
      "                 <a class=\"index\" href=\"/2/hi/talking_point/default.stm\">\n",
      "                  Talking Point\n",
      "                 </a>\n",
      "                 |\n",
      "                 <a class=\"index\" href=\"/2/shared/bsp/hi/country_profiles/html/default.stm\">\n",
      "                  Country Profiles\n",
      "                 </a>\n",
      "                 |\n",
      "                 <a class=\"index\" href=\"/2/shared/bsp/hi/in_depth/html/default.stm\">\n",
      "                  In Depth\n",
      "                 </a>\n",
      "                 |\n",
      "                 <br>\n",
      "                  <a class=\"index\" href=\"/2/hi/programmes/default.stm\">\n",
      "                   Programmes\n",
      "                  </a>\n",
      "                 </br>\n",
      "                </br>\n",
      "               </br>\n",
      "              </span>\n",
      "             </b>\n",
      "            </td>\n",
      "           </tr>\n",
      "          </table>\n",
      "         </p>\n",
      "        </span>\n",
      "       </font>\n",
      "      </td>\n",
      "     </tr>\n",
      "    </table>\n",
      "    <table border=\"0\" cellpadding=\"0\" cellspacing=\"0\" width=\"610\">\n",
      "     <tr>\n",
      "      <td>\n",
      "       <img alt=\"\" height=\"1\" src=\"/shared/img/o.gif\" width=\"110\"/>\n",
      "      </td>\n",
      "      <!-- black line row -->\n",
      "      <td align=\"left\" bgcolor=\"#FFFFFF\" class=\"footer\" valign=\"top\" width=\"600\">\n",
      "       <b>\n",
      "        <span style=\"color : #999999;\">\n",
      "         ----------------------------------------------------------------------------------\n",
      "        </span>\n",
      "        <br>\n",
      "         <a class=\"index\" href=\"/sport2/\">\n",
      "          To BBC Sport&gt;&gt;\n",
      "         </a>\n",
      "         <span style=\"color : #999999;\">\n",
      "          |\n",
      "         </span>\n",
      "         <a class=\"index\" href=\"http://www.bbc.co.uk/weather/\">\n",
      "          To BBC Weather&gt;&gt;\n",
      "         </a>\n",
      "         <span style=\"color : #999999;\">\n",
      "          |\n",
      "         </span>\n",
      "         <a class=\"index\" href=\"http://www.bbc.co.uk/worldservice/index.shtml\">\n",
      "          To BBC World Service&gt;&gt;\n",
      "         </a>\n",
      "         <br>\n",
      "          <b>\n",
      "           <span style=\"color : #999999;\">\n",
      "            ----------------------------------------------------------------------------------\n",
      "           </span>\n",
      "           <br>\n",
      "            <a class=\"footer\" href=\"/2/shared/bsp/hi/services/copyright/html/default.stm\">\n",
      "             <span style=\"font-size : 10px\">\n",
      "              © MMIII\n",
      "             </span>\n",
      "            </a>\n",
      "            <font size=\"1\">\n",
      "             |\n",
      "            </font>\n",
      "            <a class=\"footer\" href=\"/2/shared/bsp/hi/services/help/html/sources.stm\">\n",
      "             <span style=\"font-size : 10px\">\n",
      "              News Sources\n",
      "             </span>\n",
      "            </a>\n",
      "            <font size=\"1\">\n",
      "             |\n",
      "            </font>\n",
      "            <a class=\"footer\" href=\"http://www.bbc.co.uk/privacy/\">\n",
      "             <span style=\"font-size : 10px\">\n",
      "              Privacy\n",
      "             </span>\n",
      "            </a>\n",
      "           </br>\n",
      "          </b>\n",
      "          <br>\n",
      "           <br>\n",
      "            <br>\n",
      "            </br>\n",
      "           </br>\n",
      "          </br>\n",
      "         </br>\n",
      "        </br>\n",
      "       </b>\n",
      "      </td>\n",
      "     </tr>\n",
      "    </table>\n",
      "    <!-- START RedMeasure V4 - Java v1.1  $Revision: 1.9 $ -->\n",
      "    <!-- COPYRIGHT 2000 Red Sheriff Limited -->\n",
      "    <script language=\"JavaScript\">\n",
      "     <!--\r\n",
      "var pCid=\"uk_bbc_0\";\r\n",
      "var w0=1;\r\n",
      "var refR=escape(document.referrer);\r\n",
      "if (refR.length>=252) refR=refR.substring(0,252)+\"...\";\r\n",
      "//-->\n",
      "    </script>\n",
      "    <script language=\"JavaScript1.1\">\n",
      "     <!--\r\n",
      "var w0=0;\r\n",
      "//-->\n",
      "    </script>\n",
      "    <script language=\"JavaScript1.1\" src=\"http://server-uk.imrworldwide.com/a1.js\">\n",
      "    </script>\n",
      "    <script language=\"JavaScript\">\n",
      "     <!--\r\n",
      "if(w0){\r\n",
      "var imgN='<img src=\"http://server-uk.imrworldwide.com/cgi-bin/count?ref='+\r\n",
      "\trefR+'&cid='+pCid+'\" width=1 height=1>';\r\n",
      "if(navigator.userAgent.indexOf('Mac')!=-1){document.write(imgN);\r\n",
      "}else{\r\n",
      "\tdocument.write('<applet code=\"Measure.class\" '+\r\n",
      "\t'codebase=\"http://server-uk.imrworldwide.com/\"'+'width=1 height=2>'+\r\n",
      "\t'<param name=\"ref\" value=\"'+refR+'\">'+'<param name=\"cid\" value=\"'+pCid+\r\n",
      "\t'\"><textflow>'+imgN+'</textflow></applet>');\r\n",
      "\t}\r\n",
      "}\r\n",
      "document.write(\"<COMMENT>\");\r\n",
      "//-->\n",
      "    </script>\n",
      "    <noscript>\n",
      "     <img height=\"1\" src=\"http://server-uk.imrworldwide.com/cgi-bin/count?cid=uk_bbc_0\" width=\"1\">\n",
      "     </img>\n",
      "    </noscript>\n",
      "   </br>\n",
      "  </br>\n",
      " </body>\n",
      "</html>\n",
      "<!-- END RedMeasure V4 -->\n",
      "<script>\n",
      " var si = document.location+\"\";\r\n",
      "\tvar tsi = si.replace(\".stm\",\"\").substr(si.length-11, si.length);\r\n",
      "\tif (!tsi.match(/\\d\\d\\d\\d\\d\\d\\d/)) {tsi = 0;}\r\n",
      "\tdocument.write('<img src=\"http://stats.bbc.co.uk/o.gif?~RS~s~RS~News~RS~t~RS~HighWeb_Legacy~RS~i~RS~' + tsi + '~RS~p~RS~0~RS~u~RS~/2/hi/health/2284783.stm~RS~r~RS~(none)~RS~a~RS~International~RS~q~RS~~RS~z~RS~15~RS~\">');\n",
      "</script>\n",
      "<noscript>\n",
      " <img src=\"http://stats.bbc.co.uk/o.gif?~RS~s~RS~News~RS~t~RS~HighWeb_Legacy~RS~i~RS~0~RS~p~RS~0~RS~u~RS~/2/hi/health/2284783.stm~RS~r~RS~(none)~RS~a~RS~International~RS~q~RS~~RS~z~RS~15~RS~\">\n",
      " </img>\n",
      "</noscript>\n",
      "<br>\n",
      " <link href=\"/nol/shared/stylesheets/uki_globalstylesheet.css\" rel=\"stylesheet\" type=\"text/css\">\n",
      " </link>\n",
      "</br>\n",
      "\n"
     ]
    }
   ],
   "source": [
    "print(BeautifulSoup(html, 'html.parser').prettify())"
   ]
  },
  {
   "cell_type": "code",
   "execution_count": 17,
   "metadata": {
    "collapsed": false
   },
   "outputs": [
    {
     "data": {
      "text/plain": [
       "'\\n\\n\\nBBC NEWS | Health | Blondes \\'to die out in 200 years\\'\\n\\n\\n\\n\\n\\n\\n\\n\\n\\n\\n\\n\\n\\n\\n\\n\\n\\n\\n\\n\\n\\n\\n\\n\\n\\n\\n\\n\\n\\n\\n\\n\\n\\n\\n\\n\\n\\n\\nNEWS\\n\\xa0\\xa0SPORT\\n\\xa0\\xa0WEATHER\\n\\xa0\\xa0WORLD SERVICE\\n\\n\\xa0\\xa0A-Z INDEX\\xa0\\n\\n\\xa0\\xa0SEARCH\\xa0\\n\\n\\n\\n\\n\\n\\n\\n\\n\\n\\n\\n\\n\\n\\n\\n\\n\\n\\n\\n\\n\\n\\n\\n\\n\\n\\n\\n\\n\\n\\n\\n\\n\\n\\n\\n\\n\\n\\n\\n\\n\\n\\n\\n\\r\\n    \\xa0You are in:\\xa0Health \\xa0\\r\\n    \\r\\n    \\r\\n\\n\\n\\n\\n\\n\\n\\n\\n\\n\\n\\nNews Front Page\\n\\n\\n\\n\\n\\nAfrica\\n\\n\\nAmericas\\n\\n\\nAsia-Pacific\\n\\n\\nEurope\\n\\n\\nMiddle East\\n\\n\\nSouth Asia\\n\\n\\nUK\\n\\n\\nBusiness\\n\\n\\nEntertainment\\n\\n\\nScience/Nature\\n\\n\\nTechnology\\n\\n\\nHealth\\n\\n\\nMedical notes\\n\\n\\n-------------\\n\\n\\nTalking Point\\n\\n\\n-------------\\n\\n\\nCountry Profiles\\n\\n\\nIn Depth\\n\\n\\n-------------\\n\\n\\nProgrammes\\n\\n\\n-------------\\n\\n\\n\\n\\n\\n\\n\\n\\n\\n\\n\\n\\n\\n\\n\\n\\n\\n\\n\\n\\n\\n\\n\\n\\n\\n\\nSERVICES\\r\\n\\n\\n\\n\\n\\n\\n\\nDaily E-mail\\r\\n\\n\\n\\n\\n\\n\\n\\nNews Ticker\\r\\n\\n\\n\\n\\n\\n\\n\\nMobile/PDAs\\r\\n\\n\\n\\n\\n\\n\\n-------------\\r\\n\\n\\n\\n\\n\\n\\n\\n\\n\\n\\n\\n\\n\\n\\n\\nText Only\\n\\n\\n\\n\\n\\n\\n\\n\\nFeedback\\r\\n\\n\\n\\n\\n\\n\\n\\nHelp\\r\\n\\n\\n\\n\\n\\n\\n\\n\\n\\n\\n\\n\\n\\n\\n\\n\\n\\n\\n\\n\\n\\n\\n\\n\\nEDITIONS\\r\\n\\n\\n\\n\\n\\n\\n\\nChange to UK\\r\\n\\n\\n\\n\\n\\n\\n\\n\\n\\n\\n\\n\\n\\n\\n\\nFriday, 27 September, 2002, 11:51 GMT 12:51 UK\\r\\n\\nBlondes \\'to die out in 200 years\\'\\n\\n\\nScientists believe the last blondes will be in Finland\\n\\n\\n\\r\\n\\tThe last natural blondes will die out within 200 years, scientists believe. \\r\\n\\r\\nA study by experts in Germany suggests people with blonde hair are an endangered species and will become extinct by 2202.\\r\\n\\r\\nResearchers predict the last truly natural blonde will be born in Finland - the country with the highest proportion of blondes. \\r\\n\\n\\n\\n\\n\\r\\n\\r\\n\\r\\n\\r\\n\\r\\n\\r\\n\\tThe frequency of blondes may drop but they won\\'t disappear\\r\\n\\r\\n\\r\\n\\r\\n\\r\\n\\r\\n\\t\\n\\n\\r\\n\\r\\n\\r\\n\\r\\n\\r\\n\\r\\n\\tProf Jonathan Rees, University of Edinburgh\\r\\n\\r\\n\\r\\n\\r\\n\\r\\n\\r\\n\\t\\n\\r\\n\\r\\n\\r\\n\\r\\n\\r\\n\\t\\r\\nBut they say too few people now carry the gene for blondes to last beyond the next two centuries. \\r\\n\\r\\nThe problem is that blonde hair is caused by a recessive gene. \\r\\n\\r\\nIn order for a child to have blonde hair, it must have the gene on both sides of the family in the grandparents\\' generation. \\r\\nDyed rivals\\n\\r\\n\\r\\nThe researchers also believe that so-called bottle blondes may be to blame for the demise of their natural rivals. \\r\\n\\r\\nThey suggest that dyed-blondes are more attractive to men who choose them as partners over true blondes. \\r\\n\\n\\n\\n\\n\\nBottle-blondes like Ann Widdecombe may be to blame\\n\\n\\r\\n\\t\\t\\r\\n\\r\\n\\t\\r\\nBut Jonathan Rees, professor of dermatology at the University of Edinburgh said it was unlikely blondes would die out completely. \\r\\n\\r\\n\"Genes don\\'t die out unless there is a disadvantage of having that gene or by chance. They don\\'t disappear,\" he told BBC News Online.\\r\\n\\r\\n\"The only reason blondes would disappear is if having the gene was a disadvantage and I do not think that is the case. \\r\\n\\r\\n\"The frequency of blondes may drop but they won\\'t disappear.\"\\r\\n\\n\\n\\n\\n\\n\\nSee also:\\n\\n28 Mar 01\\xa0|\\xa0Education\\nWhat is it about blondes?\\n\\n\\n09 Apr 99\\xa0|\\xa0Health\\nPlatinum blondes are labelled as dumb\\n\\n\\n17 Apr 02\\xa0|\\xa0Health\\nHair dye cancer alert\\n\\n\\n\\nInternet links:\\nUniversity of Edinburgh\\nThe BBC is not responsible for the content of external internet sites\\n\\n\\nTop Health stories now:\\nHeart risk link to big families\\nBack pain drug \\'may aid diabetics\\'\\nCongo Ebola outbreak confirmed\\nVegetables ward off Alzheimer\\'s\\nPolio campaign launched in Iraq\\nGene defect explains high blood pressure\\nBotox \\'may cause new wrinkles\\'\\nAlien \\'abductees\\' show real symptoms\\n\\n\\nLinks to more Health stories are at the foot of the page.\\n\\n\\n\\n\\n\\n\\n\\n\\n\\n\\n\\n\\n E-mail this story to a friend\\n\\n\\n\\n\\n\\n\\n\\n\\n\\n\\n\\n\\n\\nLinks to more Health stories\\n\\n\\n\\nIn This Section\\nHeart risk link to big families\\nBack pain drug \\'may aid diabetics\\'\\nCongo Ebola outbreak confirmed\\nVegetables ward off Alzheimer\\'s\\nPolio campaign launched in Iraq\\nGene defect explains high blood pressure\\nBotox \\'may cause new wrinkles\\'\\nAlien \\'abductees\\' show real symptoms\\nHow sperm wriggle\\nBollywood told to stub it out\\nFears over tuna health risk to babies\\nPublic can be taught to spot strokes\\n\\n\\n\\n\\n\\n\\n\\n\\n\\n\\n\\n\\n\\n\\n\\n\\n\\n\\n\\n\\n\\n\\n^^  \\nBack to top\\n\\n\\n\\n\\n\\n\\n\\nNews Front Page\\r\\n | \\r\\n\\r\\n\\r\\nAfrica\\r\\n | \\r\\n\\r\\n\\r\\nAmericas\\r\\n | \\r\\n\\r\\n\\r\\nAsia-Pacific\\r\\n | \\r\\n\\r\\n\\r\\nEurope\\r\\n | \\r\\n\\r\\n\\r\\nMiddle East\\r\\n | \\r\\n\\nSouth Asia\\r\\n | \\r\\n\\r\\n\\r\\nUK\\r\\n | \\r\\n\\r\\n\\r\\nBusiness\\r\\n | \\r\\n\\r\\n\\r\\nEntertainment\\r\\n | \\r\\n\\r\\n\\r\\nScience/Nature\\r\\n | \\r\\n\\nTechnology\\r\\n | \\r\\n\\r\\n\\r\\nHealth\\r\\n | \\r\\n\\r\\n\\r\\nTalking Point\\r\\n | \\r\\n\\r\\nCountry Profiles\\r\\n\\r\\n | \\r\\n\\r\\nIn Depth\\r\\n\\r\\n | \\r\\n\\nProgrammes\\n\\n\\n\\n\\n\\n\\n\\n\\n\\n\\n----------------------------------------------------------------------------------\\r\\n\\n\\nTo BBC Sport>>\\r\\n |\\r\\n To BBC Weather>>\\r\\n |\\r\\n To BBC World Service>>\\r\\n\\n\\n----------------------------------------------------------------------------------\\r\\n\\n\\n© MMIII\\r\\n |\\r\\n News Sources\\r\\n |\\r\\n Privacy\\r\\n\\n\\n\\n\\n\\n\\n\\n<!--\\r\\nvar pCid=\"uk_bbc_0\";\\r\\nvar w0=1;\\r\\nvar refR=escape(document.referrer);\\r\\nif (refR.length>=252) refR=refR.substring(0,252)+\"...\";\\r\\n//-->\\n<!--\\r\\nvar w0=0;\\r\\n//-->\\n\\n\\n<!--\\r\\nif(w0){\\r\\nvar imgN=\\'<img src=\"http://server-uk.imrworldwide.com/cgi-bin/count?ref=\\'+\\r\\n\\trefR+\\'&cid=\\'+pCid+\\'\" width=1 height=1>\\';\\r\\nif(navigator.userAgent.indexOf(\\'Mac\\')!=-1){document.write(imgN);\\r\\n}else{\\r\\n\\tdocument.write(\\'<applet code=\"Measure.class\" \\'+\\r\\n\\t\\'codebase=\"http://server-uk.imrworldwide.com/\"\\'+\\'width=1 height=2>\\'+\\r\\n\\t\\'<param name=\"ref\" value=\"\\'+refR+\\'\">\\'+\\'<param name=\"cid\" value=\"\\'+pCid+\\r\\n\\t\\'\"><textflow>\\'+imgN+\\'</textflow></applet>\\');\\r\\n\\t}\\r\\n}\\r\\ndocument.write(\"<COMMENT>\");\\r\\n//-->\\r\\n\\n\\n\\n\\n\\n\\n\\r\\n\\tvar si = document.location+\"\";\\r\\n\\tvar tsi = si.replace(\".stm\",\"\").substr(si.length-11, si.length);\\r\\n\\tif (!tsi.match(/\\\\d\\\\d\\\\d\\\\d\\\\d\\\\d\\\\d/)) {tsi = 0;}\\r\\n\\tdocument.write(\\'<img src=\"http://stats.bbc.co.uk/o.gif?~RS~s~RS~News~RS~t~RS~HighWeb_Legacy~RS~i~RS~\\' + tsi + \\'~RS~p~RS~0~RS~u~RS~/2/hi/health/2284783.stm~RS~r~RS~(none)~RS~a~RS~International~RS~q~RS~~RS~z~RS~15~RS~\">\\');\\r\\n\\n\\n\\n\\n\\n\\n\\n\\n'"
      ]
     },
     "execution_count": 17,
     "metadata": {},
     "output_type": "execute_result"
    }
   ],
   "source": [
    "bshtml"
   ]
  },
  {
   "cell_type": "code",
   "execution_count": 18,
   "metadata": {
    "collapsed": false
   },
   "outputs": [
    {
     "data": {
      "text/plain": [
       "['BBC', 'NEWS', '|', 'Health', '|', 'Blondes', \"'to\", 'die', 'out', 'in']"
      ]
     },
     "execution_count": 18,
     "metadata": {},
     "output_type": "execute_result"
    }
   ],
   "source": [
    "tokens = nltk.word_tokenize(bshtml)\n",
    "tokens[:10]"
   ]
  },
  {
   "cell_type": "code",
   "execution_count": 19,
   "metadata": {
    "collapsed": false
   },
   "outputs": [
    {
     "data": {
      "text/plain": [
       "['UK',\n",
       " 'Blondes',\n",
       " \"'to\",\n",
       " 'die',\n",
       " 'out',\n",
       " 'in',\n",
       " '200',\n",
       " \"years'\",\n",
       " 'Scientists',\n",
       " 'believe']"
      ]
     },
     "execution_count": 19,
     "metadata": {},
     "output_type": "execute_result"
    },
    {
     "data": {
      "text/plain": [
       "nltk.text.Text"
      ]
     },
     "execution_count": 19,
     "metadata": {},
     "output_type": "execute_result"
    },
    {
     "data": {
      "text/plain": [
       "<Text: BBC NEWS | Health | Blondes 'to die...>"
      ]
     },
     "execution_count": 19,
     "metadata": {},
     "output_type": "execute_result"
    }
   ],
   "source": [
    "tokens[110:120]\n",
    "text = nltk.Text(tokens)\n",
    "type(text)\n",
    "text"
   ]
  },
  {
   "cell_type": "code",
   "execution_count": 22,
   "metadata": {
    "collapsed": false,
    "scrolled": false
   },
   "outputs": [
    {
     "name": "stdout",
     "output_type": "stream",
     "text": [
      "Displaying 7 of 7 matches:\n",
      "hey say too few people now carry the gene for blondes to last beyond the next \n",
      "blonde hair is caused by a recessive gene . In order for a child to have blond\n",
      " have blonde hair , it must have the gene on both sides of the family in the g\n",
      "ere is a disadvantage of having that gene or by chance . They do n't disappear\n",
      "des would disappear is if having the gene was a disadvantage and I do not thin\n",
      "er's Polio campaign launched in Iraq Gene defect explains high blood pressure \n",
      "er's Polio campaign launched in Iraq Gene defect explains high blood pressure \n"
     ]
    }
   ],
   "source": [
    "text.concordance('gene') # 查找gene及其上下文"
   ]
  },
  {
   "cell_type": "markdown",
   "metadata": {},
   "source": [
    "### RSS订阅"
   ]
  },
  {
   "cell_type": "markdown",
   "metadata": {},
   "source": [
    "#### 博客圈是文本的重要来源， 无论是正式的还是非正式的。\n",
    "The blogosphere is an important source of text, in both formal and informal registers. "
   ]
  },
  {
   "cell_type": "code",
   "execution_count": 23,
   "metadata": {
    "collapsed": false
   },
   "outputs": [],
   "source": [
    "import feedparser"
   ]
  },
  {
   "cell_type": "code",
   "execution_count": 24,
   "metadata": {
    "collapsed": false
   },
   "outputs": [
    {
     "data": {
      "text/plain": [
       "'Language Log'"
      ]
     },
     "execution_count": 24,
     "metadata": {},
     "output_type": "execute_result"
    }
   ],
   "source": [
    "llog = feedparser.parse('http://languagelog.ldc.upenn.edu/nll/?feed=atom')\n",
    "llog['feed']['title']"
   ]
  },
  {
   "cell_type": "code",
   "execution_count": 25,
   "metadata": {
    "collapsed": false
   },
   "outputs": [
    {
     "data": {
      "text/plain": [
       "13"
      ]
     },
     "execution_count": 25,
     "metadata": {},
     "output_type": "execute_result"
    }
   ],
   "source": [
    "len(llog.entries)"
   ]
  },
  {
   "cell_type": "code",
   "execution_count": 26,
   "metadata": {
    "collapsed": false
   },
   "outputs": [
    {
     "data": {
      "text/plain": [
       "'Uncle Martian knocks off Under Armour'"
      ]
     },
     "execution_count": 26,
     "metadata": {},
     "output_type": "execute_result"
    }
   ],
   "source": [
    "post = llog.entries[2]\n",
    "post.title"
   ]
  },
  {
   "cell_type": "code",
   "execution_count": 27,
   "metadata": {
    "collapsed": false,
    "scrolled": true
   },
   "outputs": [
    {
     "data": {
      "text/plain": [
       "'<p>From William Lou, \"<a href=\"https://www.thescore.com/nba/news/13442'"
      ]
     },
     "execution_count": 27,
     "metadata": {},
     "output_type": "execute_result"
    },
    {
     "data": {
      "text/plain": [
       "str"
      ]
     },
     "execution_count": 27,
     "metadata": {},
     "output_type": "execute_result"
    }
   ],
   "source": [
    "content = post.content[0].value\n",
    "content[0:70] \n",
    "type(content)"
   ]
  },
  {
   "cell_type": "code",
   "execution_count": 28,
   "metadata": {
    "collapsed": false
   },
   "outputs": [
    {
     "data": {
      "text/plain": [
       "['From',\n",
       " 'William',\n",
       " 'Lou',\n",
       " ',',\n",
       " '``',\n",
       " 'Obvious',\n",
       " 'Chinese',\n",
       " 'knockoff',\n",
       " 'ruled',\n",
       " 'trademark',\n",
       " 'infringement',\n",
       " 'of',\n",
       " 'Under',\n",
       " 'Armour',\n",
       " \"''\",\n",
       " ',',\n",
       " 'theScore',\n",
       " '(',\n",
       " '8/4/17',\n",
       " ')']"
      ]
     },
     "execution_count": 28,
     "metadata": {},
     "output_type": "execute_result"
    }
   ],
   "source": [
    "raw = BeautifulSoup(content,'html.parser').get_text()\n",
    "nltk.word_tokenize(raw)[:20]"
   ]
  },
  {
   "cell_type": "markdown",
   "metadata": {},
   "source": [
    "### 读取本地文件"
   ]
  },
  {
   "cell_type": "markdown",
   "metadata": {},
   "source": [
    "#### 为了读取本地文件，我们需要使用Python内置的open()函数，然后是read()方法"
   ]
  },
  {
   "cell_type": "code",
   "execution_count": 29,
   "metadata": {
    "collapsed": false,
    "scrolled": true
   },
   "outputs": [
    {
     "data": {
      "text/plain": [
       "'A few words about Dostoevsky himself may help the English reader to\\nunderstand his work.\\n\\nDostoevsky was the son of a doctor. His parents were very hard-working\\nand deeply religious people, but so poor that they lived with their five\\nchildren in only two rooms. The father and mother spent their evenings\\nin reading aloud to their children, generally from books of a serious\\ncharacter.\\n\\nThough always sickly and delicate Dostoevsky came out third in the\\nfinal examination of the Petersburg school of Engineering. There he had\\nalready begun his first work, \"Poor Folk.\"\\n'"
      ]
     },
     "execution_count": 29,
     "metadata": {},
     "output_type": "execute_result"
    }
   ],
   "source": [
    "f = open('document.txt')\n",
    "raw = f.read()\n",
    "raw"
   ]
  },
  {
   "cell_type": "code",
   "execution_count": 30,
   "metadata": {
    "collapsed": false
   },
   "outputs": [
    {
     "name": "stdout",
     "output_type": "stream",
     "text": [
      "A few words about Dostoevsky himself may help the English reader to\n",
      "understand his work.\n",
      "\n",
      "Dostoevsky was the son of a doctor. His parents were very hard-working\n",
      "and deeply religious people, but so poor that they lived with their five\n",
      "children in only two rooms. The father and mother spent their evenings\n",
      "in reading aloud to their children, generally from books of a serious\n",
      "character.\n",
      "\n",
      "Though always sickly and delicate Dostoevsky came out third in the\n",
      "final examination of the Petersburg school of Engineering. There he had\n",
      "already begun his first work, \"Poor Folk.\"\n"
     ]
    }
   ],
   "source": [
    "#　open('document.txt', 'rU') — \n",
    "# 'r' means to open the file for reading (the default), \n",
    "# and 'U' stands for \"Universal\", which lets us ignore the different conventions used for marking newlines.\n",
    "\n",
    "f=open('document.txt', 'r')\n",
    "for line in f:\n",
    "    print(line.strip())"
   ]
  },
  {
   "cell_type": "markdown",
   "metadata": {},
   "source": [
    "## 3.2 字符串：最底层的文本处理"
   ]
  },
  {
   "cell_type": "markdown",
   "metadata": {},
   "source": [
    "#### 如果一个字符串中包含一个单引号，则在单引号前加反斜杠，也可将此字符串放在双引号中\n",
    "多行字符串用斜杠\\或者（）表示。\n",
    "两行之间的转换用三重引号表示。"
   ]
  },
  {
   "cell_type": "code",
   "execution_count": 31,
   "metadata": {
    "collapsed": false
   },
   "outputs": [
    {
     "name": "stdout",
     "output_type": "stream",
     "text": [
      "Shall I compare thee to a Summer's day?Thou are more lovely and more temperate:\n",
      "Shall I compare thee to a Summer's day?Thou are more lovely and more temperate:\n"
     ]
    }
   ],
   "source": [
    "ouplet1 = \"Shall I compare thee to a Summer's day?\"\\\n",
    "\"Thou are more lovely and more temperate:\" \n",
    "ouplet2 = (\"Shall I compare thee to a Summer's day?\"\n",
    "\"Thou are more lovely and more temperate:\" )\n",
    "\n",
    "print(ouplet1)\n",
    "print(ouplet2)"
   ]
  },
  {
   "cell_type": "code",
   "execution_count": 32,
   "metadata": {
    "collapsed": false
   },
   "outputs": [
    {
     "name": "stdout",
     "output_type": "stream",
     "text": [
      "Shall I compare thee to a Summer's day?\n",
      "Thou are more lovely and more temperate.\n"
     ]
    }
   ],
   "source": [
    "ouplet3 = '''Shall I compare thee to a Summer's day?\n",
    "Thou are more lovely and more temperate.'''\n",
    "print(ouplet3)"
   ]
  },
  {
   "cell_type": "code",
   "execution_count": 33,
   "metadata": {
    "collapsed": false
   },
   "outputs": [
    {
     "name": "stdout",
     "output_type": "stream",
     "text": [
      "            very\n",
      "          veryvery\n",
      "        veryveryvery\n",
      "      veryveryveryvery\n",
      "    veryveryveryveryvery\n",
      "  veryveryveryveryveryvery\n",
      "veryveryveryveryveryveryvery\n",
      "  veryveryveryveryveryvery\n",
      "    veryveryveryveryvery\n",
      "      veryveryveryvery\n",
      "        veryveryvery\n",
      "          veryvery\n",
      "            very\n"
     ]
    }
   ],
   "source": [
    "a = [1, 2, 3, 4, 5, 6, 7, 6, 5, 4, 3, 2, 1]\n",
    "b = [' ' * 2 * (7 - i) + 'very' * i for i in a]\n",
    "for line in b:\n",
    "    print(line)"
   ]
  },
  {
   "cell_type": "code",
   "execution_count": 34,
   "metadata": {
    "collapsed": false
   },
   "outputs": [
    {
     "name": "stdout",
     "output_type": "stream",
     "text": [
      "Monty Python Holy Grail\n",
      "Monty PythonHoly Grail\n",
      "Monty Python and the grail\n"
     ]
    }
   ],
   "source": [
    "monty = 'Monty Python'\n",
    "grail = 'Holy Grail'\n",
    "print(monty, grail)\n",
    "print(monty + grail)\n",
    "print(monty,'and the','grail')"
   ]
  },
  {
   "cell_type": "code",
   "execution_count": 35,
   "metadata": {
    "collapsed": false
   },
   "outputs": [
    {
     "data": {
      "text/plain": [
       "[('e', 117092), ('t', 87996), ('a', 77916), ('o', 69326), ('n', 65617)]"
      ]
     },
     "execution_count": 35,
     "metadata": {},
     "output_type": "execute_result"
    }
   ],
   "source": [
    "# 计数单个字符\n",
    "from nltk.corpus import gutenberg\n",
    "raw = gutenberg.raw('melville-moby_dick.txt')\n",
    "fdist = nltk.FreqDist(ch.lower() for ch in raw if ch.isalpha())\n",
    "fdist.most_common(5)"
   ]
  },
  {
   "cell_type": "code",
   "execution_count": 36,
   "metadata": {
    "collapsed": false
   },
   "outputs": [
    {
     "data": {
      "text/plain": [
       "[{'e': 117092},\n",
       " {'t': 87996},\n",
       " {'a': 77916},\n",
       " {'o': 69326},\n",
       " {'n': 65617},\n",
       " {'i': 65434},\n",
       " {'s': 64231},\n",
       " {'h': 62896},\n",
       " {'r': 52134},\n",
       " {'l': 42793},\n",
       " {'d': 38219},\n",
       " {'u': 26697},\n",
       " {'m': 23277},\n",
       " {'c': 22507},\n",
       " {'w': 22222},\n",
       " {'f': 20833},\n",
       " {'g': 20820},\n",
       " {'p': 17255},\n",
       " {'b': 16877},\n",
       " {'y': 16872},\n",
       " {'v': 8598},\n",
       " {'k': 8059},\n",
       " {'q': 1556},\n",
       " {'j': 1082},\n",
       " {'x': 1030},\n",
       " {'z': 632}]"
      ]
     },
     "execution_count": 36,
     "metadata": {},
     "output_type": "execute_result"
    }
   ],
   "source": [
    "[{char:count} for (char, count) in fdist.most_common()]"
   ]
  },
  {
   "cell_type": "markdown",
   "metadata": {},
   "source": [
    "### String Methods"
   ]
  },
  {
   "cell_type": "markdown",
   "metadata": {},
   "source": [
    "字符串不可更改，但list可更改，tuple不可更改\n",
    "\n",
    "s.find(t)  s.rfind(t)\n",
    "s.index(t)\n",
    "s.rindex(t)\n",
    "s.join(text)\n",
    "s.split(t)\n",
    "s.splitlines()\n",
    "s.lower()\n",
    "s.upper()\n",
    "s.title()\n",
    "s.strip()\n",
    "s.replace(t, u)"
   ]
  },
  {
   "cell_type": "code",
   "execution_count": 37,
   "metadata": {
    "collapsed": false
   },
   "outputs": [
    {
     "data": {
      "text/plain": [
       "2"
      ]
     },
     "execution_count": 37,
     "metadata": {},
     "output_type": "execute_result"
    }
   ],
   "source": [
    "s='who knows?'\n",
    "s.find('o')"
   ]
  },
  {
   "cell_type": "code",
   "execution_count": 38,
   "metadata": {
    "collapsed": false
   },
   "outputs": [
    {
     "data": {
      "text/plain": [
       "6"
      ]
     },
     "execution_count": 38,
     "metadata": {},
     "output_type": "execute_result"
    }
   ],
   "source": [
    "s.rfind('o')"
   ]
  },
  {
   "cell_type": "code",
   "execution_count": 39,
   "metadata": {
    "collapsed": false
   },
   "outputs": [
    {
     "data": {
      "text/plain": [
       "8"
      ]
     },
     "execution_count": 39,
     "metadata": {},
     "output_type": "execute_result"
    }
   ],
   "source": [
    "s.index('s')"
   ]
  },
  {
   "cell_type": "code",
   "execution_count": 40,
   "metadata": {
    "collapsed": false
   },
   "outputs": [
    {
     "data": {
      "text/plain": [
       "'Nwho knows?M'"
      ]
     },
     "execution_count": 40,
     "metadata": {},
     "output_type": "execute_result"
    }
   ],
   "source": [
    "s.join('NM') "
   ]
  },
  {
   "cell_type": "code",
   "execution_count": 41,
   "metadata": {
    "collapsed": false
   },
   "outputs": [
    {
     "data": {
      "text/plain": [
       "['who k', 'ows?']"
      ]
     },
     "execution_count": 41,
     "metadata": {},
     "output_type": "execute_result"
    }
   ],
   "source": [
    "s.split('n')"
   ]
  },
  {
   "cell_type": "code",
   "execution_count": 42,
   "metadata": {
    "collapsed": false
   },
   "outputs": [
    {
     "data": {
      "text/plain": [
       "'what the heck'"
      ]
     },
     "execution_count": 42,
     "metadata": {},
     "output_type": "execute_result"
    },
    {
     "data": {
      "text/plain": [
       "'WHAT THE HECK'"
      ]
     },
     "execution_count": 42,
     "metadata": {},
     "output_type": "execute_result"
    },
    {
     "data": {
      "text/plain": [
       "'What The Heck'"
      ]
     },
     "execution_count": 42,
     "metadata": {},
     "output_type": "execute_result"
    },
    {
     "data": {
      "text/plain": [
       "'What the HECK'"
      ]
     },
     "execution_count": 42,
     "metadata": {},
     "output_type": "execute_result"
    },
    {
     "data": {
      "text/plain": [
       "'WhaS She HECK'"
      ]
     },
     "execution_count": 42,
     "metadata": {},
     "output_type": "execute_result"
    }
   ],
   "source": [
    "'What the HECK'.lower()\n",
    "'What the HECK'.upper()\n",
    "'What the HECK'.title() # 将字符串s首字母大写\n",
    "'   What the HECK    '.strip() # 返回一个没有首尾空白字符的s的拷贝\n",
    "'What the HECK'.replace('t', 'S')"
   ]
  },
  {
   "cell_type": "markdown",
   "metadata": {},
   "source": [
    "## 3.3 使用Unicode进行文字处理"
   ]
  },
  {
   "cell_type": "markdown",
   "metadata": {},
   "source": [
    "#### Unicode支持超过一百万种字符。每个字符分配一个编号，称为编码点。在 Python中，\n",
    "编码点写作\\uXXXX的形式，其中XXXX是四位十六进制形式数。  \n",
    "文件中的文本都是有特定编码的， 所以我们需要一些机制来将文本翻译成Unicode——\n",
    "翻译成 Unicode叫做解码(decoding)。 相对的， 要将Unicode写入一个文件或终端， 我们首先需要将U\n",
    "nicode转化为合适的编码——这种将 Unicode转化为其它编码的过程叫做编码(encoding)"
   ]
  },
  {
   "cell_type": "markdown",
   "metadata": {},
   "source": [
    "#### GB2312、Latin-2、UTF-8—>decode（Unicode）—> encode—> GB2312、Latin-2、UTF-8"
   ]
  },
  {
   "cell_type": "code",
   "execution_count": 43,
   "metadata": {
    "collapsed": true
   },
   "outputs": [],
   "source": [
    "# 从文件中提取已编码文件\n",
    "path = nltk.data.find('corpora/unicode_samples/polish-lat2.txt')\n"
   ]
  },
  {
   "cell_type": "code",
   "execution_count": 44,
   "metadata": {
    "collapsed": false
   },
   "outputs": [
    {
     "name": "stdout",
     "output_type": "stream",
     "text": [
      "Pruska Biblioteka Państwowa. Jej dawne zbiory znane pod nazwą\n",
      "\"Berlinka\" to skarb kultury i sztuki niemieckiej. Przewiezione przez\n",
      "Niemców pod koniec II wojny światowej na Dolny Śląsk, zostały\n",
      "odnalezione po 1945 r. na terytorium Polski. Trafiły do Biblioteki\n",
      "Jagiellońskiej w Krakowie, obejmują ponad 500 tys. zabytkowych\n",
      "archiwaliów, m.in. manuskrypty Goethego, Mozarta, Beethovena, Bacha.\n"
     ]
    }
   ],
   "source": [
    "f = open(path, encoding='latin2')\n",
    "for line in f:\n",
    "    line = line.strip()\n",
    "    print(line)"
   ]
  },
  {
   "cell_type": "code",
   "execution_count": 45,
   "metadata": {
    "collapsed": false
   },
   "outputs": [
    {
     "name": "stdout",
     "output_type": "stream",
     "text": [
      "b'Pruska Biblioteka Pa\\\\u0144stwowa. Jej dawne zbiory znane pod nazw\\\\u0105'\n",
      "b'\"Berlinka\" to skarb kultury i sztuki niemieckiej. Przewiezione przez'\n",
      "b'Niemc\\\\xf3w pod koniec II wojny \\\\u015bwiatowej na Dolny \\\\u015al\\\\u0105sk, zosta\\\\u0142y'\n",
      "b'odnalezione po 1945 r. na terytorium Polski. Trafi\\\\u0142y do Biblioteki'\n",
      "b'Jagiello\\\\u0144skiej w Krakowie, obejmuj\\\\u0105 ponad 500 tys. zabytkowych'\n",
      "b'archiwali\\\\xf3w, m.in. manuskrypty Goethego, Mozarta, Beethovena, Bacha.'\n"
     ]
    }
   ],
   "source": [
    "f = open(path, encoding='latin2')\n",
    "for line in f:\n",
    "    line = line.strip()\n",
    "    print(line.encode('unicode_escape'))"
   ]
  },
  {
   "cell_type": "code",
   "execution_count": 46,
   "metadata": {
    "collapsed": false
   },
   "outputs": [
    {
     "data": {
      "text/plain": [
       "'Niemców pod koniec II wojny światowej na Dolny Śląsk, zostały\\n'"
      ]
     },
     "execution_count": 46,
     "metadata": {},
     "output_type": "execute_result"
    }
   ],
   "source": [
    "import unicodedata\n",
    "lines = open(path, encoding='latin2').readlines()\n",
    "line=lines[2]\n",
    "line"
   ]
  },
  {
   "cell_type": "code",
   "execution_count": 47,
   "metadata": {
    "collapsed": false
   },
   "outputs": [
    {
     "name": "stdout",
     "output_type": "stream",
     "text": [
      "b'Niemc\\\\xf3w pod koniec II wojny \\\\u015bwiatowej na Dolny \\\\u015al\\\\u0105sk, zosta\\\\u0142y\\\\n'\n"
     ]
    }
   ],
   "source": [
    "print(line.encode('unicode_escape'))"
   ]
  },
  {
   "cell_type": "code",
   "execution_count": 48,
   "metadata": {
    "collapsed": false
   },
   "outputs": [
    {
     "name": "stdout",
     "output_type": "stream",
     "text": [
      "b'\\xc3\\xb3' U+00f3 LATIN SMALL LETTER O WITH ACUTE\n",
      "b'\\xc5\\x9b' U+015b LATIN SMALL LETTER S WITH ACUTE\n",
      "b'\\xc5\\x9a' U+015a LATIN CAPITAL LETTER S WITH ACUTE\n",
      "b'\\xc4\\x85' U+0105 LATIN SMALL LETTER A WITH OGONEK\n",
      "b'\\xc5\\x82' U+0142 LATIN SMALL LETTER L WITH STROKE\n"
     ]
    }
   ],
   "source": [
    "# unicodedata模块使我们可以检查Unicode字符的属性。\n",
    "# 首先选择超出ASCII范围的波兰语文本的第三行中的所有字符，输出它们的UTF-8转义值\n",
    "# 然后用标准Unicode约定的它们的编码点整数（即以U+为前缀的十六进制数字），\n",
    "# 随后是它们的Unicode名称\n",
    "\n",
    "for c in line:\n",
    "    if ord(c) > 127:\n",
    "        print('{} U+{:04x} {}'.format(c.encode('utf8'), ord(c), unicodedata.name(c)))"
   ]
  },
  {
   "cell_type": "code",
   "execution_count": 49,
   "metadata": {
    "collapsed": false
   },
   "outputs": [
    {
     "data": {
      "text/plain": [
       "243"
      ]
     },
     "execution_count": 49,
     "metadata": {},
     "output_type": "execute_result"
    }
   ],
   "source": [
    "ord('ó') #查找一个字符的整数序数"
   ]
  },
  {
   "cell_type": "code",
   "execution_count": 50,
   "metadata": {
    "collapsed": false
   },
   "outputs": [
    {
     "name": "stdout",
     "output_type": "stream",
     "text": [
      "ó U+00f3 LATIN SMALL LETTER O WITH ACUTE\n",
      "ś U+015b LATIN SMALL LETTER S WITH ACUTE\n",
      "Ś U+015a LATIN CAPITAL LETTER S WITH ACUTE\n",
      "ą U+0105 LATIN SMALL LETTER A WITH OGONEK\n",
      "ł U+0142 LATIN SMALL LETTER L WITH STROKE\n"
     ]
    }
   ],
   "source": [
    "for c in line:\n",
    "    if ord(c) > 127:\n",
    "        print('{} U+{:04x} {}'.format(c, ord(c), unicodedata.name(c)))"
   ]
  },
  {
   "cell_type": "markdown",
   "metadata": {},
   "source": [
    "### python字符串函数和re模块是如何接收unicode字符串"
   ]
  },
  {
   "cell_type": "code",
   "execution_count": 51,
   "metadata": {
    "collapsed": false
   },
   "outputs": [
    {
     "data": {
      "text/plain": [
       "'Niemców pod koniec II wojny światowej na Dolny Śląsk, zostały\\n'"
      ]
     },
     "execution_count": 51,
     "metadata": {},
     "output_type": "execute_result"
    },
    {
     "data": {
      "text/plain": [
       "54"
      ]
     },
     "execution_count": 51,
     "metadata": {},
     "output_type": "execute_result"
    }
   ],
   "source": [
    "line\n",
    "line.find(u'zosta\\u0142y')"
   ]
  },
  {
   "cell_type": "code",
   "execution_count": 52,
   "metadata": {
    "collapsed": false
   },
   "outputs": [
    {
     "data": {
      "text/plain": [
       "'niemców pod koniec ii wojny światowej na dolny śląsk, zostały\\n'"
      ]
     },
     "execution_count": 52,
     "metadata": {},
     "output_type": "execute_result"
    }
   ],
   "source": [
    "line = line.lower()\n",
    "line"
   ]
  },
  {
   "cell_type": "code",
   "execution_count": 53,
   "metadata": {
    "collapsed": false
   },
   "outputs": [
    {
     "name": "stdout",
     "output_type": "stream",
     "text": [
      "b'niemc\\\\xf3w pod koniec ii wojny \\\\u015bwiatowej na dolny \\\\u015bl\\\\u0105sk, zosta\\\\u0142y\\\\n'\n"
     ]
    }
   ],
   "source": [
    "print(line.encode('unicode_escape'))"
   ]
  },
  {
   "cell_type": "code",
   "execution_count": 54,
   "metadata": {
    "collapsed": false
   },
   "outputs": [
    {
     "data": {
      "text/plain": [
       "<_sre.SRE_Match object; span=(28, 37), match='światowej'>"
      ]
     },
     "execution_count": 54,
     "metadata": {},
     "output_type": "execute_result"
    },
    {
     "data": {
      "text/plain": [
       "'światowej'"
      ]
     },
     "execution_count": 54,
     "metadata": {},
     "output_type": "execute_result"
    }
   ],
   "source": [
    "import re\n",
    "m = re.search(u'\\u015b\\w*', line)\n",
    "m\n",
    "m.group()"
   ]
  },
  {
   "cell_type": "code",
   "execution_count": 55,
   "metadata": {
    "collapsed": false
   },
   "outputs": [
    {
     "data": {
      "text/plain": [
       "['niemców',\n",
       " 'pod',\n",
       " 'koniec',\n",
       " 'ii',\n",
       " 'wojny',\n",
       " 'światowej',\n",
       " 'na',\n",
       " 'dolny',\n",
       " 'śląsk',\n",
       " ',',\n",
       " 'zostały']"
      ]
     },
     "execution_count": 55,
     "metadata": {},
     "output_type": "execute_result"
    }
   ],
   "source": [
    "# NLTK分词器允许Unicode字符串作为输入，并输出相应的Unicode字符串\n",
    "\n",
    "nltk.word_tokenize(line)"
   ]
  },
  {
   "cell_type": "markdown",
   "metadata": {},
   "source": [
    "### 在python中使用本地编码"
   ]
  },
  {
   "cell_type": "markdown",
   "metadata": {},
   "source": [
    "如果你习惯了使用特定的本地编码字符，你可能希望能够在一个Python文件中使用你的字符串输入及编辑的标准方法。为了做到这一点， 你需要在你的文件的第一行或第二行中包含字符串： '# -*- coding: <coding>-*-' 。 请注意， <coding>是一个像'latin-1',big5'或者'utf-8'的字符串。"
   ]
  },
  {
   "cell_type": "code",
   "execution_count": 56,
   "metadata": {
    "collapsed": false
   },
   "outputs": [
    {
     "data": {
      "text/plain": [
       "b'\\xe6\\x88\\x91\\xe7\\x88\\xb1\\xe4\\xb8\\xad\\xe5\\x8d\\x8e\\xe4\\xba\\xba\\xe6\\xb0\\x91\\xe5\\x85\\xb1\\xe5\\x92\\x8c\\xe5\\x9b\\xbd\\xef\\xbc\\x8c\\xe9\\x82\\xa3\\xe6\\x98\\xaf\\xe6\\x88\\x91\\xe7\\x9a\\x84\\xe5\\xae\\xb6\\xe4\\xb9\\xa1'"
      ]
     },
     "execution_count": 56,
     "metadata": {},
     "output_type": "execute_result"
    },
    {
     "name": "stdout",
     "output_type": "stream",
     "text": [
      "他爱中华人民共和国，那是他的家乡\n"
     ]
    }
   ],
   "source": [
    "# -*- coding: GB2312 -*-\n",
    "import re\n",
    "sent = '''我爱中华人民共和国，那是我的家乡'''\n",
    "sent.encode('utf8')\n",
    "replaced = re.sub('我','他', sent)\n",
    "print(replaced)"
   ]
  },
  {
   "cell_type": "markdown",
   "metadata": {},
   "source": [
    "### 使用正则表达式检测词组搭配"
   ]
  },
  {
   "cell_type": "code",
   "execution_count": 57,
   "metadata": {
    "collapsed": false
   },
   "outputs": [
    {
     "data": {
      "text/plain": [
       "['a',\n",
       " 'aa',\n",
       " 'aal',\n",
       " 'aalii',\n",
       " 'aam',\n",
       " 'aardvark',\n",
       " 'aardwolf',\n",
       " 'aba',\n",
       " 'abac',\n",
       " 'abaca']"
      ]
     },
     "execution_count": 57,
     "metadata": {},
     "output_type": "execute_result"
    }
   ],
   "source": [
    "import re\n",
    "word = nltk.corpus.words.words('en')\n",
    "wordlist = [w for w in word if w.islower()]\n",
    "wordlist[:10]"
   ]
  },
  {
   "cell_type": "code",
   "execution_count": 58,
   "metadata": {
    "collapsed": false
   },
   "outputs": [
    {
     "data": {
      "text/plain": [
       "['abaissed',\n",
       " 'abandoned',\n",
       " 'abased',\n",
       " 'abashed',\n",
       " 'abatised',\n",
       " 'abed',\n",
       " 'aborted',\n",
       " 'abridged',\n",
       " 'abscessed',\n",
       " 'absconded']"
      ]
     },
     "execution_count": 58,
     "metadata": {},
     "output_type": "execute_result"
    }
   ],
   "source": [
    "[w for w in wordlist if re.search('ed$', w)][:10]"
   ]
  },
  {
   "cell_type": "code",
   "execution_count": 59,
   "metadata": {
    "collapsed": false
   },
   "outputs": [
    {
     "data": {
      "text/plain": [
       "['abjectly', 'adjuster', 'dejected', 'dejectly', 'injector']"
      ]
     },
     "execution_count": 59,
     "metadata": {},
     "output_type": "execute_result"
    }
   ],
   "source": [
    "# ^表示字符串开头位置；$表示结尾位置\n",
    "\n",
    "[w for w in wordlist if re.search('^..j..t..$', w)][:5]"
   ]
  },
  {
   "cell_type": "code",
   "execution_count": 60,
   "metadata": {
    "collapsed": false
   },
   "outputs": [
    {
     "data": {
      "text/plain": [
       "0"
      ]
     },
     "execution_count": 60,
     "metadata": {},
     "output_type": "execute_result"
    }
   ],
   "source": [
    "sum(1 for w in wordlist if re.search('^e-?mail$', w))"
   ]
  },
  {
   "cell_type": "code",
   "execution_count": 61,
   "metadata": {
    "collapsed": false
   },
   "outputs": [
    {
     "data": {
      "text/plain": [
       "['gold', 'golf', 'hold', 'hole']"
      ]
     },
     "execution_count": 61,
     "metadata": {},
     "output_type": "execute_result"
    }
   ],
   "source": [
    "[w for w in wordlist if re.search('^[ghi][mno][jlk][def]$', w)][:5]"
   ]
  },
  {
   "cell_type": "code",
   "execution_count": 62,
   "metadata": {
    "collapsed": false
   },
   "outputs": [
    {
     "data": {
      "text/plain": [
       "['miiiiiiiiiiiiinnnnnnnnnnneeeeeeeeee',\n",
       " 'miiiiiinnnnnnnnnneeeeeeee',\n",
       " 'mine',\n",
       " 'mmmmmmmmiiiiiiiiinnnnnnnnneeeeeeee']"
      ]
     },
     "execution_count": 62,
     "metadata": {},
     "output_type": "execute_result"
    }
   ],
   "source": [
    "chat_words = sorted(set(w for w in nltk.corpus.nps_chat.words()))\n",
    "[w for w in chat_words if re.search('^m+i+n+e+$',w)]"
   ]
  },
  {
   "cell_type": "code",
   "execution_count": 63,
   "metadata": {
    "collapsed": false
   },
   "outputs": [
    {
     "data": {
      "text/plain": [
       "['a',\n",
       " 'aaaaaaaaaaaaaaaaa',\n",
       " 'aaahhhh',\n",
       " 'ah',\n",
       " 'ahah',\n",
       " 'ahahah',\n",
       " 'ahh',\n",
       " 'ahhahahaha',\n",
       " 'ahhh',\n",
       " 'ahhhh',\n",
       " 'ahhhhhh',\n",
       " 'ahhhhhhhhhhhhhh',\n",
       " 'h',\n",
       " 'ha',\n",
       " 'haaa',\n",
       " 'hah',\n",
       " 'haha',\n",
       " 'hahaaa',\n",
       " 'hahah',\n",
       " 'hahaha',\n",
       " 'hahahaa',\n",
       " 'hahahah',\n",
       " 'hahahaha',\n",
       " 'hahahahaaa',\n",
       " 'hahahahahaha',\n",
       " 'hahahahahahaha',\n",
       " 'hahahahahahahahahahahahahahahaha',\n",
       " 'hahahhahah',\n",
       " 'hahhahahaha']"
      ]
     },
     "execution_count": 63,
     "metadata": {},
     "output_type": "execute_result"
    }
   ],
   "source": [
    "[w for w in chat_words if re.search('^[ha]+$',w)] # h或a开头的单词"
   ]
  },
  {
   "cell_type": "code",
   "execution_count": 64,
   "metadata": {
    "collapsed": false
   },
   "outputs": [],
   "source": [
    "wsj=sorted(set(nltk.corpus.treebank.words()))"
   ]
  },
  {
   "cell_type": "code",
   "execution_count": 65,
   "metadata": {
    "collapsed": false
   },
   "outputs": [
    {
     "data": {
      "text/plain": [
       "['0.0085', '0.05', '0.1', '0.16', '0.2', '0.25', '0.28', '0.3', '0.4', '0.5']"
      ]
     },
     "execution_count": 65,
     "metadata": {},
     "output_type": "execute_result"
    }
   ],
   "source": [
    "# .是匹配任意字符，如果想匹配本身，则需要加斜杠\n",
    "[w for w in wsj if re.search('^[0-9]+\\.[0-9]+$',w)][:10]"
   ]
  },
  {
   "cell_type": "code",
   "execution_count": 66,
   "metadata": {
    "collapsed": false
   },
   "outputs": [
    {
     "data": {
      "text/plain": [
       "['C$', 'US$']"
      ]
     },
     "execution_count": 66,
     "metadata": {},
     "output_type": "execute_result"
    }
   ],
   "source": [
    "[w for w in wsj if re.search('^[A-Z]+\\$$',w)][:15]"
   ]
  },
  {
   "cell_type": "code",
   "execution_count": 67,
   "metadata": {
    "collapsed": false
   },
   "outputs": [
    {
     "data": {
      "text/plain": [
       "['1614', '1637', '1787', '1901', '1903', '1917', '1925', '1929']"
      ]
     },
     "execution_count": 67,
     "metadata": {},
     "output_type": "execute_result"
    }
   ],
   "source": [
    "[w for w in wsj if re.search('^[0-9]{4}$',w)][:8]"
   ]
  },
  {
   "cell_type": "code",
   "execution_count": 68,
   "metadata": {
    "collapsed": false
   },
   "outputs": [
    {
     "data": {
      "text/plain": [
       "['10-day', '10-lap', '10-year', '100-share', '12-point']"
      ]
     },
     "execution_count": 68,
     "metadata": {},
     "output_type": "execute_result"
    }
   ],
   "source": [
    "[w for w in wsj if re.search('^[0-9]+-[a-z]{3,5}$',w)][:5]"
   ]
  },
  {
   "cell_type": "code",
   "execution_count": 69,
   "metadata": {
    "collapsed": false
   },
   "outputs": [
    {
     "data": {
      "text/plain": [
       "['black-and-white',\n",
       " 'bread-and-butter',\n",
       " 'father-in-law',\n",
       " 'machine-gun-toting',\n",
       " 'savings-and-loan']"
      ]
     },
     "execution_count": 69,
     "metadata": {},
     "output_type": "execute_result"
    }
   ],
   "source": [
    "[w for w in wsj if re.search('^[a-z]{5,}-[a-z]{2,3}-[a-z]{,6}$',w)][:5]"
   ]
  },
  {
   "cell_type": "code",
   "execution_count": 70,
   "metadata": {
    "collapsed": false
   },
   "outputs": [
    {
     "data": {
      "text/plain": [
       "['62%-owned',\n",
       " 'Absorbed',\n",
       " 'According',\n",
       " 'Adopting',\n",
       " 'Advanced',\n",
       " 'Advancing',\n",
       " 'Alfred',\n",
       " 'Allied',\n",
       " 'Annualized']"
      ]
     },
     "execution_count": 70,
     "metadata": {},
     "output_type": "execute_result"
    }
   ],
   "source": [
    "[w for w in wsj if re.search('(ed|ing)$',w)][:9]"
   ]
  },
  {
   "cell_type": "markdown",
   "metadata": {},
   "source": [
    "## 3.5 正则表达式的应用"
   ]
  },
  {
   "cell_type": "markdown",
   "metadata": {},
   "source": [
    "### 提取字符块"
   ]
  },
  {
   "cell_type": "code",
   "execution_count": 71,
   "metadata": {
    "collapsed": false
   },
   "outputs": [
    {
     "data": {
      "text/plain": [
       "['e', 'a', 'a', 'e', 'a']"
      ]
     },
     "execution_count": 71,
     "metadata": {},
     "output_type": "execute_result"
    },
    {
     "data": {
      "text/plain": [
       "<_sre.SRE_Match object; span=(3, 4), match='e'>"
      ]
     },
     "execution_count": 71,
     "metadata": {},
     "output_type": "execute_result"
    }
   ],
   "source": [
    "word='supercalifragilisticexpialidocious'\n",
    "re.findall(r'[ae]', word)\n",
    "re.search('[ae]', word)"
   ]
  },
  {
   "cell_type": "code",
   "execution_count": 72,
   "metadata": {
    "collapsed": false
   },
   "outputs": [
    {
     "data": {
      "text/plain": [
       "list"
      ]
     },
     "execution_count": 72,
     "metadata": {},
     "output_type": "execute_result"
    },
    {
     "data": {
      "text/plain": [
       "12408"
      ]
     },
     "execution_count": 72,
     "metadata": {},
     "output_type": "execute_result"
    },
    {
     "name": "stdout",
     "output_type": "stream",
     "text": [
      "['!', '#', '$', '%', '&', \"'\", \"''\", \"'30s\", \"'40s\", \"'50s\", \"'80s\", \"'82\", \"'86\", \"'S\", \"'d\", \"'ll\", \"'m\", \"'re\", \"'s\", \"'ve\", '*', '*-1', '*-10', '*-100', '*-101', '*-102', '*-103', '*-104', '*-105', '*-106', '*-107', '*-108', '*-109', '*-11', '*-110', '*-111', '*-112', '*-113', '*-114', '*-115', '*-116', '*-117', '*-118', '*-119', '*-12', '*-120', '*-121', '*-122', '*-123', '*-124']\n"
     ]
    }
   ],
   "source": [
    "# 看看一些文本中的两个或两个以上的元音序列，并确定它们的相对频率\n",
    "\n",
    "wsj = sorted(set(nltk.corpus.treebank.words()))\n",
    "type(wsj)\n",
    "len(wsj)\n",
    "print(wsj[:50])"
   ]
  },
  {
   "cell_type": "code",
   "execution_count": 73,
   "metadata": {
    "collapsed": false,
    "scrolled": true
   },
   "outputs": [
    {
     "data": {
      "text/plain": [
       "dict_items([('ea', 476), ('oi', 65), ('ou', 329), ('io', 549), ('ee', 217), ('ie', 331), ('ui', 95), ('ua', 109), ('ai', 261), ('ue', 105), ('ia', 253), ('ei', 86), ('iai', 1), ('oo', 174), ('au', 106), ('eau', 10), ('oa', 59), ('oei', 1), ('oe', 15), ('eo', 39), ('uu', 1), ('eu', 18), ('iu', 14), ('aii', 1), ('aiia', 1), ('ae', 11), ('aa', 3), ('oui', 6), ('ieu', 3), ('ao', 6), ('iou', 27), ('uee', 4), ('eou', 5), ('aia', 1), ('uie', 3), ('iao', 1), ('eei', 2), ('uo', 8), ('uou', 5), ('eea', 1), ('ueui', 1), ('ioa', 1), ('ooi', 1)])"
      ]
     },
     "execution_count": 73,
     "metadata": {},
     "output_type": "execute_result"
    }
   ],
   "source": [
    "fd = nltk.FreqDist(vs for word in wsj \n",
    "                  for vs in re.findall(r'[aeiou]{2,}', word))\n",
    "fd.items()"
   ]
  },
  {
   "cell_type": "code",
   "execution_count": 74,
   "metadata": {
    "collapsed": false
   },
   "outputs": [
    {
     "data": {
      "text/plain": [
       "43"
      ]
     },
     "execution_count": 74,
     "metadata": {},
     "output_type": "execute_result"
    }
   ],
   "source": [
    "len(fd)"
   ]
  },
  {
   "cell_type": "code",
   "execution_count": 75,
   "metadata": {
    "collapsed": false
   },
   "outputs": [
    {
     "data": {
      "text/plain": [
       "[2009, 12, 16]"
      ]
     },
     "execution_count": 75,
     "metadata": {},
     "output_type": "execute_result"
    }
   ],
   "source": [
    "[int(n) for n in re.findall(r'[0-9]{2,4}', '2009-12-16')]"
   ]
  },
  {
   "cell_type": "markdown",
   "metadata": {},
   "source": [
    "### 在字符块上做更多事情"
   ]
  },
  {
   "cell_type": "markdown",
   "metadata": {},
   "source": [
    "#### 一旦我们会使用re.findall()从词中提取字符块， 就可以在这些字符块上做一些有趣事情，例如将它们粘贴在一起或用它们绘图。"
   ]
  },
  {
   "cell_type": "code",
   "execution_count": 76,
   "metadata": {
    "collapsed": false
   },
   "outputs": [
    {
     "data": {
      "text/plain": [
       "['吃', '吃']"
      ]
     },
     "execution_count": 76,
     "metadata": {},
     "output_type": "execute_result"
    }
   ],
   "source": [
    "ch = '这碗面很好吃，你还会再做给我吃吗？'\n",
    "re.findall('吃',ch)"
   ]
  },
  {
   "cell_type": "code",
   "execution_count": 85,
   "metadata": {
    "collapsed": false
   },
   "outputs": [
    {
     "data": {
      "text/plain": [
       "'supercalifragilisticexpialidocious'"
      ]
     },
     "execution_count": 85,
     "metadata": {},
     "output_type": "execute_result"
    },
    {
     "data": {
      "text/plain": [
       "'sprclfrglstcxpldcs'"
      ]
     },
     "execution_count": 85,
     "metadata": {},
     "output_type": "execute_result"
    }
   ],
   "source": [
    "# 正则表达式匹配词首元音序列^[AEIOUaeiou]， 词尾元音序列和所有的辅音； \n",
    "# 其它的被忽略。这三个阶段从左到右处理，如果词匹配了三个部分之一， \n",
    "# 正则表达式后面的部分将被忽略。\n",
    "\n",
    "word\n",
    "regexp = r'^[AEIOUaeiou]+|[AEIOUaeiou]+$|[^AEIOUaeiou]'\n",
    "\n",
    "def compress(word):\n",
    "    pieces = re.findall(regexp, word)\n",
    "    return ''.join(pieces)\n",
    "\n",
    "compress(word)"
   ]
  },
  {
   "cell_type": "code",
   "execution_count": 89,
   "metadata": {
    "collapsed": false
   },
   "outputs": [
    {
     "data": {
      "text/plain": [
       "'supercalifragilisticexpialidocious'"
      ]
     },
     "execution_count": 89,
     "metadata": {},
     "output_type": "execute_result"
    }
   ],
   "source": [
    "''.join(re.findall(r'^[AEIOUaeiou]+|[AEIOUaeiou]+|[^AEIOUaeiou]', word))"
   ]
  },
  {
   "cell_type": "code",
   "execution_count": 82,
   "metadata": {
    "collapsed": false
   },
   "outputs": [
    {
     "data": {
      "text/plain": [
       "['Universal', 'Declaration', 'of', 'Human', 'Rights', ...]"
      ]
     },
     "execution_count": 82,
     "metadata": {},
     "output_type": "execute_result"
    }
   ],
   "source": [
    "english_udhr = nltk.corpus.udhr.words('English-Latin1')\n",
    "english_udhr"
   ]
  },
  {
   "cell_type": "code",
   "execution_count": 79,
   "metadata": {
    "collapsed": false
   },
   "outputs": [
    {
     "name": "stdout",
     "output_type": "stream",
     "text": [
      "Unvrsl Dclrtn of Hmn Rghts Prmble Whrs rcgntn of the inhrnt dgnty and\n",
      "of the eql and inlnble rghts of all mmbrs of the hmn fmly is the fndtn\n",
      "of frdm , jstce and pce in the wrld , Whrs dsrgrd and cntmpt fr hmn\n",
      "rghts hve rsltd in brbrs acts whch hve outrgd the cnscnce of mnknd ,\n",
      "and the advnt of a wrld in whch hmn bngs shll enjy frdm of spch and\n"
     ]
    }
   ],
   "source": [
    "print(nltk.tokenwrap(compress(w) for w in english_udhr[:75]))"
   ]
  },
  {
   "cell_type": "code",
   "execution_count": 90,
   "metadata": {
    "collapsed": false
   },
   "outputs": [
    {
     "data": {
      "text/plain": [
       "['kaa',\n",
       " 'kaa',\n",
       " 'kaa',\n",
       " 'kaakaaro',\n",
       " 'kaakaaviko',\n",
       " 'kaakaavo',\n",
       " 'kaakaoko',\n",
       " 'kaakasi',\n",
       " 'kaakau',\n",
       " 'kaakauko',\n",
       " 'kaakito',\n",
       " 'kaakuupato',\n",
       " 'kaaova',\n",
       " 'kaapa',\n",
       " 'kaapea',\n",
       " 'kaapie',\n",
       " 'kaapie',\n",
       " 'kaapiepato',\n",
       " 'kaapisi',\n",
       " 'kaapisivira',\n",
       " 'kaapo',\n",
       " 'kaapopato',\n",
       " 'kaara',\n",
       " 'kaare',\n",
       " 'kaareko',\n",
       " 'kaarekopie',\n",
       " 'kaareto',\n",
       " 'Kaareva',\n",
       " 'kaava',\n",
       " 'kaavaaua',\n",
       " 'kaaveaka',\n",
       " 'kaaveakapie',\n",
       " 'kaaveakapievira',\n",
       " 'kaaveakavira',\n",
       " 'kae',\n",
       " 'kae',\n",
       " 'kaekae',\n",
       " 'kaekae',\n",
       " 'kaekaearo',\n",
       " 'kaekaeo',\n",
       " 'kaekaesoto',\n",
       " 'kaekaevira',\n",
       " 'kaekeru',\n",
       " 'kaepaa',\n",
       " 'kaepie',\n",
       " 'kaepie',\n",
       " 'kaepievira',\n",
       " 'kaereasi',\n",
       " 'kaereasivira',\n",
       " 'kaetu',\n",
       " 'kaetupie',\n",
       " 'kaetuvira',\n",
       " 'kaeviro',\n",
       " 'kagave',\n",
       " 'kaie',\n",
       " 'kaiea',\n",
       " 'kaikaio',\n",
       " 'Kaio',\n",
       " 'kaipori',\n",
       " 'kaiporipie',\n",
       " 'kaiporivira',\n",
       " 'kairi',\n",
       " 'kairiro',\n",
       " 'kairo',\n",
       " 'kaita',\n",
       " 'kaitutu',\n",
       " 'kaitutupie',\n",
       " 'kaitutuvira',\n",
       " 'kakae',\n",
       " 'kakae',\n",
       " 'kakae',\n",
       " 'kakaevira',\n",
       " 'kakapikoa',\n",
       " 'kakapikoto',\n",
       " 'kakapu',\n",
       " 'kakapua',\n",
       " 'kakara',\n",
       " 'Kakarapaia',\n",
       " 'kakarau',\n",
       " 'Kakarera',\n",
       " 'kakata',\n",
       " 'kakate',\n",
       " 'kakatuara',\n",
       " 'kakau',\n",
       " 'kakauoa',\n",
       " 'kakavea',\n",
       " 'kakavoro',\n",
       " 'kakavu',\n",
       " 'kakeoto',\n",
       " 'kaki',\n",
       " 'kaki',\n",
       " 'kakiaki',\n",
       " 'kakiri',\n",
       " 'kakiua',\n",
       " 'kaku',\n",
       " 'kakua',\n",
       " 'kakuaku',\n",
       " 'kakupaa',\n",
       " 'kakuparei',\n",
       " 'kakupato',\n",
       " 'kakupie',\n",
       " 'kakupute',\n",
       " 'kakutauo',\n",
       " 'kakuto',\n",
       " 'kakutuiato',\n",
       " 'kakuva',\n",
       " 'kakuvira',\n",
       " 'kameoro',\n",
       " 'kandora',\n",
       " 'kaokao',\n",
       " 'kaokaoara',\n",
       " 'kaokaoto',\n",
       " 'kapa',\n",
       " 'kapa',\n",
       " 'kapaava',\n",
       " 'kapai',\n",
       " 'kapara',\n",
       " 'kaparu',\n",
       " 'kaparuvira',\n",
       " 'kapatau',\n",
       " 'kapatoro',\n",
       " 'kapatoroto',\n",
       " 'kape',\n",
       " 'kapeaa',\n",
       " 'kapeaa',\n",
       " 'kapeaavira',\n",
       " 'kapekape',\n",
       " 'kapekapevira',\n",
       " 'kapere',\n",
       " 'kaperepie',\n",
       " 'kapi',\n",
       " 'kapiaa',\n",
       " 'kapiaavira',\n",
       " 'kapikapi',\n",
       " 'kapiro',\n",
       " 'kapiroa',\n",
       " 'kapiroko',\n",
       " 'kapisi',\n",
       " 'kapisito',\n",
       " 'kapiu',\n",
       " 'kapiua',\n",
       " 'kapo',\n",
       " 'kapoa',\n",
       " 'kapokao',\n",
       " 'kapokapo',\n",
       " 'kapokapoa',\n",
       " 'kapokapora',\n",
       " 'kapokaporo',\n",
       " 'kapokari',\n",
       " 'kapokarito',\n",
       " 'kapokoa',\n",
       " 'kapoo',\n",
       " 'kapooto',\n",
       " 'kapoovira',\n",
       " 'kapopaa',\n",
       " 'kaporo',\n",
       " 'kaporo',\n",
       " 'kaporopa',\n",
       " 'kaporoto',\n",
       " 'kapoto',\n",
       " 'kapu',\n",
       " 'kapua',\n",
       " 'kapua',\n",
       " 'kapuapato',\n",
       " 'kapuapie',\n",
       " 'kapuasisi',\n",
       " 'kapupie',\n",
       " 'kapupiea',\n",
       " 'kapupiepaa',\n",
       " 'kapuu',\n",
       " 'kapuupie',\n",
       " 'kapuupiepa',\n",
       " 'Kara',\n",
       " 'kara',\n",
       " 'karaava',\n",
       " 'karakarao',\n",
       " 'karakaraoa',\n",
       " 'karakaraoto',\n",
       " 'karakaraovira',\n",
       " 'karakaroto',\n",
       " 'karakuku',\n",
       " 'karaova',\n",
       " 'karapi',\n",
       " 'karapivira',\n",
       " 'karara',\n",
       " 'karata',\n",
       " 'karato',\n",
       " 'karavau',\n",
       " 'karavisi',\n",
       " 'karavisito',\n",
       " 'karavuru',\n",
       " 'kare',\n",
       " 'kare',\n",
       " 'karekare',\n",
       " 'karekare',\n",
       " 'karekarererava',\n",
       " 'karekareto',\n",
       " 'kareke',\n",
       " 'karekepie',\n",
       " 'karekova',\n",
       " 'kareo',\n",
       " 'kareovira',\n",
       " 'karepie',\n",
       " 'karepieto',\n",
       " 'Karepirie',\n",
       " 'kari',\n",
       " 'karia',\n",
       " 'kariava',\n",
       " 'karikari',\n",
       " 'karirapa',\n",
       " 'karisito',\n",
       " 'karivai',\n",
       " 'karivaito',\n",
       " 'karivara',\n",
       " 'karo',\n",
       " 'karokaropo',\n",
       " 'karopato',\n",
       " 'karopo',\n",
       " 'karot',\n",
       " 'karoto',\n",
       " 'karova',\n",
       " 'karu',\n",
       " 'karuka',\n",
       " 'karukaru',\n",
       " 'karukava',\n",
       " 'Karuru',\n",
       " 'karutu',\n",
       " 'karuvira',\n",
       " 'kasi',\n",
       " 'kasi',\n",
       " 'kasi',\n",
       " 'kasiarao',\n",
       " 'kasiava',\n",
       " 'kasikasi',\n",
       " 'Kasikasiua',\n",
       " 'kasipie',\n",
       " 'kasipu',\n",
       " 'kasipupie',\n",
       " 'kasipuvira',\n",
       " 'kasirao',\n",
       " 'kasiraopie',\n",
       " 'kasiraovira',\n",
       " 'kasiu',\n",
       " 'kasiura',\n",
       " 'kasivari',\n",
       " 'kasuari',\n",
       " 'kata',\n",
       " 'katai',\n",
       " 'kataitoarei',\n",
       " 'katakatai',\n",
       " 'katakataivira',\n",
       " 'kataraua',\n",
       " 'katarauto',\n",
       " 'katavira',\n",
       " 'katokato',\n",
       " 'katokatoto',\n",
       " 'katokatovira',\n",
       " 'katokoi',\n",
       " 'katopato',\n",
       " 'katoto',\n",
       " 'katuara',\n",
       " 'katuarato',\n",
       " 'katukatu',\n",
       " 'katuta',\n",
       " 'kau',\n",
       " 'kaukau',\n",
       " 'kaukaupie',\n",
       " 'kaukauvira',\n",
       " 'kaukovo',\n",
       " 'kauo',\n",
       " 'kauokauo',\n",
       " 'kaureo',\n",
       " 'kaureoto',\n",
       " 'kausiopa',\n",
       " 'kausiovira',\n",
       " 'Kava',\n",
       " 'kavakavau',\n",
       " 'kavatao',\n",
       " 'Kavatara',\n",
       " 'kavau',\n",
       " 'kavau',\n",
       " 'kavau asiava',\n",
       " 'kave',\n",
       " 'kavee',\n",
       " 'kaveepaa',\n",
       " 'kaverui',\n",
       " 'kaveruko',\n",
       " 'kavesi',\n",
       " 'kavikavi',\n",
       " 'kavikaviru',\n",
       " 'kavikaviru',\n",
       " 'kaviko',\n",
       " 'kavikoa',\n",
       " 'kaviru',\n",
       " 'kaviru',\n",
       " 'kaviruto',\n",
       " 'kaviruvira',\n",
       " 'kavo',\n",
       " 'kavokavo',\n",
       " 'kavokavoa',\n",
       " 'kavokavoto',\n",
       " 'kavora',\n",
       " 'kavorato',\n",
       " 'kavori',\n",
       " 'kavori',\n",
       " 'kavorou',\n",
       " 'kavovoa',\n",
       " 'kavovovira',\n",
       " 'kavu',\n",
       " 'kavu',\n",
       " 'kavuava',\n",
       " 'kavupie',\n",
       " 'kavura',\n",
       " 'kavurao',\n",
       " 'kavusi',\n",
       " 'kavuvo',\n",
       " 'kea',\n",
       " 'keakea',\n",
       " 'keakeato',\n",
       " 'keari',\n",
       " 'kearito',\n",
       " 'keavira',\n",
       " 'kee',\n",
       " 'keekee',\n",
       " 'keekeepa',\n",
       " 'keekeeri',\n",
       " 'keekeerito',\n",
       " 'keera',\n",
       " 'keeriva',\n",
       " 'keesi',\n",
       " 'keetaa',\n",
       " 'keevuru',\n",
       " 'keevuruvira',\n",
       " 'kegi',\n",
       " 'kei',\n",
       " 'keke',\n",
       " 'keke',\n",
       " 'kekepie',\n",
       " 'kekeputu',\n",
       " 'kekeputuvira',\n",
       " 'kekeraokovira',\n",
       " 'kekesopa',\n",
       " 'kekevoto',\n",
       " 'kekevotovira',\n",
       " 'kekira',\n",
       " 'keo',\n",
       " 'keoka',\n",
       " 'keopa',\n",
       " 'keovira',\n",
       " 'kepa',\n",
       " 'kepa toupato',\n",
       " 'kepetai',\n",
       " 'kepi',\n",
       " 'kepia',\n",
       " 'kepikepi',\n",
       " 'kepiko',\n",
       " 'kepiriko',\n",
       " 'kepiro',\n",
       " 'kepisi',\n",
       " 'kepisiva',\n",
       " 'kepita',\n",
       " 'kepitai',\n",
       " 'kepito',\n",
       " 'kepo',\n",
       " 'kepoi',\n",
       " 'keposi',\n",
       " 'kepoto',\n",
       " 'kera',\n",
       " 'kerakera',\n",
       " 'kerari',\n",
       " 'keraria',\n",
       " 'kerau',\n",
       " 'kerauto',\n",
       " 'keravisi',\n",
       " 'keravisia',\n",
       " 'keravo',\n",
       " 'Kereaka',\n",
       " 'kerekoi',\n",
       " 'kerere',\n",
       " 'kerereua',\n",
       " 'kerete',\n",
       " 'kerete',\n",
       " 'Kerevaru',\n",
       " 'keri',\n",
       " 'Keriaka',\n",
       " 'kerikerisi',\n",
       " 'kerio',\n",
       " 'kerioua',\n",
       " 'keripaara',\n",
       " 'keripato',\n",
       " 'kerisi',\n",
       " 'kerisito',\n",
       " 'kerisivira',\n",
       " 'keritara',\n",
       " 'keriva',\n",
       " 'keroroi',\n",
       " 'kerosiri',\n",
       " 'keru',\n",
       " 'keru',\n",
       " 'kerui',\n",
       " 'keruiato',\n",
       " 'keruito',\n",
       " 'kerupiua',\n",
       " 'keruria',\n",
       " 'keruriato',\n",
       " 'keruriavira',\n",
       " 'kesi',\n",
       " 'kesie',\n",
       " 'kesievira',\n",
       " 'kesikea vaaguru',\n",
       " 'kesio',\n",
       " 'kesioto',\n",
       " 'kesivira',\n",
       " 'keta',\n",
       " 'ketaka',\n",
       " 'ketakaa',\n",
       " 'ketato',\n",
       " 'ketoo',\n",
       " 'ketoo',\n",
       " 'ketoopie',\n",
       " 'ketoopieara',\n",
       " 'ketoroa',\n",
       " 'ketu',\n",
       " 'kevaita',\n",
       " 'kevaita',\n",
       " 'kevaitato',\n",
       " 'kevira',\n",
       " 'kevisi',\n",
       " 'kevoisi',\n",
       " 'kevoisivira',\n",
       " 'kie',\n",
       " 'kii',\n",
       " 'kiikariko',\n",
       " 'kiipie',\n",
       " 'kiire',\n",
       " 'kiire',\n",
       " 'kiiru',\n",
       " 'kiiuto',\n",
       " 'kiki',\n",
       " 'kiki',\n",
       " 'kikipi',\n",
       " 'kikipisi',\n",
       " 'kikira',\n",
       " 'kikiraeko',\n",
       " 'kikisi',\n",
       " 'kikisikae',\n",
       " 'kikisiova',\n",
       " 'kikitausi',\n",
       " 'kikoo',\n",
       " 'kilia',\n",
       " 'kio',\n",
       " 'kipa',\n",
       " 'kipapie',\n",
       " 'kipe',\n",
       " 'kipekipe',\n",
       " 'kipekipea',\n",
       " 'kipeto',\n",
       " 'kipu',\n",
       " 'kipukipu',\n",
       " 'kipupaa',\n",
       " 'kipupato',\n",
       " 'kipuvira',\n",
       " 'kira',\n",
       " 'kirava',\n",
       " 'kire',\n",
       " 'kiri',\n",
       " 'kirikaokao',\n",
       " 'kirioto',\n",
       " 'kiro',\n",
       " 'kirokiro',\n",
       " 'kirokiro',\n",
       " 'kirokiropato',\n",
       " 'kiroko',\n",
       " 'kiru',\n",
       " 'kirukiru',\n",
       " 'kirukirua',\n",
       " 'kirupato',\n",
       " 'kitoiva',\n",
       " 'kitu',\n",
       " 'kitukitu',\n",
       " 'kiu',\n",
       " 'kiupie',\n",
       " 'kiuto',\n",
       " 'kiuve',\n",
       " 'kiuvu',\n",
       " 'koa',\n",
       " 'koai',\n",
       " 'koakoa',\n",
       " 'koakoa',\n",
       " 'koara',\n",
       " 'koarao',\n",
       " 'koaraua',\n",
       " 'koarava',\n",
       " 'koasio',\n",
       " 'koata',\n",
       " 'koatapie',\n",
       " 'koauve',\n",
       " 'koavaato',\n",
       " 'koe',\n",
       " 'koea',\n",
       " 'koekoe',\n",
       " 'koekoeto',\n",
       " 'koepato',\n",
       " 'koeta',\n",
       " 'koetaova',\n",
       " 'koetapie',\n",
       " 'koetava',\n",
       " 'koetavira',\n",
       " 'koeto',\n",
       " 'kogo',\n",
       " 'kogova',\n",
       " 'koi',\n",
       " 'koie',\n",
       " 'koie',\n",
       " 'koike',\n",
       " 'koiketo',\n",
       " 'koikevira',\n",
       " 'koikoi',\n",
       " 'koikoipato',\n",
       " 'koikoipie',\n",
       " 'koikoito',\n",
       " 'koisi',\n",
       " 'koisiva',\n",
       " 'koivira',\n",
       " 'koka',\n",
       " 'kokai',\n",
       " 'kokara',\n",
       " 'kokaraa',\n",
       " 'kokarapato',\n",
       " 'koke',\n",
       " 'kokee',\n",
       " 'kokepato',\n",
       " 'kokepato',\n",
       " 'kokepie',\n",
       " 'kokerao',\n",
       " 'kokeriva',\n",
       " 'kokeu',\n",
       " 'kokeva',\n",
       " 'koki',\n",
       " 'kokio',\n",
       " 'Kokipaia',\n",
       " 'kokito',\n",
       " 'kokivira',\n",
       " 'koko',\n",
       " 'koko',\n",
       " 'kokoi',\n",
       " 'kokoisi',\n",
       " 'kokokoru',\n",
       " 'kokoo',\n",
       " 'kokooko',\n",
       " 'kokookoa',\n",
       " 'kokoote',\n",
       " 'kokootu',\n",
       " 'kokopa',\n",
       " 'kokopakou',\n",
       " 'kokopeko',\n",
       " 'kokopekovira',\n",
       " 'kokopeoto',\n",
       " 'kokopuoto',\n",
       " 'kokopuovira',\n",
       " 'Kokopuru',\n",
       " 'kokopuvira',\n",
       " 'kokora',\n",
       " 'kokorai',\n",
       " 'kokorato',\n",
       " 'kokori',\n",
       " 'kokorivira',\n",
       " 'kokoro',\n",
       " 'kokoroki',\n",
       " 'kokoroku',\n",
       " 'kokorokupie',\n",
       " 'kokoropato',\n",
       " 'kokorosi',\n",
       " 'kokorovira',\n",
       " 'kokoru',\n",
       " 'kokoruu',\n",
       " 'kokoruu',\n",
       " 'kokosi',\n",
       " 'kokosi',\n",
       " 'Kokosiria',\n",
       " 'kokosito',\n",
       " 'kokosiva',\n",
       " 'kokotagoe',\n",
       " 'kokote',\n",
       " 'kokoto',\n",
       " 'kokotu',\n",
       " 'kokotua',\n",
       " 'kokotuo',\n",
       " 'kokovae',\n",
       " 'kokovaeva',\n",
       " 'kokovara',\n",
       " 'kokovara',\n",
       " 'kokovaravira',\n",
       " 'kokovu',\n",
       " 'kokovua',\n",
       " 'kokovua',\n",
       " 'kokovua',\n",
       " 'kokovupaparie',\n",
       " 'kokovurito',\n",
       " 'koku',\n",
       " 'kokuoku',\n",
       " 'kokureko',\n",
       " 'kokuuto',\n",
       " 'kooe',\n",
       " 'kookaa',\n",
       " 'kookai',\n",
       " 'kookoo',\n",
       " 'kookooia',\n",
       " 'kookoopeko',\n",
       " 'kookoopi',\n",
       " 'kooku',\n",
       " 'kookuto',\n",
       " 'kookuvira',\n",
       " 'koopi',\n",
       " 'koopipi',\n",
       " 'koora',\n",
       " 'kooroo',\n",
       " 'koorooto',\n",
       " 'koorooto',\n",
       " 'kooroovira',\n",
       " 'kooru',\n",
       " 'koota',\n",
       " 'kootopa',\n",
       " 'kootutu',\n",
       " 'koou',\n",
       " 'kooupato',\n",
       " 'koova',\n",
       " 'koova',\n",
       " 'koovoto',\n",
       " 'koovotova',\n",
       " 'kopa',\n",
       " 'kopakai',\n",
       " 'kopakava',\n",
       " 'kopakopa',\n",
       " 'kopakovira',\n",
       " 'kopato',\n",
       " 'kopii',\n",
       " 'kopiia',\n",
       " 'kopiipato',\n",
       " 'kopiipie',\n",
       " 'kopiito',\n",
       " 'kopikao',\n",
       " 'kopikopi',\n",
       " 'kopikopiara',\n",
       " 'kopipi',\n",
       " 'kopirovu',\n",
       " 'kopu',\n",
       " 'kopua',\n",
       " 'kopuasi',\n",
       " 'kopuasipie',\n",
       " 'kopuasito',\n",
       " 'kopuasitovira',\n",
       " 'kopuasivira',\n",
       " 'Kopuisi',\n",
       " 'kopukopu',\n",
       " 'kopukopua',\n",
       " 'kopupa',\n",
       " 'kopupira',\n",
       " 'kopuro',\n",
       " 'Kopuru',\n",
       " 'kopuvioro',\n",
       " 'kopuvira',\n",
       " 'kora',\n",
       " 'korapato',\n",
       " 'korara',\n",
       " 'koraraoko',\n",
       " 'korau',\n",
       " 'koraua',\n",
       " 'korauru',\n",
       " 'korauvira',\n",
       " 'korea',\n",
       " 'korekare',\n",
       " 'Korere',\n",
       " 'korereto',\n",
       " 'kori',\n",
       " 'koria',\n",
       " 'Koribori',\n",
       " 'korikori',\n",
       " 'korikoripava',\n",
       " 'korita',\n",
       " 'korita',\n",
       " 'koriteira',\n",
       " 'koro',\n",
       " 'kororo',\n",
       " 'kororo',\n",
       " 'kororoisivira',\n",
       " 'kororovi',\n",
       " 'kororovivira',\n",
       " 'kororu',\n",
       " 'kororupie',\n",
       " 'koroto',\n",
       " 'koroviri',\n",
       " 'korovo',\n",
       " 'koru',\n",
       " 'Koruko',\n",
       " 'korukoru',\n",
       " 'korukorupato',\n",
       " 'koruo',\n",
       " 'koruoto',\n",
       " 'koruou',\n",
       " 'koruoua',\n",
       " 'koruovira',\n",
       " 'korupie',\n",
       " 'korupievira',\n",
       " 'kosi',\n",
       " 'kosikosi',\n",
       " 'kosikosi',\n",
       " 'kosipa',\n",
       " 'kosipato',\n",
       " 'kosipie',\n",
       " 'kosivago',\n",
       " 'kosiviro',\n",
       " 'koto',\n",
       " 'kotokoto',\n",
       " 'kotokotoara',\n",
       " 'kotopa',\n",
       " 'kotopa',\n",
       " 'kotovira',\n",
       " 'kotu',\n",
       " 'kotukotu',\n",
       " 'kotupiua',\n",
       " 'koturu',\n",
       " 'kou',\n",
       " 'kou',\n",
       " 'koue',\n",
       " 'koue',\n",
       " 'koui',\n",
       " 'koukou',\n",
       " 'koukouo',\n",
       " 'koukouo',\n",
       " 'kova',\n",
       " 'kovaaro',\n",
       " 'kovaeto',\n",
       " 'kovaii',\n",
       " 'kovakovara',\n",
       " 'kovapato',\n",
       " 'kovarato',\n",
       " 'kovarua',\n",
       " 'kovasi',\n",
       " 'kovata',\n",
       " 'kovatavira',\n",
       " 'kovato',\n",
       " 'kovauke',\n",
       " 'Kovava',\n",
       " 'kove',\n",
       " 'kove',\n",
       " 'kovea',\n",
       " 'kovekove',\n",
       " 'koveoapa',\n",
       " 'koveva',\n",
       " 'Kovia',\n",
       " 'kovikoro',\n",
       " 'kovire',\n",
       " 'kovirea',\n",
       " 'kovo',\n",
       " 'kovo',\n",
       " 'kovo',\n",
       " 'kovoa',\n",
       " 'kovokovo',\n",
       " 'kovokovo',\n",
       " 'kovokovo',\n",
       " 'kovokovoa',\n",
       " 'kovopaa',\n",
       " 'kovopato',\n",
       " 'kovopie',\n",
       " 'kovoruko',\n",
       " 'kovoto',\n",
       " 'kovovo',\n",
       " 'kovuaka',\n",
       " 'kovuaro',\n",
       " 'kovukovu',\n",
       " 'kovukovuto',\n",
       " 'kovukovuvira',\n",
       " 'kovuru',\n",
       " 'kovurui',\n",
       " 'kovuruko',\n",
       " 'kovurukovira',\n",
       " 'kovuruvira',\n",
       " 'kovuto',\n",
       " 'kuara',\n",
       " 'kue',\n",
       " 'kuea',\n",
       " 'kuga',\n",
       " 'kui',\n",
       " 'kuio',\n",
       " 'kuioi',\n",
       " 'kuiopesi',\n",
       " 'kuiopetu',\n",
       " 'kuito',\n",
       " 'kuka',\n",
       " 'kukara',\n",
       " 'kukauviro',\n",
       " 'kukiuki',\n",
       " 'kukiukia',\n",
       " 'kuku',\n",
       " 'kukua',\n",
       " 'kukuaua',\n",
       " 'kukue',\n",
       " 'kukue pute',\n",
       " 'kukuepaa',\n",
       " 'kukuku',\n",
       " 'kukupira',\n",
       " 'kukuriko',\n",
       " 'kukurikoto',\n",
       " 'kukusiri',\n",
       " 'kukutauvu',\n",
       " 'kukutu',\n",
       " 'kukuuku',\n",
       " 'kukuukua',\n",
       " 'kukuukupie',\n",
       " 'kukuuvua',\n",
       " 'kukuvai',\n",
       " 'kukuvaipaa',\n",
       " 'kukuvita',\n",
       " 'kukuvua',\n",
       " 'Kuokuo',\n",
       " 'kupare',\n",
       " 'kupareto',\n",
       " 'kupekupe',\n",
       " 'kupekupepa',\n",
       " 'kupero',\n",
       " 'kuperoo',\n",
       " 'kuperovira',\n",
       " 'kupii',\n",
       " 'kupukupu',\n",
       " 'kurae',\n",
       " 'kurasia',\n",
       " 'kurasia',\n",
       " 'kurei',\n",
       " 'kuri',\n",
       " 'kuriato',\n",
       " 'kurikaakaakuto',\n",
       " 'kurikasi',\n",
       " 'kurikasivira',\n",
       " 'kurikoko',\n",
       " 'kurikuri',\n",
       " 'kuripaa',\n",
       " 'kuritava',\n",
       " 'kuroa',\n",
       " 'kuroea',\n",
       " 'kurokuro',\n",
       " 'kurokuroto',\n",
       " 'kuroo',\n",
       " 'kurooro',\n",
       " 'kurovira',\n",
       " 'kuru',\n",
       " 'kurue',\n",
       " 'kurupi',\n",
       " 'kururai',\n",
       " 'kururu',\n",
       " 'kurutu',\n",
       " 'Kusi',\n",
       " 'kusii',\n",
       " 'kusike',\n",
       " 'kusito',\n",
       " 'kuu',\n",
       " 'kuu',\n",
       " 'kuukuuvu',\n",
       " 'kuukuuvuto',\n",
       " 'kuuoa',\n",
       " 'kuupie',\n",
       " 'kuurea',\n",
       " 'kuuri',\n",
       " 'kuuva',\n",
       " 'kuuvaki',\n",
       " 'kuuvakito',\n",
       " 'kuuvato',\n",
       " 'kuuvavira',\n",
       " 'kuuvu',\n",
       " 'kuuvuvira',\n",
       " 'kuva',\n",
       " 'kuvaku',\n",
       " 'kuvato',\n",
       " 'kuvau',\n",
       " 'kuvaupie',\n",
       " 'kuvauvira',\n",
       " 'kuvera',\n",
       " 'kuverava',\n",
       " 'kuvere',\n",
       " 'kuverea',\n",
       " 'kuvereto',\n",
       " 'kuverevira',\n",
       " 'kuvoro',\n",
       " 'kuvu',\n",
       " 'kuvuara',\n",
       " 'kuvukuvu',\n",
       " 'kuvukuvua',\n",
       " 'kuvupato',\n",
       " 'kuvuto']"
      ]
     },
     "execution_count": 90,
     "metadata": {},
     "output_type": "execute_result"
    }
   ],
   "source": [
    "# 匹配辅音-元音序列\n",
    "rotokas_words = nltk.corpus.toolbox.words('rotokas.dic')\n",
    "rotokas_words"
   ]
  },
  {
   "cell_type": "code",
   "execution_count": 92,
   "metadata": {
    "collapsed": false
   },
   "outputs": [
    {
     "data": {
      "text/plain": [
       "ConditionalFreqDist(nltk.probability.FreqDist,\n",
       "                    {'k': FreqDist({'a': 418,\n",
       "                               'e': 148,\n",
       "                               'i': 94,\n",
       "                               'o': 420,\n",
       "                               'u': 173}),\n",
       "                     'p': FreqDist({'a': 83,\n",
       "                               'e': 31,\n",
       "                               'i': 105,\n",
       "                               'o': 34,\n",
       "                               'u': 51}),\n",
       "                     'r': FreqDist({'a': 187,\n",
       "                               'e': 63,\n",
       "                               'i': 84,\n",
       "                               'o': 89,\n",
       "                               'u': 79}),\n",
       "                     's': FreqDist({'i': 100, 'o': 2, 'u': 1}),\n",
       "                     't': FreqDist({'a': 47, 'e': 8, 'o': 148, 'u': 37}),\n",
       "                     'v': FreqDist({'a': 93,\n",
       "                               'e': 27,\n",
       "                               'i': 105,\n",
       "                               'o': 48,\n",
       "                               'u': 49})})"
      ]
     },
     "execution_count": 92,
     "metadata": {},
     "output_type": "execute_result"
    }
   ],
   "source": [
    "cvs = [cv for w in rotokas_words for cv in re.findall(r'[ptksvr][aeiou]',w)]\n",
    "cfd = nltk.ConditionalFreqDist(cvs)\n",
    "cfd"
   ]
  },
  {
   "cell_type": "code",
   "execution_count": 93,
   "metadata": {
    "collapsed": false
   },
   "outputs": [
    {
     "name": "stdout",
     "output_type": "stream",
     "text": [
      "    a   e   i   o   u \n",
      "k 418 148  94 420 173 \n",
      "p  83  31 105  34  51 \n",
      "r 187  63  84  89  79 \n",
      "s   0   0 100   2   1 \n",
      "t  47   8   0 148  37 \n",
      "v  93  27 105  48  49 \n"
     ]
    }
   ],
   "source": [
    "cfd.tabulate()"
   ]
  },
  {
   "cell_type": "code",
   "execution_count": 94,
   "metadata": {
    "collapsed": false
   },
   "outputs": [
    {
     "data": {
      "text/plain": [
       "['kasuari']"
      ]
     },
     "execution_count": 94,
     "metadata": {},
     "output_type": "execute_result"
    }
   ],
   "source": [
    "cv_word_pairs = [(cv, w) for w in rotokas_words\n",
    "                         for cv in re.findall(r'[ptksvr][aeiou]',w)]\n",
    "cv_index = nltk.Index(cv_word_pairs)\n",
    "cv_index['su']"
   ]
  },
  {
   "cell_type": "code",
   "execution_count": 95,
   "metadata": {
    "collapsed": false
   },
   "outputs": [
    {
     "data": {
      "text/plain": [
       "['kaekaesoto', 'kekesopa']"
      ]
     },
     "execution_count": 95,
     "metadata": {},
     "output_type": "execute_result"
    }
   ],
   "source": [
    "cv_index['so']"
   ]
  },
  {
   "cell_type": "markdown",
   "metadata": {},
   "source": [
    "### 查找词干"
   ]
  },
  {
   "cell_type": "markdown",
   "metadata": {},
   "source": [
    "方法1：使用正则表达式查找词干   \n",
    "方法2：使用NLTK内置的词干"
   ]
  },
  {
   "cell_type": "code",
   "execution_count": 100,
   "metadata": {
    "collapsed": false
   },
   "outputs": [],
   "source": [
    "def stem(word):\n",
    "    for suffix in ['ing','ly','ed','ious', 'ies','ivs','es','s','ment']:\n",
    "        if word.endswith(suffix):\n",
    "            return word[:-len(suffix)]\n",
    "    return (word)"
   ]
  },
  {
   "cell_type": "code",
   "execution_count": 101,
   "metadata": {
    "collapsed": false
   },
   "outputs": [
    {
     "data": {
      "text/plain": [
       "['ing']"
      ]
     },
     "execution_count": 101,
     "metadata": {},
     "output_type": "execute_result"
    }
   ],
   "source": [
    "re.findall(r'^.*(ing|ly|ed|ious|ies|ive|es|s|ment)$','processing')"
   ]
  },
  {
   "cell_type": "code",
   "execution_count": 102,
   "metadata": {
    "collapsed": false
   },
   "outputs": [
    {
     "data": {
      "text/plain": [
       "['processing']"
      ]
     },
     "execution_count": 102,
     "metadata": {},
     "output_type": "execute_result"
    }
   ],
   "source": [
    "# 用括号来指定链接的范围，但不想选择要输出的字符串，添加‘？：’\n",
    "re.findall(r'^.*(?:ing|ly|ed|ious|ies|ive|es|s|ment)$','processing')"
   ]
  },
  {
   "cell_type": "code",
   "execution_count": 111,
   "metadata": {
    "collapsed": false
   },
   "outputs": [
    {
     "data": {
      "text/plain": [
       "[('process', 'ing')]"
      ]
     },
     "execution_count": 111,
     "metadata": {},
     "output_type": "execute_result"
    },
    {
     "data": {
      "text/plain": [
       "[('processe', 's')]"
      ]
     },
     "execution_count": 111,
     "metadata": {},
     "output_type": "execute_result"
    },
    {
     "data": {
      "text/plain": [
       "[('process', 'es')]"
      ]
     },
     "execution_count": 111,
     "metadata": {},
     "output_type": "execute_result"
    },
    {
     "data": {
      "text/plain": [
       "[]"
      ]
     },
     "execution_count": 111,
     "metadata": {},
     "output_type": "execute_result"
    },
    {
     "data": {
      "text/plain": [
       "[('language', '')]"
      ]
     },
     "execution_count": 111,
     "metadata": {},
     "output_type": "execute_result"
    }
   ],
   "source": [
    "# 将词分为词干和后缀\n",
    "re.findall(r'^(.*)(ing|ly|ed|ious|ies|ive|es|s|ment)$','processing')\n",
    "re.findall(r'^(.*)(ing|ly|ed|ious|ies|ive|es|s|ment)$','processes')\n",
    "# 正则表达式错误地找到了后缀“ -s”， 而不是后缀“ -es”。 \n",
    "# 这表明另一个微妙之处：“ *”操作符是“ 贪婪的”，\n",
    "# 所以表达式的“ .*” 部分试图尽可能多的匹配输入的字符串。\n",
    "# 如果使用“ 非贪婪” 版本的“ *” 操作符，写成“ *?”，就得到想要的：\n",
    "re.findall(r'^(.*?)(ing|ly|ed|ious|ies|ive|es|s|ment)$','processes')\n",
    "# 可以使第二个括号中的内容变成可选\n",
    "re.findall(r'^(.*?)(ing|ly|ed|ious|ies|ive|es|s|ment)$','language')\n",
    "re.findall(r'^(.*?)(ing|ly|ed|ious|ies|ive|es|s|ment)?$','language')"
   ]
  },
  {
   "cell_type": "code",
   "execution_count": 112,
   "metadata": {
    "collapsed": true
   },
   "outputs": [],
   "source": [
    "def stem(word):\n",
    "    regexp = r'^(.*?)(ing|ly|ed|ious|ies|ive|es|s|ment)?$'\n",
    "    stem,suffix = re.findall(regexp, word)[0]\n",
    "    return stem"
   ]
  },
  {
   "cell_type": "code",
   "execution_count": 113,
   "metadata": {
    "collapsed": true
   },
   "outputs": [],
   "source": [
    "raw = \"\"\"DENNIS: Listen, strange women lying in ponds distributing swords\n",
    "... is no basis for a system of government.  Supreme executive power derives from\n",
    "... a mandate from the masses, not from some farcical aquatic ceremony.\"\"\""
   ]
  },
  {
   "cell_type": "code",
   "execution_count": 116,
   "metadata": {
    "collapsed": false
   },
   "outputs": [
    {
     "data": {
      "text/plain": [
       "['DENNIS', ':', 'Listen', ',', 'strange', 'women']"
      ]
     },
     "execution_count": 116,
     "metadata": {},
     "output_type": "execute_result"
    }
   ],
   "source": [
    "tokens = nltk.word_tokenize(raw)\n",
    "tokens[:6]"
   ]
  },
  {
   "cell_type": "code",
   "execution_count": 118,
   "metadata": {
    "collapsed": false
   },
   "outputs": [
    {
     "data": {
      "text/plain": [
       "['DENNIS',\n",
       " ':',\n",
       " 'Listen',\n",
       " ',',\n",
       " 'strange',\n",
       " 'women',\n",
       " 'ly',\n",
       " 'in',\n",
       " 'pond',\n",
       " 'distribut']"
      ]
     },
     "execution_count": 118,
     "metadata": {},
     "output_type": "execute_result"
    }
   ],
   "source": [
    "[stem(t) for t in tokens][:10]"
   ]
  },
  {
   "cell_type": "markdown",
   "metadata": {},
   "source": [
    "### 搜索已分词文本"
   ]
  },
  {
   "cell_type": "code",
   "execution_count": 119,
   "metadata": {
    "collapsed": false
   },
   "outputs": [
    {
     "data": {
      "text/plain": [
       "['[', 'Moby', 'Dick', 'by', 'Herman', 'Melville', ...]"
      ]
     },
     "execution_count": 119,
     "metadata": {},
     "output_type": "execute_result"
    }
   ],
   "source": [
    "from nltk.corpus import gutenberg, nps_chat\n",
    "gutenberg.words('melville-moby_dick.txt')"
   ]
  },
  {
   "cell_type": "code",
   "execution_count": 121,
   "metadata": {
    "collapsed": false
   },
   "outputs": [
    {
     "data": {
      "text/plain": [
       "<Text: Moby Dick by Herman Melville 1851>"
      ]
     },
     "execution_count": 121,
     "metadata": {},
     "output_type": "execute_result"
    }
   ],
   "source": [
    "moby = nltk.Text(gutenberg.words('melville-moby_dick.txt'))\n",
    "moby"
   ]
  },
  {
   "cell_type": "code",
   "execution_count": 123,
   "metadata": {
    "collapsed": false
   },
   "outputs": [
    {
     "name": "stdout",
     "output_type": "stream",
     "text": [
      "monied; nervous; dangerous; white; white; white; pious; queer; good;\n",
      "mature; white; Cape; great; wise; wise; butterless; white; fiendish;\n",
      "pale; furious; better; certain; complete; dismasted; younger; brave;\n",
      "brave; brave; brave\n"
     ]
    }
   ],
   "source": [
    "# 搜索文本中多个词，尖括号于标记标识符的边界，尖括号之间的所有空白都被忽略 （ 这只对 NLTK中的 findall()方法处理文本有效）\n",
    "moby.findall(r'<a> (<.*>) <man>')"
   ]
  },
  {
   "cell_type": "code",
   "execution_count": 126,
   "metadata": {
    "collapsed": false
   },
   "outputs": [
    {
     "name": "stdout",
     "output_type": "stream",
     "text": [
      "a monied man; a nervous man; a dangerous man; a white man; a white\n",
      "man; a white man; a pious man; a queer man; a good man; a mature man;\n",
      "a white man; a Cape man; a great man; a wise man; a wise man; a\n",
      "butterless man; a white man; a fiendish man; a pale man; a furious\n",
      "man; a better man; a certain man; a complete man; a dismasted man; a\n",
      "younger man; a brave man; a brave man; a brave man; a brave man\n"
     ]
    }
   ],
   "source": [
    "moby.findall(r'<a> <.*> <man>')"
   ]
  },
  {
   "cell_type": "code",
   "execution_count": 127,
   "metadata": {
    "collapsed": false
   },
   "outputs": [
    {
     "data": {
      "text/plain": [
       "<Text: now im left with this gay name :P...>"
      ]
     },
     "execution_count": 127,
     "metadata": {},
     "output_type": "execute_result"
    }
   ],
   "source": [
    "chat = nltk.Text(nps_chat.words())\n",
    "chat"
   ]
  },
  {
   "cell_type": "code",
   "execution_count": 128,
   "metadata": {
    "collapsed": false
   },
   "outputs": [
    {
     "name": "stdout",
     "output_type": "stream",
     "text": [
      "you rule bro; telling you bro; u twizted bro\n"
     ]
    }
   ],
   "source": [
    "# 选出以词bro为结尾的三个词组成的短语\n",
    "chat.findall(r'<.*><.*><bro>')"
   ]
  },
  {
   "cell_type": "code",
   "execution_count": 129,
   "metadata": {
    "collapsed": false
   },
   "outputs": [
    {
     "name": "stdout",
     "output_type": "stream",
     "text": [
      "lol lol lol; lmao lol lol; lol lol lol; la la la la la; la la la; la\n",
      "la la; lovely lol lol love; lol lol lol.; la la la; la la la\n"
     ]
    }
   ],
   "source": [
    "# 找出以l开头的连续三个词或多个词\n",
    "chat.findall(r'<l.*>{3,}')"
   ]
  },
  {
   "cell_type": "markdown",
   "metadata": {},
   "source": [
    "## 3.6规范化文本"
   ]
  },
  {
   "cell_type": "code",
   "execution_count": 133,
   "metadata": {
    "collapsed": false
   },
   "outputs": [],
   "source": [
    " raw = \"\"\"DENNIS: Listen, strange women lying in ponds distributing swords\n",
    "... is no basis for a system of government.  Supreme executive power derives from\n",
    "... a mandate from the masses, not from some farcical aquatic ceremony.\"\"\"\n",
    "tokens = nltk.word_tokenize(raw)"
   ]
  },
  {
   "cell_type": "markdown",
   "metadata": {},
   "source": [
    "### 词干提取器(stemmers)"
   ]
  },
  {
   "cell_type": "markdown",
   "metadata": {},
   "source": [
    "LTK 中包括了一些现成的词干提取器， 如果你需要一个词干提取器， 你应该优先使用\n",
    "它们中的一个，而不是使用正则表达式制作自己的词干提取器，因为NLTK 中的词干提取\n",
    "器能处理的不规则的情况很广泛。 Porter和Lancaster词干提取器按照它们自己的规则剥离\n",
    "词缀。请看Porter词干提取器正确处理了词 lying（将它映射为 lie），而Lancaster词干提取\n",
    "器并没有处理好"
   ]
  },
  {
   "cell_type": "code",
   "execution_count": 134,
   "metadata": {
    "collapsed": false
   },
   "outputs": [
    {
     "data": {
      "text/plain": [
       "<PorterStemmer>"
      ]
     },
     "execution_count": 134,
     "metadata": {},
     "output_type": "execute_result"
    }
   ],
   "source": [
    "porter = nltk.PorterStemmer()\n",
    "porter"
   ]
  },
  {
   "cell_type": "code",
   "execution_count": 135,
   "metadata": {
    "collapsed": false
   },
   "outputs": [
    {
     "data": {
      "text/plain": [
       "<LancasterStemmer>"
      ]
     },
     "execution_count": 135,
     "metadata": {},
     "output_type": "execute_result"
    }
   ],
   "source": [
    "lancaster = nltk.LancasterStemmer()\n",
    "lancaster"
   ]
  },
  {
   "cell_type": "code",
   "execution_count": 140,
   "metadata": {
    "collapsed": false
   },
   "outputs": [
    {
     "name": "stdout",
     "output_type": "stream",
     "text": [
      "['DENNIS', ':', 'Listen', ',', 'strange', 'women', 'lying', 'in', 'ponds', 'distributing', 'swords', 'is', 'no', 'basis', 'for', 'a', 'system', 'of', 'government', '.', 'Supreme', 'executive', 'power', 'derives', 'from', 'a', 'mandate', 'from', 'the', 'masses', ',', 'not', 'from', 'some', 'farcical', 'aquatic', 'ceremony', '.']\n"
     ]
    }
   ],
   "source": [
    "print(tokens)"
   ]
  },
  {
   "cell_type": "code",
   "execution_count": 138,
   "metadata": {
    "collapsed": false,
    "scrolled": true
   },
   "outputs": [
    {
     "name": "stdout",
     "output_type": "stream",
     "text": [
      "['denni', ':', 'listen', ',', 'strang', 'women', 'lie', 'in', 'pond', 'distribut', 'sword', 'is', 'no', 'basi', 'for', 'a', 'system', 'of', 'govern', '.', 'suprem', 'execut', 'power', 'deriv', 'from', 'a', 'mandat', 'from', 'the', 'mass', ',', 'not', 'from', 'some', 'farcic', 'aquat', 'ceremoni', '.']\n"
     ]
    }
   ],
   "source": [
    "print([porter.stem(t) for t in tokens])"
   ]
  },
  {
   "cell_type": "code",
   "execution_count": 139,
   "metadata": {
    "collapsed": false
   },
   "outputs": [
    {
     "name": "stdout",
     "output_type": "stream",
     "text": [
      "['den', ':', 'list', ',', 'strange', 'wom', 'lying', 'in', 'pond', 'distribut', 'sword', 'is', 'no', 'bas', 'for', 'a', 'system', 'of', 'govern', '.', 'suprem', 'execut', 'pow', 'der', 'from', 'a', 'mand', 'from', 'the', 'mass', ',', 'not', 'from', 'som', 'farc', 'aqu', 'ceremony', '.']\n"
     ]
    }
   ],
   "source": [
    "print([lancaster.stem(t) for t in tokens])"
   ]
  },
  {
   "cell_type": "code",
   "execution_count": null,
   "metadata": {
    "collapsed": true
   },
   "outputs": [],
   "source": []
  }
 ],
 "metadata": {
  "kernelspec": {
   "display_name": "Python 3",
   "language": "python",
   "name": "python3"
  },
  "language_info": {
   "codemirror_mode": {
    "name": "ipython",
    "version": 3
   },
   "file_extension": ".py",
   "mimetype": "text/x-python",
   "name": "python",
   "nbconvert_exporter": "python",
   "pygments_lexer": "ipython3",
   "version": "3.6.0"
  }
 },
 "nbformat": 4,
 "nbformat_minor": 2
}
